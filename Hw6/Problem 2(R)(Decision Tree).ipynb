{
 "cells": [
  {
   "cell_type": "markdown",
   "id": "01d44de1",
   "metadata": {},
   "source": [
    "# INSTALLING PACKAGES"
   ]
  },
  {
   "cell_type": "code",
   "execution_count": 16,
   "id": "b7e0eb13",
   "metadata": {},
   "outputs": [
    {
     "name": "stderr",
     "output_type": "stream",
     "text": [
      "Installing package into ‘/srv/rlibs’\n",
      "(as ‘lib’ is unspecified)\n",
      "\n",
      "Installing package into ‘/srv/rlibs’\n",
      "(as ‘lib’ is unspecified)\n",
      "\n",
      "Installing package into ‘/srv/rlibs’\n",
      "(as ‘lib’ is unspecified)\n",
      "\n",
      "also installing the dependencies ‘TH.data’, ‘matrixStats’, ‘multcomp’, ‘modeltools’, ‘strucchange’, ‘coin’, ‘zoo’, ‘sandwich’\n",
      "\n",
      "\n"
     ]
    }
   ],
   "source": [
    "install.packages('C50')\n",
    "install.packages('rpart.plot')\n",
    "install.packages('party')\n",
    "install.packages(\"caret\")"
   ]
  },
  {
   "cell_type": "markdown",
   "id": "f047cd89",
   "metadata": {},
   "source": [
    "# IMPORTING LIBRARIES"
   ]
  },
  {
   "cell_type": "code",
   "execution_count": 17,
   "id": "df4845c5",
   "metadata": {},
   "outputs": [
    {
     "name": "stderr",
     "output_type": "stream",
     "text": [
      "Loading required package: grid\n",
      "\n",
      "Loading required package: mvtnorm\n",
      "\n",
      "Loading required package: modeltools\n",
      "\n",
      "Loading required package: stats4\n",
      "\n",
      "Loading required package: strucchange\n",
      "\n",
      "Loading required package: zoo\n",
      "\n",
      "\n",
      "Attaching package: ‘zoo’\n",
      "\n",
      "\n",
      "The following objects are masked from ‘package:base’:\n",
      "\n",
      "    as.Date, as.Date.numeric\n",
      "\n",
      "\n",
      "Loading required package: sandwich\n",
      "\n"
     ]
    }
   ],
   "source": [
    "library(C50)\n",
    "library(rpart)\n",
    "library(rpart.plot)\n",
    "library(party)\n",
    "library(caret)"
   ]
  },
  {
   "cell_type": "markdown",
   "id": "cdbf6484",
   "metadata": {},
   "source": [
    "# LOADING DATA"
   ]
  },
  {
   "cell_type": "code",
   "execution_count": 18,
   "id": "562dddc1",
   "metadata": {},
   "outputs": [],
   "source": [
    "train = read.csv('https://raw.githubusercontent.com/bforoura/IDS/main/HW6/Loans_Training.csv')\n",
    "test = read.csv('https://raw.githubusercontent.com/bforoura/IDS/main/HW6/Loans_Test.csv')"
   ]
  },
  {
   "cell_type": "markdown",
   "id": "28d72687",
   "metadata": {},
   "source": [
    "# TOP FIVE OBSERVATIONS"
   ]
  },
  {
   "cell_type": "code",
   "execution_count": 5,
   "id": "4dae9867",
   "metadata": {},
   "outputs": [
    {
     "data": {
      "text/html": [
       "<table class=\"dataframe\">\n",
       "<caption>A data.frame: 6 × 5</caption>\n",
       "<thead>\n",
       "\t<tr><th></th><th scope=col>Approval</th><th scope=col>Debt.to.Income.Ratio</th><th scope=col>FICO.Score</th><th scope=col>Request.Amount</th><th scope=col>Interest</th></tr>\n",
       "\t<tr><th></th><th scope=col>&lt;lgl&gt;</th><th scope=col>&lt;dbl&gt;</th><th scope=col>&lt;int&gt;</th><th scope=col>&lt;int&gt;</th><th scope=col>&lt;dbl&gt;</th></tr>\n",
       "</thead>\n",
       "<tbody>\n",
       "\t<tr><th scope=row>1</th><td>FALSE</td><td>0</td><td>397</td><td>1000</td><td> 450</td></tr>\n",
       "\t<tr><th scope=row>2</th><td>FALSE</td><td>0</td><td>403</td><td> 500</td><td> 225</td></tr>\n",
       "\t<tr><th scope=row>3</th><td>FALSE</td><td>0</td><td>408</td><td>1000</td><td> 450</td></tr>\n",
       "\t<tr><th scope=row>4</th><td>FALSE</td><td>0</td><td>408</td><td>2000</td><td> 900</td></tr>\n",
       "\t<tr><th scope=row>5</th><td>FALSE</td><td>0</td><td>411</td><td>5000</td><td>2250</td></tr>\n",
       "\t<tr><th scope=row>6</th><td>FALSE</td><td>0</td><td>413</td><td>5000</td><td>2250</td></tr>\n",
       "</tbody>\n",
       "</table>\n"
      ],
      "text/latex": [
       "A data.frame: 6 × 5\n",
       "\\begin{tabular}{r|lllll}\n",
       "  & Approval & Debt.to.Income.Ratio & FICO.Score & Request.Amount & Interest\\\\\n",
       "  & <lgl> & <dbl> & <int> & <int> & <dbl>\\\\\n",
       "\\hline\n",
       "\t1 & FALSE & 0 & 397 & 1000 &  450\\\\\n",
       "\t2 & FALSE & 0 & 403 &  500 &  225\\\\\n",
       "\t3 & FALSE & 0 & 408 & 1000 &  450\\\\\n",
       "\t4 & FALSE & 0 & 408 & 2000 &  900\\\\\n",
       "\t5 & FALSE & 0 & 411 & 5000 & 2250\\\\\n",
       "\t6 & FALSE & 0 & 413 & 5000 & 2250\\\\\n",
       "\\end{tabular}\n"
      ],
      "text/markdown": [
       "\n",
       "A data.frame: 6 × 5\n",
       "\n",
       "| <!--/--> | Approval &lt;lgl&gt; | Debt.to.Income.Ratio &lt;dbl&gt; | FICO.Score &lt;int&gt; | Request.Amount &lt;int&gt; | Interest &lt;dbl&gt; |\n",
       "|---|---|---|---|---|---|\n",
       "| 1 | FALSE | 0 | 397 | 1000 |  450 |\n",
       "| 2 | FALSE | 0 | 403 |  500 |  225 |\n",
       "| 3 | FALSE | 0 | 408 | 1000 |  450 |\n",
       "| 4 | FALSE | 0 | 408 | 2000 |  900 |\n",
       "| 5 | FALSE | 0 | 411 | 5000 | 2250 |\n",
       "| 6 | FALSE | 0 | 413 | 5000 | 2250 |\n",
       "\n"
      ],
      "text/plain": [
       "  Approval Debt.to.Income.Ratio FICO.Score Request.Amount Interest\n",
       "1 FALSE    0                    397        1000            450    \n",
       "2 FALSE    0                    403         500            225    \n",
       "3 FALSE    0                    408        1000            450    \n",
       "4 FALSE    0                    408        2000            900    \n",
       "5 FALSE    0                    411        5000           2250    \n",
       "6 FALSE    0                    413        5000           2250    "
      ]
     },
     "metadata": {},
     "output_type": "display_data"
    }
   ],
   "source": [
    "head(train)"
   ]
  },
  {
   "cell_type": "code",
   "execution_count": 6,
   "id": "4fad0cd9",
   "metadata": {},
   "outputs": [
    {
     "data": {
      "text/html": [
       "<table class=\"dataframe\">\n",
       "<caption>A data.frame: 6 × 5</caption>\n",
       "<thead>\n",
       "\t<tr><th></th><th scope=col>Approval</th><th scope=col>Debt.to.Income.Ratio</th><th scope=col>FICO.Score</th><th scope=col>Request.Amount</th><th scope=col>Interest</th></tr>\n",
       "\t<tr><th></th><th scope=col>&lt;lgl&gt;</th><th scope=col>&lt;dbl&gt;</th><th scope=col>&lt;int&gt;</th><th scope=col>&lt;int&gt;</th><th scope=col>&lt;dbl&gt;</th></tr>\n",
       "</thead>\n",
       "<tbody>\n",
       "\t<tr><th scope=row>1</th><td>FALSE</td><td>0</td><td>413</td><td>2000</td><td> 900</td></tr>\n",
       "\t<tr><th scope=row>2</th><td>FALSE</td><td>0</td><td>449</td><td>1000</td><td> 450</td></tr>\n",
       "\t<tr><th scope=row>3</th><td>FALSE</td><td>0</td><td>454</td><td>6000</td><td>2700</td></tr>\n",
       "\t<tr><th scope=row>4</th><td>FALSE</td><td>0</td><td>456</td><td>1000</td><td> 450</td></tr>\n",
       "\t<tr><th scope=row>5</th><td>FALSE</td><td>0</td><td>457</td><td>1000</td><td> 450</td></tr>\n",
       "\t<tr><th scope=row>6</th><td>FALSE</td><td>0</td><td>457</td><td>8000</td><td>3600</td></tr>\n",
       "</tbody>\n",
       "</table>\n"
      ],
      "text/latex": [
       "A data.frame: 6 × 5\n",
       "\\begin{tabular}{r|lllll}\n",
       "  & Approval & Debt.to.Income.Ratio & FICO.Score & Request.Amount & Interest\\\\\n",
       "  & <lgl> & <dbl> & <int> & <int> & <dbl>\\\\\n",
       "\\hline\n",
       "\t1 & FALSE & 0 & 413 & 2000 &  900\\\\\n",
       "\t2 & FALSE & 0 & 449 & 1000 &  450\\\\\n",
       "\t3 & FALSE & 0 & 454 & 6000 & 2700\\\\\n",
       "\t4 & FALSE & 0 & 456 & 1000 &  450\\\\\n",
       "\t5 & FALSE & 0 & 457 & 1000 &  450\\\\\n",
       "\t6 & FALSE & 0 & 457 & 8000 & 3600\\\\\n",
       "\\end{tabular}\n"
      ],
      "text/markdown": [
       "\n",
       "A data.frame: 6 × 5\n",
       "\n",
       "| <!--/--> | Approval &lt;lgl&gt; | Debt.to.Income.Ratio &lt;dbl&gt; | FICO.Score &lt;int&gt; | Request.Amount &lt;int&gt; | Interest &lt;dbl&gt; |\n",
       "|---|---|---|---|---|---|\n",
       "| 1 | FALSE | 0 | 413 | 2000 |  900 |\n",
       "| 2 | FALSE | 0 | 449 | 1000 |  450 |\n",
       "| 3 | FALSE | 0 | 454 | 6000 | 2700 |\n",
       "| 4 | FALSE | 0 | 456 | 1000 |  450 |\n",
       "| 5 | FALSE | 0 | 457 | 1000 |  450 |\n",
       "| 6 | FALSE | 0 | 457 | 8000 | 3600 |\n",
       "\n"
      ],
      "text/plain": [
       "  Approval Debt.to.Income.Ratio FICO.Score Request.Amount Interest\n",
       "1 FALSE    0                    413        2000            900    \n",
       "2 FALSE    0                    449        1000            450    \n",
       "3 FALSE    0                    454        6000           2700    \n",
       "4 FALSE    0                    456        1000            450    \n",
       "5 FALSE    0                    457        1000            450    \n",
       "6 FALSE    0                    457        8000           3600    "
      ]
     },
     "metadata": {},
     "output_type": "display_data"
    }
   ],
   "source": [
    "head(test)"
   ]
  },
  {
   "cell_type": "markdown",
   "id": "76bade77",
   "metadata": {},
   "source": [
    "# DATA SHAPE"
   ]
  },
  {
   "cell_type": "code",
   "execution_count": 19,
   "id": "d2c6930b",
   "metadata": {},
   "outputs": [
    {
     "name": "stdout",
     "output_type": "stream",
     "text": [
      "[1] 150302      5\n",
      "[1] 49698     5\n"
     ]
    }
   ],
   "source": [
    "print(dim(train))\n",
    "print(dim(test))"
   ]
  },
  {
   "cell_type": "markdown",
   "id": "b847a40d",
   "metadata": {},
   "source": [
    "# DATA TYPE"
   ]
  },
  {
   "cell_type": "code",
   "execution_count": 8,
   "id": "72ad93ee",
   "metadata": {},
   "outputs": [
    {
     "name": "stdout",
     "output_type": "stream",
     "text": [
      "'data.frame':\t150302 obs. of  5 variables:\n",
      " $ Approval            : logi  FALSE FALSE FALSE FALSE FALSE FALSE ...\n",
      " $ Debt.to.Income.Ratio: num  0 0 0 0 0 0 0 0 0 0 ...\n",
      " $ FICO.Score          : int  397 403 408 408 411 413 416 421 422 432 ...\n",
      " $ Request.Amount      : int  1000 500 1000 2000 5000 5000 6000 2000 12000 10000 ...\n",
      " $ Interest            : num  450 225 450 900 2250 2250 2700 900 5400 4500 ...\n"
     ]
    }
   ],
   "source": [
    "str(train)"
   ]
  },
  {
   "cell_type": "code",
   "execution_count": 9,
   "id": "3a714c5e",
   "metadata": {},
   "outputs": [
    {
     "name": "stdout",
     "output_type": "stream",
     "text": [
      "'data.frame':\t49698 obs. of  5 variables:\n",
      " $ Approval            : logi  FALSE FALSE FALSE FALSE FALSE FALSE ...\n",
      " $ Debt.to.Income.Ratio: num  0 0 0 0 0 0 0 0 0 0 ...\n",
      " $ FICO.Score          : int  413 449 454 456 457 457 459 461 461 462 ...\n",
      " $ Request.Amount      : int  2000 1000 6000 1000 1000 8000 8000 500 6000 19000 ...\n",
      " $ Interest            : num  900 450 2700 450 450 3600 3600 225 2700 8550 ...\n"
     ]
    }
   ],
   "source": [
    "str(test)"
   ]
  },
  {
   "cell_type": "markdown",
   "id": "fbf8d144",
   "metadata": {},
   "source": [
    "# MISSING VALUES"
   ]
  },
  {
   "cell_type": "code",
   "execution_count": 11,
   "id": "86e93e2f",
   "metadata": {},
   "outputs": [
    {
     "data": {
      "text/html": [
       "0"
      ],
      "text/latex": [
       "0"
      ],
      "text/markdown": [
       "0"
      ],
      "text/plain": [
       "[1] 0"
      ]
     },
     "metadata": {},
     "output_type": "display_data"
    }
   ],
   "source": [
    "sum(is.na(train))"
   ]
  },
  {
   "cell_type": "code",
   "execution_count": 12,
   "id": "f3635bf8",
   "metadata": {},
   "outputs": [
    {
     "data": {
      "text/html": [
       "0"
      ],
      "text/latex": [
       "0"
      ],
      "text/markdown": [
       "0"
      ],
      "text/plain": [
       "[1] 0"
      ]
     },
     "metadata": {},
     "output_type": "display_data"
    }
   ],
   "source": [
    "sum(is.na(test))"
   ]
  },
  {
   "cell_type": "markdown",
   "id": "add95b9a",
   "metadata": {},
   "source": [
    "# CHEKING DISTRIBUTION OF THE APPROVAL FEATURE"
   ]
  },
  {
   "cell_type": "code",
   "execution_count": 20,
   "id": "01674a7e",
   "metadata": {},
   "outputs": [
    {
     "data": {
      "text/plain": [
       "\n",
       "    FALSE      TRUE \n",
       "0.4994345 0.5005655 "
      ]
     },
     "metadata": {},
     "output_type": "display_data"
    }
   ],
   "source": [
    "prop.table(table(train$Approval))"
   ]
  },
  {
   "cell_type": "code",
   "execution_count": 21,
   "id": "453a4b8c",
   "metadata": {},
   "outputs": [
    {
     "data": {
      "text/plain": [
       "\n",
       "    FALSE      TRUE \n",
       "0.5017103 0.4982897 "
      ]
     },
     "metadata": {},
     "output_type": "display_data"
    }
   ],
   "source": [
    "prop.table(table(test$Approval))"
   ]
  },
  {
   "cell_type": "markdown",
   "id": "2fee803d",
   "metadata": {},
   "source": [
    "# CART MODEL"
   ]
  },
  {
   "cell_type": "code",
   "execution_count": 52,
   "id": "d5c59d70",
   "metadata": {},
   "outputs": [],
   "source": [
    "set.seed(123)\n",
    "cart = rpart(Approval~., data=train,  method=\"class\")"
   ]
  },
  {
   "cell_type": "code",
   "execution_count": 77,
   "id": "79c78788",
   "metadata": {},
   "outputs": [
    {
     "data": {
      "text/plain": [
       "n= 150302 \n",
       "\n",
       "node), split, n, loss, yval, (yprob)\n",
       "      * denotes terminal node\n",
       "\n",
       "1) root 150302 75066 TRUE (0.49943447 0.50056553)  \n",
       "  2) FICO.Score< 659.5 46002  1808 FALSE (0.96069736 0.03930264) *\n",
       "  3) FICO.Score>=659.5 104300 30872 TRUE (0.29599233 0.70400767)  \n",
       "    6) Debt.to.Income.Ratio>=0.305 12873  1679 FALSE (0.86957197 0.13042803) *\n",
       "    7) Debt.to.Income.Ratio< 0.305 91427 19678 TRUE (0.21523182 0.78476818) *"
      ]
     },
     "metadata": {},
     "output_type": "display_data"
    }
   ],
   "source": [
    "cart"
   ]
  },
  {
   "cell_type": "code",
   "execution_count": 78,
   "id": "664dfe90",
   "metadata": {},
   "outputs": [
    {
     "data": {
      "image/png": "[encoded data removed]",
      "text/plain": [
       "plot without title"
      ]
     },
     "metadata": {
      "image/png": {
       "height": 420,
       "width": 420
      }
     },
     "output_type": "display_data"
    }
   ],
   "source": [
    "rpart.plot(cart, digits = 3)"
   ]
  },
  {
   "cell_type": "markdown",
   "id": "0ee0810b",
   "metadata": {},
   "source": [
    "Note:\n",
    "- If FICO score is greater than 660 & Debt to income ratio >=0.305 then loan approved\n",
    "- If FICO score is greater than 660 but Debt to income ratio <0.305 then loan rejected\n",
    "- If FICO score is less than 660 then loan rejected"
   ]
  },
  {
   "cell_type": "code",
   "execution_count": 55,
   "id": "1417670e",
   "metadata": {},
   "outputs": [
    {
     "name": "stdout",
     "output_type": "stream",
     "text": [
      "          FICO.Score Debt.to.Income.Ratio             Interest \n",
      "          28208.7726            9664.7302             179.6698 \n",
      "      Request.Amount \n",
      "            179.6698 \n"
     ]
    }
   ],
   "source": [
    "print(cart$variable.importance)"
   ]
  },
  {
   "cell_type": "markdown",
   "id": "c8f69f71",
   "metadata": {},
   "source": [
    "# PREDICTION ON TEST DATA"
   ]
  },
  {
   "cell_type": "code",
   "execution_count": 71,
   "id": "037fa9cd",
   "metadata": {},
   "outputs": [],
   "source": [
    "pred <- predict(cart, test, 'class')"
   ]
  },
  {
   "cell_type": "code",
   "execution_count": 72,
   "id": "3f546117",
   "metadata": {},
   "outputs": [
    {
     "data": {
      "text/html": [
       "<style>\n",
       ".dl-inline {width: auto; margin:0; padding: 0}\n",
       ".dl-inline>dt, .dl-inline>dd {float: none; width: auto; display: inline-block}\n",
       ".dl-inline>dt::after {content: \":\\0020\"; padding-right: .5ex}\n",
       ".dl-inline>dt:not(:first-of-type) {padding-left: .5ex}\n",
       "</style><dl class=dl-inline><dt>1</dt><dd>FALSE</dd><dt>2</dt><dd>FALSE</dd><dt>3</dt><dd>FALSE</dd><dt>4</dt><dd>FALSE</dd><dt>5</dt><dd>FALSE</dd></dl>\n",
       "\n",
       "<details>\n",
       "\t<summary style=display:list-item;cursor:pointer>\n",
       "\t\t<strong>Levels</strong>:\n",
       "\t</summary>\n",
       "\t<style>\n",
       "\t.list-inline {list-style: none; margin:0; padding: 0}\n",
       "\t.list-inline>li {display: inline-block}\n",
       "\t.list-inline>li:not(:last-child)::after {content: \"\\00b7\"; padding: 0 .5ex}\n",
       "\t</style>\n",
       "\t<ol class=list-inline><li>'FALSE'</li><li>'TRUE'</li></ol>\n",
       "</details>"
      ],
      "text/latex": [
       "\\begin{description*}\n",
       "\\item[1] FALSE\n",
       "\\item[2] FALSE\n",
       "\\item[3] FALSE\n",
       "\\item[4] FALSE\n",
       "\\item[5] FALSE\n",
       "\\end{description*}\n",
       "\n",
       "\\emph{Levels}: \\begin{enumerate*}\n",
       "\\item 'FALSE'\n",
       "\\item 'TRUE'\n",
       "\\end{enumerate*}\n"
      ],
      "text/markdown": [
       "1\n",
       ":   FALSE2\n",
       ":   FALSE3\n",
       ":   FALSE4\n",
       ":   FALSE5\n",
       ":   FALSE\n",
       "\n",
       "\n",
       "**Levels**: 1. 'FALSE'\n",
       "2. 'TRUE'\n",
       "\n",
       "\n"
      ],
      "text/plain": [
       "    1     2     3     4     5 \n",
       "FALSE FALSE FALSE FALSE FALSE \n",
       "Levels: FALSE TRUE"
      ]
     },
     "metadata": {},
     "output_type": "display_data"
    }
   ],
   "source": [
    "pred[1:5]"
   ]
  },
  {
   "cell_type": "markdown",
   "id": "f4c11e33",
   "metadata": {},
   "source": [
    "# CONFUSION MATRIX"
   ]
  },
  {
   "cell_type": "code",
   "execution_count": 58,
   "id": "0daf1fa6",
   "metadata": {},
   "outputs": [
    {
     "data": {
      "text/plain": [
       "Confusion Matrix and Statistics\n",
       "\n",
       "       pred\n",
       "        FALSE  TRUE\n",
       "  FALSE 18314  6620\n",
       "  TRUE   1171 23593\n",
       "                                        \n",
       "               Accuracy : 0.8432        \n",
       "                 95% CI : (0.84, 0.8464)\n",
       "    No Information Rate : 0.6079        \n",
       "    P-Value [Acc > NIR] : < 2.2e-16     \n",
       "                                        \n",
       "                  Kappa : 0.6867        \n",
       "                                        \n",
       " Mcnemar's Test P-Value : < 2.2e-16     \n",
       "                                        \n",
       "            Sensitivity : 0.9399        \n",
       "            Specificity : 0.7809        \n",
       "         Pos Pred Value : 0.7345        \n",
       "         Neg Pred Value : 0.9527        \n",
       "             Prevalence : 0.3921        \n",
       "         Detection Rate : 0.3685        \n",
       "   Detection Prevalence : 0.5017        \n",
       "      Balanced Accuracy : 0.8604        \n",
       "                                        \n",
       "       'Positive' Class : FALSE         \n",
       "                                        "
      ]
     },
     "metadata": {},
     "output_type": "display_data"
    }
   ],
   "source": [
    "confusionMatrix(table(test$Approval, pred))"
   ]
  },
  {
   "cell_type": "markdown",
   "id": "67fe674b",
   "metadata": {},
   "source": [
    "# C5"
   ]
  },
  {
   "cell_type": "code",
   "execution_count": 51,
   "id": "8989ec5f",
   "metadata": {},
   "outputs": [],
   "source": [
    "train$Approval = as.factor(train$Approval)"
   ]
  },
  {
   "cell_type": "code",
   "execution_count": 79,
   "id": "20386476",
   "metadata": {},
   "outputs": [],
   "source": [
    "c5 = C5.0(train[,-1], train[,1], control = C5.0Control(minCases=1000))"
   ]
  },
  {
   "cell_type": "code",
   "execution_count": 80,
   "id": "49228849",
   "metadata": {},
   "outputs": [
    {
     "data": {
      "text/plain": [
       "\n",
       "Call:\n",
       "C5.0.default(x = train[, -1], y = train[, 1], control = C5.0Control(minCases\n",
       " = 1000))\n",
       "\n",
       "Classification Tree\n",
       "Number of samples: 150302 \n",
       "Number of predictors: 4 \n",
       "\n",
       "Tree size: 8 \n",
       "\n",
       "Non-standard options: attempt to group attributes, minimum number of cases: 1000\n"
      ]
     },
     "metadata": {},
     "output_type": "display_data"
    }
   ],
   "source": [
    "c5"
   ]
  },
  {
   "cell_type": "code",
   "execution_count": 86,
   "id": "72ae43bb",
   "metadata": {},
   "outputs": [
    {
     "data": {
      "image/png": "[encoded data removed]",
      "text/plain": [
       "plot without title"
      ]
     },
     "metadata": {
      "image/png": {
       "height": 420,
       "width": 420
      }
     },
     "output_type": "display_data"
    }
   ],
   "source": [
    "plot(c5, type = 'simple')"
   ]
  },
  {
   "cell_type": "markdown",
   "id": "ea79b3b0",
   "metadata": {},
   "source": [
    "Note:\n",
    "- If Debt to income ratio is greater than 0.31 then rejected a loan\n",
    "- If Debt to income ratio is less than or equals to 0.31 but FICO Score is less than or equals to 655 then rejected a loan\n",
    "- If Debt to income ratio is less than or equals to 0.31 and FICO Score is greater than 655:\n",
    "    - FICO range 655-669 & Request amount is less than 23000 but FICO Score is greater than 661 then Approved Loan"
   ]
  },
  {
   "cell_type": "markdown",
   "id": "555609e0",
   "metadata": {},
   "source": [
    "# PREDICTION ON TEST DATA"
   ]
  },
  {
   "cell_type": "code",
   "execution_count": 87,
   "id": "0c54f905",
   "metadata": {},
   "outputs": [],
   "source": [
    "pred2 <- predict(c5, test)"
   ]
  },
  {
   "cell_type": "code",
   "execution_count": 88,
   "id": "7b2cb99d",
   "metadata": {},
   "outputs": [
    {
     "data": {
      "text/html": [
       "<style>\n",
       ".list-inline {list-style: none; margin:0; padding: 0}\n",
       ".list-inline>li {display: inline-block}\n",
       ".list-inline>li:not(:last-child)::after {content: \"\\00b7\"; padding: 0 .5ex}\n",
       "</style>\n",
       "<ol class=list-inline><li>FALSE</li><li>FALSE</li><li>FALSE</li><li>FALSE</li><li>FALSE</li></ol>\n",
       "\n",
       "<details>\n",
       "\t<summary style=display:list-item;cursor:pointer>\n",
       "\t\t<strong>Levels</strong>:\n",
       "\t</summary>\n",
       "\t<style>\n",
       "\t.list-inline {list-style: none; margin:0; padding: 0}\n",
       "\t.list-inline>li {display: inline-block}\n",
       "\t.list-inline>li:not(:last-child)::after {content: \"\\00b7\"; padding: 0 .5ex}\n",
       "\t</style>\n",
       "\t<ol class=list-inline><li>'FALSE'</li><li>'TRUE'</li></ol>\n",
       "</details>"
      ],
      "text/latex": [
       "\\begin{enumerate*}\n",
       "\\item FALSE\n",
       "\\item FALSE\n",
       "\\item FALSE\n",
       "\\item FALSE\n",
       "\\item FALSE\n",
       "\\end{enumerate*}\n",
       "\n",
       "\\emph{Levels}: \\begin{enumerate*}\n",
       "\\item 'FALSE'\n",
       "\\item 'TRUE'\n",
       "\\end{enumerate*}\n"
      ],
      "text/markdown": [
       "1. FALSE\n",
       "2. FALSE\n",
       "3. FALSE\n",
       "4. FALSE\n",
       "5. FALSE\n",
       "\n",
       "\n",
       "\n",
       "**Levels**: 1. 'FALSE'\n",
       "2. 'TRUE'\n",
       "\n",
       "\n"
      ],
      "text/plain": [
       "[1] FALSE FALSE FALSE FALSE FALSE\n",
       "Levels: FALSE TRUE"
      ]
     },
     "metadata": {},
     "output_type": "display_data"
    }
   ],
   "source": [
    "pred2[0:5]"
   ]
  },
  {
   "cell_type": "markdown",
   "id": "6e0a7b44",
   "metadata": {},
   "source": [
    "# CONFUSION MATRIX"
   ]
  },
  {
   "cell_type": "code",
   "execution_count": 89,
   "id": "620393eb",
   "metadata": {},
   "outputs": [
    {
     "data": {
      "text/plain": [
       "Confusion Matrix and Statistics\n",
       "\n",
       "       pred2\n",
       "        FALSE  TRUE\n",
       "  FALSE 18842  6092\n",
       "  TRUE   1504 23260\n",
       "                                         \n",
       "               Accuracy : 0.8472         \n",
       "                 95% CI : (0.844, 0.8503)\n",
       "    No Information Rate : 0.5906         \n",
       "    P-Value [Acc > NIR] : < 2.2e-16      \n",
       "                                         \n",
       "                  Kappa : 0.6945         \n",
       "                                         \n",
       " Mcnemar's Test P-Value : < 2.2e-16      \n",
       "                                         \n",
       "            Sensitivity : 0.9261         \n",
       "            Specificity : 0.7925         \n",
       "         Pos Pred Value : 0.7557         \n",
       "         Neg Pred Value : 0.9393         \n",
       "             Prevalence : 0.4094         \n",
       "         Detection Rate : 0.3791         \n",
       "   Detection Prevalence : 0.5017         \n",
       "      Balanced Accuracy : 0.8593         \n",
       "                                         \n",
       "       'Positive' Class : FALSE          \n",
       "                                         "
      ]
     },
     "metadata": {},
     "output_type": "display_data"
    }
   ],
   "source": [
    "confusionMatrix(table(test$Approval, pred2))"
   ]
  },
  {
   "cell_type": "markdown",
   "id": "8681c44f",
   "metadata": {},
   "source": [
    "# COMPARISION"
   ]
  },
  {
   "attachments": {
    "image-2.png": {
     "image/png": "[encoded data removed]"
    }
   },
   "cell_type": "markdown",
   "id": "890283ec",
   "metadata": {},
   "source": [
    "\t\t\t\t\t\t\t\n",
    "![image-2.png](attachment:image-2.png)"
   ]
  }
 ],
 "metadata": {
  "kernelspec": {
   "display_name": "R",
   "language": "R",
   "name": "ir"
  },
  "language_info": {
   "codemirror_mode": "r",
   "file_extension": ".r",
   "mimetype": "text/x-r-source",
   "name": "R",
   "pygments_lexer": "r",
   "version": "4.1.2"
  }
 },
 "nbformat": 4,
 "nbformat_minor": 5
}
