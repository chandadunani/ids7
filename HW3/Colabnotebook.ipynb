{
 "cells": [
  {
   "cell_type": "code",
   "execution_count": null,
   "id": "737080cb",
   "metadata": {},
   "outputs": [],
   "source": [
    "pip install mysql-connector-python"
   ]
  },
  {
   "cell_type": "code",
   "execution_count": 53,
   "id": "5246cf9a",
   "metadata": {},
   "outputs": [],
   "source": [
    "import pandas as pd\n",
    "import mysql.connector as sql\n",
    "import seaborn as sns\n",
    "import numpy as np\n",
    "import matplotlib.pyplot as plt\n",
    "\n",
    "from sklearn.linear_model import LinearRegression\n",
    "from sklearn.model_selection import train_test_split\n",
    "from sklearn.metrics import r2_score,mean_squared_error"
   ]
  },
  {
   "cell_type": "code",
   "execution_count": 7,
   "id": "9b41ae53",
   "metadata": {},
   "outputs": [],
   "source": [
    "db_connection = sql.connect(host='127.0.0.0', database='db', user='root', password='password')\n",
    "db_cursor = db_connection.cursor()\n",
    "db_cursor.execute('SELECT * FROM dataset')\n",
    "\n",
    "table_rows = db_cursor.fetchall()\n",
    "file = pd.DataFrame(table_rows) '''"
   ]
  },
  {
   "cell_type": "markdown",
   "id": "b5b40cb5",
   "metadata": {},
   "source": [
    "## Reading the file"
   ]
  },
  {
   "cell_type": "markdown",
   "id": "5066b098",
   "metadata": {},
   "source": [
    "# Copying the file to prevent accidental changes."
   ]
  },
  {
   "cell_type": "code",
   "execution_count": 64,
   "id": "34d33238",
   "metadata": {},
   "outputs": [
    {
     "name": "stdout",
     "output_type": "stream",
     "text": [
      "<class 'pandas.core.frame.DataFrame'>\n",
      "RangeIndex: 707 entries, 0 to 706\n",
      "Data columns (total 11 columns):\n",
      " #   Column                  Non-Null Count  Dtype  \n",
      "---  ------                  --------------  -----  \n",
      " 0   Country                 707 non-null    object \n",
      " 1   Year                    707 non-null    int64  \n",
      " 2   Life_Expectancy         707 non-null    float64\n",
      " 3   Adult_Mortality         707 non-null    int64  \n",
      " 4   Alcohol                 707 non-null    float64\n",
      " 5   Percentage_Expenditure  707 non-null    float64\n",
      " 6   BMI                     707 non-null    float64\n",
      " 7   Total_Expenditure       707 non-null    float64\n",
      " 8   GDP                     707 non-null    float64\n",
      " 9   Population              707 non-null    int64  \n",
      " 10  Schooling               707 non-null    float64\n",
      "dtypes: float64(7), int64(3), object(1)\n",
      "memory usage: 60.9+ KB\n"
     ]
    },
    {
     "data": {
      "text/html": [
       "<div>\n",
       "<style scoped>\n",
       "    .dataframe tbody tr th:only-of-type {\n",
       "        vertical-align: middle;\n",
       "    }\n",
       "\n",
       "    .dataframe tbody tr th {\n",
       "        vertical-align: top;\n",
       "    }\n",
       "\n",
       "    .dataframe thead th {\n",
       "        text-align: right;\n",
       "    }\n",
       "</style>\n",
       "<table border=\"1\" class=\"dataframe\">\n",
       "  <thead>\n",
       "    <tr style=\"text-align: right;\">\n",
       "      <th></th>\n",
       "      <th>Country</th>\n",
       "      <th>Year</th>\n",
       "      <th>Life_Expectancy</th>\n",
       "      <th>Adult_Mortality</th>\n",
       "      <th>Alcohol</th>\n",
       "      <th>Percentage_Expenditure</th>\n",
       "      <th>BMI</th>\n",
       "      <th>Total_Expenditure</th>\n",
       "      <th>GDP</th>\n",
       "      <th>Population</th>\n",
       "      <th>Schooling</th>\n",
       "    </tr>\n",
       "  </thead>\n",
       "  <tbody>\n",
       "    <tr>\n",
       "      <th>0</th>\n",
       "      <td>Afghanistan</td>\n",
       "      <td>2010</td>\n",
       "      <td>58.8</td>\n",
       "      <td>279</td>\n",
       "      <td>0.01</td>\n",
       "      <td>79.679367</td>\n",
       "      <td>16.7</td>\n",
       "      <td>9.20</td>\n",
       "      <td>553.328940</td>\n",
       "      <td>2883167</td>\n",
       "      <td>9.2</td>\n",
       "    </tr>\n",
       "    <tr>\n",
       "      <th>1</th>\n",
       "      <td>Afghanistan</td>\n",
       "      <td>2011</td>\n",
       "      <td>59.2</td>\n",
       "      <td>275</td>\n",
       "      <td>0.01</td>\n",
       "      <td>7.097109</td>\n",
       "      <td>17.2</td>\n",
       "      <td>7.87</td>\n",
       "      <td>63.537231</td>\n",
       "      <td>2978599</td>\n",
       "      <td>9.5</td>\n",
       "    </tr>\n",
       "    <tr>\n",
       "      <th>2</th>\n",
       "      <td>Afghanistan</td>\n",
       "      <td>2012</td>\n",
       "      <td>59.5</td>\n",
       "      <td>272</td>\n",
       "      <td>0.01</td>\n",
       "      <td>78.184215</td>\n",
       "      <td>17.6</td>\n",
       "      <td>8.52</td>\n",
       "      <td>669.959000</td>\n",
       "      <td>3696958</td>\n",
       "      <td>9.8</td>\n",
       "    </tr>\n",
       "    <tr>\n",
       "      <th>3</th>\n",
       "      <td>Afghanistan</td>\n",
       "      <td>2013</td>\n",
       "      <td>59.9</td>\n",
       "      <td>268</td>\n",
       "      <td>0.01</td>\n",
       "      <td>73.219243</td>\n",
       "      <td>18.1</td>\n",
       "      <td>8.13</td>\n",
       "      <td>631.744976</td>\n",
       "      <td>31731688</td>\n",
       "      <td>9.9</td>\n",
       "    </tr>\n",
       "    <tr>\n",
       "      <th>4</th>\n",
       "      <td>Afghanistan</td>\n",
       "      <td>2014</td>\n",
       "      <td>59.9</td>\n",
       "      <td>271</td>\n",
       "      <td>0.01</td>\n",
       "      <td>73.523582</td>\n",
       "      <td>18.6</td>\n",
       "      <td>8.18</td>\n",
       "      <td>612.696514</td>\n",
       "      <td>327582</td>\n",
       "      <td>10.0</td>\n",
       "    </tr>\n",
       "  </tbody>\n",
       "</table>\n",
       "</div>"
      ],
      "text/plain": [
       "       Country  Year  Life_Expectancy  Adult_Mortality  Alcohol  \\\n",
       "0  Afghanistan  2010             58.8              279     0.01   \n",
       "1  Afghanistan  2011             59.2              275     0.01   \n",
       "2  Afghanistan  2012             59.5              272     0.01   \n",
       "3  Afghanistan  2013             59.9              268     0.01   \n",
       "4  Afghanistan  2014             59.9              271     0.01   \n",
       "\n",
       "   Percentage_Expenditure   BMI  Total_Expenditure         GDP  Population  \\\n",
       "0               79.679367  16.7               9.20  553.328940     2883167   \n",
       "1                7.097109  17.2               7.87   63.537231     2978599   \n",
       "2               78.184215  17.6               8.52  669.959000     3696958   \n",
       "3               73.219243  18.1               8.13  631.744976    31731688   \n",
       "4               73.523582  18.6               8.18  612.696514      327582   \n",
       "\n",
       "   Schooling  \n",
       "0        9.2  \n",
       "1        9.5  \n",
       "2        9.8  \n",
       "3        9.9  \n",
       "4       10.0  "
      ]
     },
     "execution_count": 64,
     "metadata": {},
     "output_type": "execute_result"
    }
   ],
   "source": [
    "data = file.copy()\n",
    "data.info()\n",
    "data.head()\n"
   ]
  },
  {
   "cell_type": "markdown",
   "id": "f577cd5a",
   "metadata": {},
   "source": [
    "# Plotting the Corelation Matrix to get better insights.\n",
    "#Based on our observation on the Corelation Matrix obtained we will choose various variables for our model."
   ]
  },
  {
   "cell_type": "code",
   "execution_count": 16,
   "id": "715c7e97",
   "metadata": {},
   "outputs": [
    {
     "data": {
      "text/html": [
       "<div>\n",
       "<style scoped>\n",
       "    .dataframe tbody tr th:only-of-type {\n",
       "        vertical-align: middle;\n",
       "    }\n",
       "\n",
       "    .dataframe tbody tr th {\n",
       "        vertical-align: top;\n",
       "    }\n",
       "\n",
       "    .dataframe thead th {\n",
       "        text-align: right;\n",
       "    }\n",
       "</style>\n",
       "<table border=\"1\" class=\"dataframe\">\n",
       "  <thead>\n",
       "    <tr style=\"text-align: right;\">\n",
       "      <th></th>\n",
       "      <th>Year</th>\n",
       "      <th>Life_Expectancy</th>\n",
       "      <th>Adult_Mortality</th>\n",
       "      <th>Alcohol</th>\n",
       "      <th>Percentage_Expenditure</th>\n",
       "      <th>BMI</th>\n",
       "      <th>Total_Expenditure</th>\n",
       "      <th>GDP</th>\n",
       "      <th>Population</th>\n",
       "      <th>Schooling</th>\n",
       "    </tr>\n",
       "  </thead>\n",
       "  <tbody>\n",
       "    <tr>\n",
       "      <th>Year</th>\n",
       "      <td>1.000000</td>\n",
       "      <td>0.055936</td>\n",
       "      <td>-0.035259</td>\n",
       "      <td>-0.160970</td>\n",
       "      <td>0.013894</td>\n",
       "      <td>0.036295</td>\n",
       "      <td>0.018778</td>\n",
       "      <td>0.020748</td>\n",
       "      <td>0.048307</td>\n",
       "      <td>0.055423</td>\n",
       "    </tr>\n",
       "    <tr>\n",
       "      <th>Life_Expectancy</th>\n",
       "      <td>0.055936</td>\n",
       "      <td>1.000000</td>\n",
       "      <td>-0.751148</td>\n",
       "      <td>0.478888</td>\n",
       "      <td>0.427136</td>\n",
       "      <td>0.548947</td>\n",
       "      <td>0.257310</td>\n",
       "      <td>0.471575</td>\n",
       "      <td>-0.034404</td>\n",
       "      <td>0.801730</td>\n",
       "    </tr>\n",
       "    <tr>\n",
       "      <th>Adult_Mortality</th>\n",
       "      <td>-0.035259</td>\n",
       "      <td>-0.751148</td>\n",
       "      <td>1.000000</td>\n",
       "      <td>-0.253955</td>\n",
       "      <td>-0.270039</td>\n",
       "      <td>-0.416356</td>\n",
       "      <td>-0.148852</td>\n",
       "      <td>-0.298142</td>\n",
       "      <td>0.024392</td>\n",
       "      <td>-0.558152</td>\n",
       "    </tr>\n",
       "    <tr>\n",
       "      <th>Alcohol</th>\n",
       "      <td>-0.160970</td>\n",
       "      <td>0.478888</td>\n",
       "      <td>-0.253955</td>\n",
       "      <td>1.000000</td>\n",
       "      <td>0.387217</td>\n",
       "      <td>0.324022</td>\n",
       "      <td>0.257711</td>\n",
       "      <td>0.436485</td>\n",
       "      <td>-0.032376</td>\n",
       "      <td>0.599283</td>\n",
       "    </tr>\n",
       "    <tr>\n",
       "      <th>Percentage_Expenditure</th>\n",
       "      <td>0.013894</td>\n",
       "      <td>0.427136</td>\n",
       "      <td>-0.270039</td>\n",
       "      <td>0.387217</td>\n",
       "      <td>1.000000</td>\n",
       "      <td>0.242853</td>\n",
       "      <td>0.277196</td>\n",
       "      <td>0.940297</td>\n",
       "      <td>-0.033992</td>\n",
       "      <td>0.425707</td>\n",
       "    </tr>\n",
       "    <tr>\n",
       "      <th>BMI</th>\n",
       "      <td>0.036295</td>\n",
       "      <td>0.548947</td>\n",
       "      <td>-0.416356</td>\n",
       "      <td>0.324022</td>\n",
       "      <td>0.242853</td>\n",
       "      <td>1.000000</td>\n",
       "      <td>0.177937</td>\n",
       "      <td>0.273065</td>\n",
       "      <td>-0.083094</td>\n",
       "      <td>0.534159</td>\n",
       "    </tr>\n",
       "    <tr>\n",
       "      <th>Total_Expenditure</th>\n",
       "      <td>0.018778</td>\n",
       "      <td>0.257310</td>\n",
       "      <td>-0.148852</td>\n",
       "      <td>0.257711</td>\n",
       "      <td>0.277196</td>\n",
       "      <td>0.177937</td>\n",
       "      <td>1.000000</td>\n",
       "      <td>0.272106</td>\n",
       "      <td>-0.077060</td>\n",
       "      <td>0.280332</td>\n",
       "    </tr>\n",
       "    <tr>\n",
       "      <th>GDP</th>\n",
       "      <td>0.020748</td>\n",
       "      <td>0.471575</td>\n",
       "      <td>-0.298142</td>\n",
       "      <td>0.436485</td>\n",
       "      <td>0.940297</td>\n",
       "      <td>0.273065</td>\n",
       "      <td>0.272106</td>\n",
       "      <td>1.000000</td>\n",
       "      <td>-0.036691</td>\n",
       "      <td>0.484713</td>\n",
       "    </tr>\n",
       "    <tr>\n",
       "      <th>Population</th>\n",
       "      <td>0.048307</td>\n",
       "      <td>-0.034404</td>\n",
       "      <td>0.024392</td>\n",
       "      <td>-0.032376</td>\n",
       "      <td>-0.033992</td>\n",
       "      <td>-0.083094</td>\n",
       "      <td>-0.077060</td>\n",
       "      <td>-0.036691</td>\n",
       "      <td>1.000000</td>\n",
       "      <td>-0.057181</td>\n",
       "    </tr>\n",
       "    <tr>\n",
       "      <th>Schooling</th>\n",
       "      <td>0.055423</td>\n",
       "      <td>0.801730</td>\n",
       "      <td>-0.558152</td>\n",
       "      <td>0.599283</td>\n",
       "      <td>0.425707</td>\n",
       "      <td>0.534159</td>\n",
       "      <td>0.280332</td>\n",
       "      <td>0.484713</td>\n",
       "      <td>-0.057181</td>\n",
       "      <td>1.000000</td>\n",
       "    </tr>\n",
       "  </tbody>\n",
       "</table>\n",
       "</div>"
      ],
      "text/plain": [
       "                            Year  Life_Expectancy  Adult_Mortality   Alcohol  \\\n",
       "Year                    1.000000         0.055936        -0.035259 -0.160970   \n",
       "Life_Expectancy         0.055936         1.000000        -0.751148  0.478888   \n",
       "Adult_Mortality        -0.035259        -0.751148         1.000000 -0.253955   \n",
       "Alcohol                -0.160970         0.478888        -0.253955  1.000000   \n",
       "Percentage_Expenditure  0.013894         0.427136        -0.270039  0.387217   \n",
       "BMI                     0.036295         0.548947        -0.416356  0.324022   \n",
       "Total_Expenditure       0.018778         0.257310        -0.148852  0.257711   \n",
       "GDP                     0.020748         0.471575        -0.298142  0.436485   \n",
       "Population              0.048307        -0.034404         0.024392 -0.032376   \n",
       "Schooling               0.055423         0.801730        -0.558152  0.599283   \n",
       "\n",
       "                        Percentage_Expenditure       BMI  Total_Expenditure  \\\n",
       "Year                                  0.013894  0.036295           0.018778   \n",
       "Life_Expectancy                       0.427136  0.548947           0.257310   \n",
       "Adult_Mortality                      -0.270039 -0.416356          -0.148852   \n",
       "Alcohol                               0.387217  0.324022           0.257711   \n",
       "Percentage_Expenditure                1.000000  0.242853           0.277196   \n",
       "BMI                                   0.242853  1.000000           0.177937   \n",
       "Total_Expenditure                     0.277196  0.177937           1.000000   \n",
       "GDP                                   0.940297  0.273065           0.272106   \n",
       "Population                           -0.033992 -0.083094          -0.077060   \n",
       "Schooling                             0.425707  0.534159           0.280332   \n",
       "\n",
       "                             GDP  Population  Schooling  \n",
       "Year                    0.020748    0.048307   0.055423  \n",
       "Life_Expectancy         0.471575   -0.034404   0.801730  \n",
       "Adult_Mortality        -0.298142    0.024392  -0.558152  \n",
       "Alcohol                 0.436485   -0.032376   0.599283  \n",
       "Percentage_Expenditure  0.940297   -0.033992   0.425707  \n",
       "BMI                     0.273065   -0.083094   0.534159  \n",
       "Total_Expenditure       0.272106   -0.077060   0.280332  \n",
       "GDP                     1.000000   -0.036691   0.484713  \n",
       "Population             -0.036691    1.000000  -0.057181  \n",
       "Schooling               0.484713   -0.057181   1.000000  "
      ]
     },
     "execution_count": 16,
     "metadata": {},
     "output_type": "execute_result"
    }
   ],
   "source": [
    "data.corr() \n",
    "#Plotting the Corelation Matrix to get better insights.\n",
    "#Based on our observation on the Corelation Matrix obtained we will choose various variables "
   ]
  },
  {
   "cell_type": "code",
   "execution_count": 19,
   "id": "1c883a5f",
   "metadata": {},
   "outputs": [
    {
     "data": {
      "text/plain": [
       "<AxesSubplot:>"
      ]
     },
     "execution_count": 19,
     "metadata": {},
     "output_type": "execute_result"
    },
    {
     "data": {
      "image/png": "[encoded data removed]",
      "text/plain": [
       "<Figure size 432x288 with 2 Axes>"
      ]
     },
     "metadata": {
      "needs_background": "light"
     },
     "output_type": "display_data"
    }
   ],
   "source": [
    "#Plotting the heatmap to have a visual representatin of our Coorelation Matrix\n",
    "corr = data.corr()\n",
    "sns.heatmap(corr, \n",
    "        xticklabels=corr.columns,\n",
    "        yticklabels=corr.columns)"
   ]
  },
  {
   "cell_type": "markdown",
   "id": "2c5c0a66",
   "metadata": {},
   "source": [
    "# HEATMAP"
   ]
  },
  {
   "cell_type": "code",
   "execution_count": 57,
   "id": "40fa1b35",
   "metadata": {},
   "outputs": [],
   "source": [
    "#Created a Linear Model from sklearn libary\n",
    "\n",
    "lin_reg_model = LinearRegression()\n",
    "y = data['Life_Expectancy'].values.reshape(-1,1)"
   ]
  },
  {
   "cell_type": "code",
   "execution_count": 78,
   "id": "6cf2da92",
   "metadata": {},
   "outputs": [
    {
     "data": {
      "image/png": "[encoded data removed]",
      "text/plain": [
       "<Figure size 432x288 with 1 Axes>"
      ]
     },
     "metadata": {
      "needs_background": "light"
     },
     "output_type": "display_data"
    },
    {
     "name": "stdout",
     "output_type": "stream",
     "text": [
      "Mean Squared Error:  122764.170538361\n",
      "Root Mean Squared Error:  350.3771832445158\n",
      "R2 Score  0.5642234434438707\n",
      "Model Equation : y = -0.059759966142484564 x + 79.97218981181695\n",
      "Where Slope = -0.059759966142484564 \n",
      "Intercept = 79.97218981181695\n"
     ]
    }
   ],
   "source": [
    "#X = Adult Mortality\n",
    "x = data.Adult_Mortality.values.reshape(-1,1)\n",
    "lin_reg_model.fit(x,y)\n",
    "\n",
    "#Predicted Line info \n",
    "x_array = np.arange(min(data.Adult_Mortality),max(data.Adult_Mortality)).reshape(-1,1)  \n",
    "plt.scatter(x,y)\n",
    "y_head = lin_reg_model.predict(x_array)                           \n",
    "plt.plot(x_array,y_head,color=\"red\")\n",
    "plt.show()\n",
    "\n",
    "#Printing the various metrics\n",
    "print(\"Mean Squared Error: \", mean_squared_error(x_array,y_head))\n",
    "print(\"Root Mean Squared Error: \", np.sqrt(metrics.mean_squared_error(x_array, y_head)))\n",
    "print(\"R2 Score \" ,r2_score(y, lin_reg_model.predict(x)))\n",
    "print(\"Model Equation : y =\",lin_reg_model.coef_[0][0],\"x +\",*lin_reg_model.intercept_)\n",
    "print(\"Where Slope =\",lin_reg_model.coef_[0][0], \"\\nIntercept =\",*lin_reg_model.intercept_ )"
   ]
  },
  {
   "cell_type": "code",
   "execution_count": 79,
   "id": "5bcb0890",
   "metadata": {},
   "outputs": [
    {
     "data": {
      "image/png": "[encoded data removed]",
      "text/plain": [
       "<Figure size 432x288 with 1 Axes>"
      ]
     },
     "metadata": {
      "needs_background": "light"
     },
     "output_type": "display_data"
    },
    {
     "name": "stdout",
     "output_type": "stream",
     "text": [
      "Mean Squared Error:  4397.267282761441\n",
      "Root Mean Squared Error:  66.31189397658191\n",
      "R2 Score  0.22933384569354576\n",
      "Model Equation : y = 1.035864310383005 x + 66.00678628713952\n",
      "Where Slope = 1.035864310383005 \n",
      "Intercept = 66.00678628713952\n"
     ]
    }
   ],
   "source": [
    "#X = Alcohol\n",
    "x = data.Alcohol.values.reshape(-1,1)\n",
    "lin_reg_model.fit(x,y)\n",
    "\n",
    "#Predicted Line info \n",
    "x_array = np.arange(min(data.Alcohol),max(data.Alcohol)).reshape(-1,1)  \n",
    "plt.scatter(x,y)\n",
    "y_head = lin_reg_model.predict(x_array)                           \n",
    "plt.plot(x_array,y_head,color=\"red\")\n",
    "plt.show()\n",
    "\n",
    "\n",
    "#Printing the various metrics\n",
    "print(\"Mean Squared Error: \", mean_squared_error(x_array,y_head))\n",
    "print(\"Root Mean Squared Error: \", np.sqrt(metrics.mean_squared_error(x_array, y_head)))\n",
    "print(\"R2 Score \" ,r2_score(y, lin_reg_model.predict(x)))\n",
    "print(\"Model Equation : y =\",lin_reg_model.coef_[0][0],\"x +\",*lin_reg_model.intercept_)\n",
    "print(\"Where Slope =\",lin_reg_model.coef_[0][0], \"\\nIntercept =\",*lin_reg_model.intercept_ )"
   ]
  },
  {
   "cell_type": "code",
   "execution_count": 80,
   "id": "3f011d9e",
   "metadata": {},
   "outputs": [
    {
     "data": {
      "image/png": "[encoded data removed]",
      "text/plain": [
       "<Figure size 432x288 with 1 Axes>"
      ]
     },
     "metadata": {
      "needs_background": "light"
     },
     "output_type": "display_data"
    },
    {
     "name": "stdout",
     "output_type": "stream",
     "text": [
      "Mean Squared Error:  124767590.63668308\n",
      "Root Mean Squared Error:  11169.941389133744\n",
      "R2 Score  0.18244520340149972\n",
      "Model Equation : y = 0.0015007079679564452 x + 68.91083837385924\n",
      "Where Slope = 0.0015007079679564452 \n",
      "Intercept = 68.91083837385924\n"
     ]
    }
   ],
   "source": [
    "#X = Percentage_Expenditure\n",
    "x = data.Percentage_Expenditure.values.reshape(-1,1)\n",
    "lin_reg_model.fit(x,y)\n",
    "\n",
    "#Predicted Line info \n",
    "x_array = np.arange(min(data.Percentage_Expenditure),max(data.Percentage_Expenditure)).reshape(-1,1)  \n",
    "plt.scatter(x,y)\n",
    "y_head = lin_reg_model.predict(x_array)                           \n",
    "plt.plot(x_array,y_head,color=\"red\")\n",
    "plt.show()\n",
    "\n",
    "\n",
    "#Printing the various metrics\n",
    "print(\"Mean Squared Error: \", mean_squared_error(x_array,y_head))\n",
    "print(\"Root Mean Squared Error: \", np.sqrt(metrics.mean_squared_error(x_array, y_head)))\n",
    "print(\"R2 Score \" ,r2_score(y, lin_reg_model.predict(x)))\n",
    "print(\"Model Equation : y =\",lin_reg_model.coef_[0][0],\"x +\",*lin_reg_model.intercept_)\n",
    "print(\"Where Slope =\",lin_reg_model.coef_[0][0], \"\\nIntercept =\",*lin_reg_model.intercept_ )"
   ]
  },
  {
   "cell_type": "code",
   "execution_count": 81,
   "id": "2dcf49c0",
   "metadata": {},
   "outputs": [
    {
     "data": {
      "image/png": "[encoded data removed]",
      "text/plain": [
       "<Figure size 432x288 with 1 Axes>"
      ]
     },
     "metadata": {
      "needs_background": "light"
     },
     "output_type": "display_data"
    },
    {
     "name": "stdout",
     "output_type": "stream",
     "text": [
      "Mean Squared Error:  1311.7473230203739\n",
      "Root Mean Squared Error:  36.21805244654072\n",
      "R2 Score  0.301343087099337\n",
      "Model Equation : y = 0.23624568858648645 x + 61.28011728908278\n",
      "Where Slope = 0.23624568858648645 \n",
      "Intercept = 61.28011728908278\n"
     ]
    }
   ],
   "source": [
    "#X = BMI \n",
    "x = data.BMI.values.reshape(-1,1)\n",
    "lin_reg_model.fit(x,y)\n",
    "\n",
    "#Predicted Line info \n",
    "x_array = np.arange(min(data.BMI ),max(data.BMI )).reshape(-1,1)  \n",
    "plt.scatter(x,y)\n",
    "y_head = lin_reg_model.predict(x_array)                           \n",
    "plt.plot(x_array,y_head,color=\"red\")\n",
    "plt.show()\n",
    "\n",
    "\n",
    "#Printing the various metrics\n",
    "print(\"Mean Squared Error: \", mean_squared_error(x_array,y_head))\n",
    "print(\"Root Mean Squared Error: \", np.sqrt(metrics.mean_squared_error(x_array, y_head)))\n",
    "print(\"R2 Score \" ,r2_score(y, lin_reg_model.predict(x)))\n",
    "print(\"Model Equation : y =\",lin_reg_model.coef_[0][0],\"x +\",*lin_reg_model.intercept_)\n",
    "print(\"Where Slope =\",lin_reg_model.coef_[0][0], \"\\nIntercept =\",*lin_reg_model.intercept_ )"
   ]
  },
  {
   "cell_type": "code",
   "execution_count": 82,
   "id": "573e6845",
   "metadata": {},
   "outputs": [
    {
     "data": {
      "image/png": "[encoded data removed]",
      "text/plain": [
       "<Figure size 432x288 with 1 Axes>"
      ]
     },
     "metadata": {
      "needs_background": "light"
     },
     "output_type": "display_data"
    },
    {
     "name": "stdout",
     "output_type": "stream",
     "text": [
      "Mean Squared Error:  4723670841.625562\n",
      "Root Mean Squared Error:  68728.96653977537\n",
      "R2 Score  0.222382925948318\n",
      "Model Equation : y = 0.00027124291132882343 x + 68.29218749386874\n",
      "Where Slope = 0.00027124291132882343 \n",
      "Intercept = 68.29218749386874\n"
     ]
    }
   ],
   "source": [
    "#X = GDP  \n",
    "x = data.GDP.values.reshape(-1,1)\n",
    "lin_reg_model.fit(x,y)\n",
    "\n",
    "#Predicted Line info \n",
    "x_array = np.arange(min(data.GDP  ),max(data.GDP  )).reshape(-1,1)  \n",
    "plt.scatter(x,y)\n",
    "y_head = lin_reg_model.predict(x_array)                           \n",
    "plt.plot(x_array,y_head,color=\"red\")\n",
    "plt.show()\n",
    "\n",
    "\n",
    "#Printing the various metrics\n",
    "print(\"Mean Squared Error: \", mean_squared_error(x_array,y_head))\n",
    "print(\"Root Mean Squared Error: \", np.sqrt(metrics.mean_squared_error(x_array, y_head)))\n",
    "print(\"R2 Score \" ,r2_score(y, lin_reg_model.predict(x)))\n",
    "print(\"Model Equation : y =\",lin_reg_model.coef_[0][0],\"x +\",*lin_reg_model.intercept_)\n",
    "print(\"Where Slope =\",lin_reg_model.coef_[0][0], \"\\nIntercept =\",*lin_reg_model.intercept_ )"
   ]
  },
  {
   "cell_type": "code",
   "execution_count": 77,
   "id": "563d0488",
   "metadata": {},
   "outputs": [
    {
     "data": {
      "image/png": "[encoded data removed]",
      "text/plain": [
       "<Figure size 432x288 with 1 Axes>"
      ]
     },
     "metadata": {
      "needs_background": "light"
     },
     "output_type": "display_data"
    },
    {
     "name": "stdout",
     "output_type": "stream",
     "text": [
      "Mean Squared Error:  3290.175489513466\n",
      "Root Mean Squared Error:  57.36005133813485\n",
      "R2 Score  0.6427713989793805\n",
      "Model Equation : y = 2.428981465040257 x + 39.832773872890975\n",
      "Where Slope = 2.428981465040257 \n",
      "Intercept = 39.832773872890975\n"
     ]
    }
   ],
   "source": [
    "#X = Schooling   \n",
    "x = data.Schooling.values.reshape(-1,1)\n",
    "lin_reg_model.fit(x,y)\n",
    "\n",
    "#Predicted Line info \n",
    "x_array = np.arange(min(data.Schooling),max(data.Schooling)).reshape(-1,1)  \n",
    "plt.scatter(x,y)\n",
    "y_head = lin_reg_model.predict(x_array)                           \n",
    "plt.plot(x_array,y_head,color=\"red\")\n",
    "plt.show()\n",
    "\n",
    "\n",
    "#Printing the various metrics\n",
    "print(\"Mean Squared Error: \", mean_squared_error(x_array,y_head))\n",
    "print(\"Root Mean Squared Error: \", np.sqrt(metrics.mean_squared_error(x_array, y_head)))\n",
    "print(\"R2 Score \" ,r2_score(y, lin_reg_model.predict(x)))\n",
    "print(\"Model Equation : y =\",lin_reg_model.coef_[0][0],\"x +\",*lin_reg_model.intercept_)\n",
    "print(\"Where Slope =\",lin_reg_model.coef_[0][0], \"\\nIntercept =\",*lin_reg_model.intercept_ )"
   ]
  },
  {
   "cell_type": "code",
   "execution_count": null,
   "id": "8c9233ff",
   "metadata": {},
   "outputs": [],
   "source": []
  }
 ],
 "metadata": {
  "kernelspec": {
   "display_name": "Python 3 (ipykernel)",
   "language": "python",
   "name": "python3"
  },
  "language_info": {
   "codemirror_mode": {
    "name": "ipython",
    "version": 3
   },
   "file_extension": ".py",
   "mimetype": "text/x-python",
   "name": "python",
   "nbconvert_exporter": "python",
   "pygments_lexer": "ipython3",
   "version": "3.9.7"
  }
 },
 "nbformat": 4,
 "nbformat_minor": 5
}
