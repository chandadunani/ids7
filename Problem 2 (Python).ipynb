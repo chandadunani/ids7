{
 "cells": [
  {
   "cell_type": "markdown",
   "id": "cda35dcc",
   "metadata": {
    "heading_collapsed": true
   },
   "source": [
    "# IMPORTING LIBRARIES"
   ]
  },
  {
   "cell_type": "code",
   "execution_count": 68,
   "id": "38645805",
   "metadata": {
    "hidden": true
   },
   "outputs": [],
   "source": [
    "import pandas as pd\n",
    "import numpy as np\n",
    "import matplotlib.pyplot as plt\n",
    "import seaborn as sns\n",
    "from sklearn.naive_bayes import BernoulliNB, GaussianNB, MultinomialNB\n",
    "from sklearn.model_selection import train_test_split\n",
    "from sklearn.metrics import accuracy_score"
   ]
  },
  {
   "cell_type": "markdown",
   "id": "1eeb4151",
   "metadata": {
    "heading_collapsed": true
   },
   "source": [
    "# LOADING DATA"
   ]
  },
  {
   "cell_type": "code",
   "execution_count": 20,
   "id": "e1be149c",
   "metadata": {
    "hidden": true
   },
   "outputs": [],
   "source": [
    "wine_flag = pd.read_csv('https://raw.githubusercontent.com/bforoura/IDS/main/HW5/wine_flag_all.csv')"
   ]
  },
  {
   "cell_type": "markdown",
   "id": "78b49751",
   "metadata": {
    "heading_collapsed": true
   },
   "source": [
    "# TOP 10 ROWS OF THE DATA"
   ]
  },
  {
   "cell_type": "code",
   "execution_count": 21,
   "id": "42a1829f",
   "metadata": {
    "hidden": true
   },
   "outputs": [
    {
     "data": {
      "text/html": [
       "<div>\n",
       "<style scoped>\n",
       "    .dataframe tbody tr th:only-of-type {\n",
       "        vertical-align: middle;\n",
       "    }\n",
       "\n",
       "    .dataframe tbody tr th {\n",
       "        vertical-align: top;\n",
       "    }\n",
       "\n",
       "    .dataframe thead th {\n",
       "        text-align: right;\n",
       "    }\n",
       "</style>\n",
       "<table border=\"1\" class=\"dataframe\">\n",
       "  <thead>\n",
       "    <tr style=\"text-align: right;\">\n",
       "      <th></th>\n",
       "      <th>Type</th>\n",
       "      <th>Alcohol_flag</th>\n",
       "      <th>Sugar_flag</th>\n",
       "    </tr>\n",
       "  </thead>\n",
       "  <tbody>\n",
       "    <tr>\n",
       "      <th>0</th>\n",
       "      <td>Red</td>\n",
       "      <td>High</td>\n",
       "      <td>High</td>\n",
       "    </tr>\n",
       "    <tr>\n",
       "      <th>1</th>\n",
       "      <td>Red</td>\n",
       "      <td>High</td>\n",
       "      <td>Low</td>\n",
       "    </tr>\n",
       "    <tr>\n",
       "      <th>2</th>\n",
       "      <td>Red</td>\n",
       "      <td>Low</td>\n",
       "      <td>High</td>\n",
       "    </tr>\n",
       "    <tr>\n",
       "      <th>3</th>\n",
       "      <td>Red</td>\n",
       "      <td>High</td>\n",
       "      <td>Low</td>\n",
       "    </tr>\n",
       "    <tr>\n",
       "      <th>4</th>\n",
       "      <td>Red</td>\n",
       "      <td>Low</td>\n",
       "      <td>Low</td>\n",
       "    </tr>\n",
       "    <tr>\n",
       "      <th>5</th>\n",
       "      <td>Red</td>\n",
       "      <td>Low</td>\n",
       "      <td>Low</td>\n",
       "    </tr>\n",
       "    <tr>\n",
       "      <th>6</th>\n",
       "      <td>Red</td>\n",
       "      <td>High</td>\n",
       "      <td>Low</td>\n",
       "    </tr>\n",
       "    <tr>\n",
       "      <th>7</th>\n",
       "      <td>Red</td>\n",
       "      <td>Low</td>\n",
       "      <td>Low</td>\n",
       "    </tr>\n",
       "    <tr>\n",
       "      <th>8</th>\n",
       "      <td>Red</td>\n",
       "      <td>Low</td>\n",
       "      <td>Low</td>\n",
       "    </tr>\n",
       "    <tr>\n",
       "      <th>9</th>\n",
       "      <td>Red</td>\n",
       "      <td>Low</td>\n",
       "      <td>Low</td>\n",
       "    </tr>\n",
       "  </tbody>\n",
       "</table>\n",
       "</div>"
      ],
      "text/plain": [
       "  Type Alcohol_flag Sugar_flag\n",
       "0  Red         High       High\n",
       "1  Red         High        Low\n",
       "2  Red          Low       High\n",
       "3  Red         High        Low\n",
       "4  Red          Low        Low\n",
       "5  Red          Low        Low\n",
       "6  Red         High        Low\n",
       "7  Red          Low        Low\n",
       "8  Red          Low        Low\n",
       "9  Red          Low        Low"
      ]
     },
     "execution_count": 21,
     "metadata": {},
     "output_type": "execute_result"
    }
   ],
   "source": [
    "wine_flag.head(10)"
   ]
  },
  {
   "cell_type": "markdown",
   "id": "dae36692",
   "metadata": {
    "hidden": true
   },
   "source": [
    "Note:\n",
    "- The data have 3 features\n",
    "- Alcohol_flag, Sugar_flag are an independent features & Type is a dependent feature\n",
    "- This is classification problem"
   ]
  },
  {
   "cell_type": "markdown",
   "id": "1539c8f2",
   "metadata": {
    "heading_collapsed": true
   },
   "source": [
    "# DATA SHAPE"
   ]
  },
  {
   "cell_type": "code",
   "execution_count": 22,
   "id": "e5846e81",
   "metadata": {
    "hidden": true
   },
   "outputs": [
    {
     "data": {
      "text/plain": [
       "(3345, 3)"
      ]
     },
     "execution_count": 22,
     "metadata": {},
     "output_type": "execute_result"
    }
   ],
   "source": [
    "wine_flag.shape"
   ]
  },
  {
   "cell_type": "markdown",
   "id": "103f61d8",
   "metadata": {
    "hidden": true
   },
   "source": [
    "Note:\n",
    "- The data 3345 observations and 3 features"
   ]
  },
  {
   "cell_type": "markdown",
   "id": "7b5f0282",
   "metadata": {
    "heading_collapsed": true
   },
   "source": [
    "# VALUE COUNTS OF EACH FEATURES"
   ]
  },
  {
   "cell_type": "code",
   "execution_count": 113,
   "id": "87e34881",
   "metadata": {
    "hidden": true
   },
   "outputs": [
    {
     "name": "stdout",
     "output_type": "stream",
     "text": [
      "Type:\n",
      "1    2260\n",
      "0    1085\n",
      "Name: Type, dtype: int64\n",
      "--------------------------------------------------\n",
      "Alcohol_flag:\n",
      "0    1684\n",
      "1    1661\n",
      "Name: Alcohol_flag, dtype: int64\n",
      "--------------------------------------------------\n",
      "Sugar_flag:\n",
      "0    1726\n",
      "1    1619\n",
      "Name: Sugar_flag, dtype: int64\n",
      "--------------------------------------------------\n"
     ]
    }
   ],
   "source": [
    "for i in wine_flag.keys():\n",
    "    print(f'{i}:')\n",
    "    print(wine_flag[i].value_counts())\n",
    "    print('-'*50)"
   ]
  },
  {
   "cell_type": "code",
   "execution_count": 114,
   "id": "962f175d",
   "metadata": {
    "hidden": true
   },
   "outputs": [
    {
     "name": "stdout",
     "output_type": "stream",
     "text": [
      "Type:\n",
      "1    0.675635\n",
      "0    0.324365\n",
      "Name: Type, dtype: float64\n",
      "--------------------------------------------------\n",
      "Alcohol_flag:\n",
      "0    0.503438\n",
      "1    0.496562\n",
      "Name: Alcohol_flag, dtype: float64\n",
      "--------------------------------------------------\n",
      "Sugar_flag:\n",
      "0    0.515994\n",
      "1    0.484006\n",
      "Name: Sugar_flag, dtype: float64\n",
      "--------------------------------------------------\n"
     ]
    }
   ],
   "source": [
    "for i in wine_flag.keys():\n",
    "    print(f'{i}:')\n",
    "    print(wine_flag[i].value_counts(normalize=True))\n",
    "    print('-'*50)"
   ]
  },
  {
   "cell_type": "markdown",
   "id": "07d50014",
   "metadata": {
    "hidden": true
   },
   "source": [
    "Note:\n",
    "- The Type feature have imbalanced class\n",
    "- Alcohol_flag & Sugar_flag 50:50 proportion of the classes"
   ]
  },
  {
   "cell_type": "markdown",
   "id": "992bcd5f",
   "metadata": {
    "heading_collapsed": true
   },
   "source": [
    "# MISSING VALUES"
   ]
  },
  {
   "cell_type": "code",
   "execution_count": 24,
   "id": "75ed7dc4",
   "metadata": {
    "hidden": true
   },
   "outputs": [
    {
     "data": {
      "text/plain": [
       "Type            0\n",
       "Alcohol_flag    0\n",
       "Sugar_flag      0\n",
       "dtype: int64"
      ]
     },
     "execution_count": 24,
     "metadata": {},
     "output_type": "execute_result"
    }
   ],
   "source": [
    "wine_flag.isnull().sum()"
   ]
  },
  {
   "cell_type": "markdown",
   "id": "8705107c",
   "metadata": {
    "hidden": true
   },
   "source": [
    "Note:\n",
    "- No missing value identified"
   ]
  },
  {
   "cell_type": "markdown",
   "id": "5103fd7e",
   "metadata": {
    "heading_collapsed": true
   },
   "source": [
    "# CONTINGENCY TABLE: TYPE VS ALCOHOL_FLAG"
   ]
  },
  {
   "cell_type": "code",
   "execution_count": 36,
   "id": "3944773e",
   "metadata": {
    "hidden": true
   },
   "outputs": [
    {
     "data": {
      "text/html": [
       "<div>\n",
       "<style scoped>\n",
       "    .dataframe tbody tr th:only-of-type {\n",
       "        vertical-align: middle;\n",
       "    }\n",
       "\n",
       "    .dataframe tbody tr th {\n",
       "        vertical-align: top;\n",
       "    }\n",
       "\n",
       "    .dataframe thead th {\n",
       "        text-align: right;\n",
       "    }\n",
       "</style>\n",
       "<table border=\"1\" class=\"dataframe\">\n",
       "  <thead>\n",
       "    <tr style=\"text-align: right;\">\n",
       "      <th></th>\n",
       "      <th>High</th>\n",
       "      <th>Low</th>\n",
       "      <th>High_%</th>\n",
       "      <th>Low_%</th>\n",
       "    </tr>\n",
       "    <tr>\n",
       "      <th>Type</th>\n",
       "      <th></th>\n",
       "      <th></th>\n",
       "      <th></th>\n",
       "      <th></th>\n",
       "    </tr>\n",
       "  </thead>\n",
       "  <tbody>\n",
       "    <tr>\n",
       "      <th>Red</th>\n",
       "      <td>485</td>\n",
       "      <td>600</td>\n",
       "      <td>29.0</td>\n",
       "      <td>36.0</td>\n",
       "    </tr>\n",
       "    <tr>\n",
       "      <th>White</th>\n",
       "      <td>1176</td>\n",
       "      <td>1084</td>\n",
       "      <td>71.0</td>\n",
       "      <td>64.0</td>\n",
       "    </tr>\n",
       "  </tbody>\n",
       "</table>\n",
       "</div>"
      ],
      "text/plain": [
       "       High   Low  High_%  Low_%\n",
       "Type                            \n",
       "Red     485   600    29.0   36.0\n",
       "White  1176  1084    71.0   64.0"
      ]
     },
     "execution_count": 36,
     "metadata": {},
     "output_type": "execute_result"
    }
   ],
   "source": [
    "c_table1 = wine_flag[['Type','Alcohol_flag']].value_counts().unstack().rename_axis(None,axis=1)\n",
    "c_table1['High_%'] = round(c_table1['High']/c_table1['High'].sum()*100)\n",
    "c_table1['Low_%'] = round(c_table1['Low']/c_table1['Low'].sum()*100)\n",
    "c_table1"
   ]
  },
  {
   "cell_type": "markdown",
   "id": "b231ea52",
   "metadata": {
    "hidden": true
   },
   "source": [
    "Note:\n",
    "- Wine type red have high alcohol flag 29% and low alcohol flag 36%\n",
    "- Wine type white have high alcohol flag 71% and low alcohol flag 64%"
   ]
  },
  {
   "cell_type": "markdown",
   "id": "06117d30",
   "metadata": {
    "heading_collapsed": true
   },
   "source": [
    "# CONTINGENCY TABLE: TYPE VS SUGAR_FLAG"
   ]
  },
  {
   "cell_type": "code",
   "execution_count": 37,
   "id": "4c8fb9f9",
   "metadata": {
    "hidden": true
   },
   "outputs": [
    {
     "data": {
      "text/html": [
       "<div>\n",
       "<style scoped>\n",
       "    .dataframe tbody tr th:only-of-type {\n",
       "        vertical-align: middle;\n",
       "    }\n",
       "\n",
       "    .dataframe tbody tr th {\n",
       "        vertical-align: top;\n",
       "    }\n",
       "\n",
       "    .dataframe thead th {\n",
       "        text-align: right;\n",
       "    }\n",
       "</style>\n",
       "<table border=\"1\" class=\"dataframe\">\n",
       "  <thead>\n",
       "    <tr style=\"text-align: right;\">\n",
       "      <th></th>\n",
       "      <th>High</th>\n",
       "      <th>Low</th>\n",
       "      <th>High_%</th>\n",
       "      <th>Low_%</th>\n",
       "    </tr>\n",
       "    <tr>\n",
       "      <th>Type</th>\n",
       "      <th></th>\n",
       "      <th></th>\n",
       "      <th></th>\n",
       "      <th></th>\n",
       "    </tr>\n",
       "  </thead>\n",
       "  <tbody>\n",
       "    <tr>\n",
       "      <th>Red</th>\n",
       "      <td>237</td>\n",
       "      <td>848</td>\n",
       "      <td>15.0</td>\n",
       "      <td>49.0</td>\n",
       "    </tr>\n",
       "    <tr>\n",
       "      <th>White</th>\n",
       "      <td>1382</td>\n",
       "      <td>878</td>\n",
       "      <td>85.0</td>\n",
       "      <td>51.0</td>\n",
       "    </tr>\n",
       "  </tbody>\n",
       "</table>\n",
       "</div>"
      ],
      "text/plain": [
       "       High  Low  High_%  Low_%\n",
       "Type                           \n",
       "Red     237  848    15.0   49.0\n",
       "White  1382  878    85.0   51.0"
      ]
     },
     "execution_count": 37,
     "metadata": {},
     "output_type": "execute_result"
    }
   ],
   "source": [
    "c_table2 = wine_flag[['Type','Sugar_flag']].value_counts().unstack().rename_axis(None,axis=1)\n",
    "c_table2['High_%'] = round(c_table2['High']/c_table2['High'].sum()*100)\n",
    "c_table2['Low_%'] = round(c_table2['Low']/c_table2['Low'].sum()*100)\n",
    "c_table2"
   ]
  },
  {
   "cell_type": "markdown",
   "id": "cfc017f8",
   "metadata": {
    "hidden": true
   },
   "source": [
    "Note:\n",
    "\n",
    "- Wine type red have high sugar flag 15% and low sugar flag 49%\n",
    "- Wine type white have high sugar flag 85% and low sugar flag 51%"
   ]
  },
  {
   "cell_type": "markdown",
   "id": "8814fb3a",
   "metadata": {
    "heading_collapsed": true
   },
   "source": [
    "# PLOTING CONTINGENCY TABLE TYPE VS ALCOHOL_FLAG"
   ]
  },
  {
   "cell_type": "code",
   "execution_count": 38,
   "id": "b380ffd6",
   "metadata": {
    "hidden": true
   },
   "outputs": [
    {
     "data": {
      "image/png": "[encoded data removed]",
      "text/plain": [
       "<Figure size 1152x648 with 1 Axes>"
      ]
     },
     "metadata": {
      "needs_background": "light"
     },
     "output_type": "display_data"
    }
   ],
   "source": [
    "ax = c_table1.iloc[:,2:].plot(kind='barh', figsize=(16,9));\n",
    "for p in ax.patches:\n",
    "    ax.annotate(\"%.1f%%\" % p.get_width(), xy=(p.get_width(), p.get_y()+p.get_height()/2),\n",
    "            xytext=(5, 0), textcoords='offset points', ha=\"left\", va=\"center\")"
   ]
  },
  {
   "cell_type": "markdown",
   "id": "f7ed72ed",
   "metadata": {
    "heading_collapsed": true
   },
   "source": [
    "# PLOTING CONTINGENCY TABLE TYPE VS SUGAR_FLAG"
   ]
  },
  {
   "cell_type": "code",
   "execution_count": 39,
   "id": "87629645",
   "metadata": {
    "hidden": true
   },
   "outputs": [
    {
     "data": {
      "image/png": "[encoded data removed]",
      "text/plain": [
       "<Figure size 1152x648 with 1 Axes>"
      ]
     },
     "metadata": {
      "needs_background": "light"
     },
     "output_type": "display_data"
    }
   ],
   "source": [
    "ax = c_table2.iloc[:,2:].plot(kind='barh', figsize=(16,9));\n",
    "for p in ax.patches:\n",
    "    ax.annotate(\"%.1f%%\" % p.get_width(), xy=(p.get_width(), p.get_y()+p.get_height()/2),\n",
    "            xytext=(5, 0), textcoords='offset points', ha=\"left\", va=\"center\")"
   ]
  },
  {
   "cell_type": "markdown",
   "id": "58c932c7",
   "metadata": {
    "heading_collapsed": true
   },
   "source": [
    "# PROBABILITIES"
   ]
  },
  {
   "cell_type": "markdown",
   "id": "5b909d51",
   "metadata": {
    "hidden": true
   },
   "source": [
    "### THE PRIOR PROBABILITY OF TYPE = RED AND TYPE = WHITE"
   ]
  },
  {
   "cell_type": "markdown",
   "id": "bbf3660a",
   "metadata": {
    "hidden": true
   },
   "source": [
    " - Prior_Probability_for_Red = Number_of_Red / Total_Number_of_Observations\n",
    " - Prior_Probability_for_White = Number_of_White / Total_Number_of_Observations"
   ]
  },
  {
   "cell_type": "code",
   "execution_count": 35,
   "id": "032ac32b",
   "metadata": {
    "hidden": true
   },
   "outputs": [
    {
     "name": "stdout",
     "output_type": "stream",
     "text": [
      "Prior Probability of Type Red: 0.3243647234678625\n",
      "Prior Probability of Type White: 0.6756352765321375\n"
     ]
    }
   ],
   "source": [
    "Prior_Probability_for_Red = (1085)/3345\n",
    "Prior_Probability_for_White = (2260)/3345\n",
    "print(f'Prior Probability of Type Red: {Prior_Probability_for_Red}')\n",
    "print(f'Prior Probability of Type White: {Prior_Probability_for_White}')"
   ]
  },
  {
   "cell_type": "markdown",
   "id": "9681db81",
   "metadata": {
    "hidden": true
   },
   "source": [
    "### THE PROBABILITY OF HIGH AND LOW ALCOHOL CONTENT"
   ]
  },
  {
   "cell_type": "markdown",
   "id": "c7b20e78",
   "metadata": {
    "hidden": true
   },
   "source": [
    "- Probability_of_high_alcohol_content = Number_of_high/Total_Number_of_Observations\n",
    "- Probability_of_low_alcohol_content = Number_of_low/Total_Number_of_Observations"
   ]
  },
  {
   "cell_type": "code",
   "execution_count": 50,
   "id": "630854ee",
   "metadata": {
    "hidden": true
   },
   "outputs": [
    {
     "name": "stdout",
     "output_type": "stream",
     "text": [
      "Probability of Low Alcohol: 0.5034379671150971\n",
      "Probability of High Alcohol: 0.49656203288490286\n"
     ]
    }
   ],
   "source": [
    "Proba_for_low_alcohol = 1684/3345\n",
    "Probab_for_high_alcohol = 1661/3345\n",
    "print(f'Probability of Low Alcohol: {Proba_for_low_alcohol}')\n",
    "print(f'Probability of High Alcohol: {Probab_for_high_alcohol}')"
   ]
  },
  {
   "cell_type": "markdown",
   "id": "fcc54af6",
   "metadata": {
    "hidden": true
   },
   "source": [
    "### THE PROBABILITY OF HIGH AND LOW SUGAR CONTENT"
   ]
  },
  {
   "cell_type": "markdown",
   "id": "b8632783",
   "metadata": {
    "hidden": true
   },
   "source": [
    "- Probability_of_high_sugar_content = Number_of_high/Total_Number_of_Observations\n",
    "- Probability_of_low_sugar_content = Number_of_low/Total_Number_of_Observations"
   ]
  },
  {
   "cell_type": "code",
   "execution_count": 51,
   "id": "609d1309",
   "metadata": {
    "hidden": true
   },
   "outputs": [
    {
     "name": "stdout",
     "output_type": "stream",
     "text": [
      "Probability of Low Alcohol: 0.5159940209267564\n",
      "Probability of High Alcohol: 0.48400597907324366\n"
     ]
    }
   ],
   "source": [
    "Prob_for_low_sugar = 1726/3345\n",
    "Prob_for_high_sugar = 1619/3345\n",
    "print(f'Probability of Low Alcohol: {Prob_for_low_sugar}')\n",
    "print(f'Probability of High Alcohol: {Prob_for_high_sugar}')"
   ]
  },
  {
   "cell_type": "markdown",
   "id": "f2e805e6",
   "metadata": {
    "hidden": true
   },
   "source": [
    "### THE CONDITIONAL PROBABILITIES P(ALCOHOL_FLAG = HIGH ∣ TYPE = RED)"
   ]
  },
  {
   "cell_type": "markdown",
   "id": "2dc1c8cf",
   "metadata": {
    "hidden": true
   },
   "source": [
    " Alcohol Flag:\n",
    " - P(Red | High) = 485/1661\n",
    " - P(High) = 1661/3345\n",
    " - P(Red) = 1085/3345\n",
    " \n",
    "Formula:\n",
    " - P(High ∣Red) = P(Red | High)*P(High)/P(Red)"
   ]
  },
  {
   "cell_type": "code",
   "execution_count": 60,
   "id": "bcd84bc8",
   "metadata": {
    "hidden": true
   },
   "outputs": [
    {
     "name": "stdout",
     "output_type": "stream",
     "text": [
      "Condition probability P(Alcohol_flag = High | Type = Red) : 0.44700460829493094\n"
     ]
    }
   ],
   "source": [
    "print(f'Condition probability P(Alcohol_flag = High | Type = Red) : {((485/1661)*(1661/3345))/(1085/3345)}')"
   ]
  },
  {
   "cell_type": "markdown",
   "id": "dc9d230a",
   "metadata": {
    "hidden": true
   },
   "source": [
    "### THE CONDITIONAL PROBABILITIES P(ALCOHOL_FLAG = LOW ∣ TYPE = RED)"
   ]
  },
  {
   "cell_type": "markdown",
   "id": "1e0465d1",
   "metadata": {
    "hidden": true
   },
   "source": [
    "Alcohol Flag:\n",
    "- P(Red | Low) = 600/1684\n",
    "- P(Low) = 1684/3345\n",
    "- P(Red) = 1085/3345\n",
    "\n",
    "Formula:\n",
    "- P(High ∣Red) = P(Red | High)*P(High)/P(Red)"
   ]
  },
  {
   "cell_type": "code",
   "execution_count": 62,
   "id": "63a846df",
   "metadata": {
    "hidden": true
   },
   "outputs": [
    {
     "name": "stdout",
     "output_type": "stream",
     "text": [
      "Condition probability P(Alcohol_flag = Low | Type = Red) : 0.5529953917050691\n"
     ]
    }
   ],
   "source": [
    "print(f'Condition probability P(Alcohol_flag = Low | Type = Red) : {((600/1684)*(1684/3345))/(1085/3345)}')"
   ]
  },
  {
   "cell_type": "markdown",
   "id": "c03693fc",
   "metadata": {
    "hidden": true
   },
   "source": [
    "### THE CONDITIONAL PROBABILITIES P(SUGAR_FLAG = HIGH ∣ TYPE = RED)"
   ]
  },
  {
   "cell_type": "markdown",
   "id": "3046f2f8",
   "metadata": {
    "hidden": true
   },
   "source": [
    "Sugar Flag:\n",
    "- P(Red | High) = 237/1619\n",
    "- P(High) = 1619/3345\n",
    "- P(Red) = 1085/3345\n",
    "\n",
    "Formula:\n",
    "- P(High ∣Red) = P(Red | High)*P(High)/P(Red)"
   ]
  },
  {
   "cell_type": "code",
   "execution_count": 63,
   "id": "cb4c3874",
   "metadata": {
    "hidden": true
   },
   "outputs": [
    {
     "name": "stdout",
     "output_type": "stream",
     "text": [
      "Condition probability P(Sugar_flag = High | Type = Red) : 0.21843317972350232\n"
     ]
    }
   ],
   "source": [
    "print(f'Condition probability P(Sugar_flag = High | Type = Red) : {((237/1619)*(1619/3345))/(1085/3345)}')"
   ]
  },
  {
   "cell_type": "markdown",
   "id": "892fd0fd",
   "metadata": {
    "hidden": true
   },
   "source": [
    "### THE CONDITIONAL PROBABILITIES P(SUGAR_FLAG = LOW ∣ TYPE = RED)"
   ]
  },
  {
   "cell_type": "markdown",
   "id": "a33bbc96",
   "metadata": {
    "hidden": true
   },
   "source": [
    "Sugar Flag:\n",
    "- P(Red | Low) = 848/1726\n",
    "- P(Low) = 1726/3345\n",
    "- P(Red) = 1085/3345\n",
    "\n",
    "Formula:\n",
    "- P(Low ∣Red) = P(Red | Low)*P(Low)/P(Red)"
   ]
  },
  {
   "cell_type": "code",
   "execution_count": 64,
   "id": "7b221c00",
   "metadata": {
    "hidden": true
   },
   "outputs": [
    {
     "name": "stdout",
     "output_type": "stream",
     "text": [
      "Condition probability P(Sugar_flag = Low | Type = Red) : 0.7815668202764977\n"
     ]
    }
   ],
   "source": [
    "print(f'Condition probability P(Sugar_flag = Low | Type = Red) : {((848/1726)*(1726/3345))/(1085/3345)}')"
   ]
  },
  {
   "cell_type": "markdown",
   "id": "3d88e7dd",
   "metadata": {
    "heading_collapsed": true
   },
   "source": [
    "# ENCODING THE FEATURES"
   ]
  },
  {
   "cell_type": "code",
   "execution_count": 65,
   "id": "c2a663ae",
   "metadata": {
    "hidden": true
   },
   "outputs": [],
   "source": [
    "order_mapping = {'Low':0, 'High':1}\n",
    "wine_flag['Alcohol_flag'] = wine_flag['Alcohol_flag'].map(order_mapping)\n",
    "wine_flag['Sugar_flag'] = wine_flag['Sugar_flag'].map(order_mapping)\n",
    "\n",
    "label_mapping = {'Red':0, 'White':1}\n",
    "wine_flag['Type'] = wine_flag['Type'].map(label_mapping)"
   ]
  },
  {
   "cell_type": "markdown",
   "id": "f2704639",
   "metadata": {
    "hidden": true
   },
   "source": [
    "Note:\n",
    "- Alcohol_flag & Sugar_flag features have ordered class hence encoded with ordered labels\n",
    "- Type features does not show any ordered hence encoded with alphabetical ordered"
   ]
  },
  {
   "cell_type": "markdown",
   "id": "f2d488cf",
   "metadata": {
    "heading_collapsed": true
   },
   "source": [
    "# MODEL TRAINING ON DIFFERENT COMBINATION OF TRAIN AND TEST SPLITTING DATA RATIO 80-20, 75-25, 70-30, 60-40, 50-50"
   ]
  },
  {
   "cell_type": "code",
   "execution_count": 111,
   "id": "e3617628",
   "metadata": {
    "hidden": true
   },
   "outputs": [
    {
     "name": "stdout",
     "output_type": "stream",
     "text": [
      " Splitting Ratio 80:20 | Accuracy : 0.71\n",
      " Splitting Ratio 75:25 | Accuracy : 0.7683\n",
      " Splitting Ratio 70:30 | Accuracy : 0.7534\n",
      " Splitting Ratio 65:35 | Accuracy : 0.713\n",
      " Splitting Ratio 60:40 | Accuracy : 0.7265\n",
      " Splitting Ratio 55:45 | Accuracy : 0.728\n",
      " Splitting Ratio 50:50 | Accuracy : 0.7205\n"
     ]
    }
   ],
   "source": [
    "X = wine_flag.drop(columns='Type')\n",
    "y = wine_flag['Type']\n",
    "\n",
    "accuracy = []\n",
    "ratio = []\n",
    "\n",
    "for i in [.20, .25, .30, 0.35, .40, .45, .50]:\n",
    "    X_train, X_test, y_train, y_test = train_test_split(X, y, test_size=0.2, stratify = y, shuffle=True)\n",
    "    nb = BernoulliNB()\n",
    "    nb.fit(X_train, y_train)\n",
    "    y_pred = nb.predict(X_test)\n",
    "    accuracy.append(accuracy_score(y_test, y_pred))\n",
    "    ratio.append(f'{round((1-i)*100)}:{round(i*100)}')\n",
    "    print(f' Splitting Ratio {round((1-i)*100)}:{round(i*100)} | Accuracy : {round(accuracy_score(y_test, y_pred),4)}')"
   ]
  },
  {
   "cell_type": "markdown",
   "id": "456da59f",
   "metadata": {
    "heading_collapsed": true
   },
   "source": [
    "# PLOTTING MODEL ACCURACY"
   ]
  },
  {
   "cell_type": "code",
   "execution_count": 112,
   "id": "b0caaeed",
   "metadata": {
    "hidden": true
   },
   "outputs": [
    {
     "data": {
      "image/png": "[encoded data removed]",
      "text/plain": [
       "<Figure size 1152x648 with 1 Axes>"
      ]
     },
     "metadata": {},
     "output_type": "display_data"
    }
   ],
   "source": [
    "plt.figure(figsize=(16,9))\n",
    "plt.style.use('ggplot')\n",
    "sns.lineplot(x=ratio, y=accuracy, marker='o', linestyle='--', markersize=10);\n",
    "plt.xlabel('Data Split Ratio');\n",
    "plt.ylabel('Accuracy');\n",
    "plt.show()"
   ]
  },
  {
   "cell_type": "markdown",
   "id": "a93d1bce",
   "metadata": {
    "hidden": true
   },
   "source": [
    "Notes:\n",
    "- Data splitting Ratio 75% - 25% have high accuracy : 0.7683"
   ]
  },
  {
   "cell_type": "markdown",
   "id": "a4f12c7e",
   "metadata": {
    "heading_collapsed": true
   },
   "source": [
    "# END "
   ]
  }
 ],
 "metadata": {
  "kernelspec": {
   "display_name": "Python 3 (ipykernel)",
   "language": "python",
   "name": "python3"
  },
  "language_info": {
   "codemirror_mode": {
    "name": "ipython",
    "version": 3
   },
   "file_extension": ".py",
   "mimetype": "text/x-python",
   "name": "python",
   "nbconvert_exporter": "python",
   "pygments_lexer": "ipython3",
   "version": "3.8.10"
  },
  "toc": {
   "base_numbering": 1,
   "nav_menu": {},
   "number_sections": true,
   "sideBar": true,
   "skip_h1_title": false,
   "title_cell": "Table of Contents",
   "title_sidebar": "Contents",
   "toc_cell": false,
   "toc_position": {},
   "toc_section_display": true,
   "toc_window_display": false
  },
  "varInspector": {
   "cols": {
    "lenName": 16,
    "lenType": 16,
    "lenVar": 40
   },
   "kernels_config": {
    "python": {
     "delete_cmd_postfix": "",
     "delete_cmd_prefix": "del ",
     "library": "var_list.py",
     "varRefreshCmd": "print(var_dic_list())"
    },
    "r": {
     "delete_cmd_postfix": ") ",
     "delete_cmd_prefix": "rm(",
     "library": "var_list.r",
     "varRefreshCmd": "cat(var_dic_list()) "
    }
   },
   "types_to_exclude": [
    "module",
    "function",
    "builtin_function_or_method",
    "instance",
    "_Feature"
   ],
   "window_display": false
  }
 },
 "nbformat": 4,
 "nbformat_minor": 5
}
