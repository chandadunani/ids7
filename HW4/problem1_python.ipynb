{
 "cells": [
  {
   "cell_type": "markdown",
   "id": "aedac49c",
   "metadata": {},
   "source": [
    "Problem 1 (Python)\n",
    "\n",
    "1. Use the following dataset about adults: https://github.com/bforoura/IDS/blob/main/HW4/adult_training.csv (Links to an external site.)\n",
    "2. Create a contingency table of workclass and sex, and plot it.\n",
    "3. Create a contingency table of sex and marital status, and plot it.\n",
    "4. Create a new data frame, adultOver40, for those whose age > 40.\n",
    "5. Recreate the contingency table of sex and marital status for adultOver40.\n",
    "6. Summarize your findings about parts 2-5.\n",
    "7. Determine whether any outliers exist for the education field. \n",
    "8. Standardize (zero mean) the age variable, and identify how many outliers there are. What is the most extreme outlier?\n",
    "9. Age anomaly? Select only records with age  at least 80, and construct a histogram of age. Explain what you see.\n"
   ]
  },
  {
   "cell_type": "markdown",
   "id": "446a0d33",
   "metadata": {
    "heading_collapsed": true
   },
   "source": [
    "# IMPORTING LIBRARIES"
   ]
  },
  {
   "cell_type": "code",
   "execution_count": 1,
   "id": "4e6f3a51",
   "metadata": {
    "hidden": true
   },
   "outputs": [],
   "source": [
    "#Loading libraries\n",
    "import pandas as pd\n",
    "import numpy as np\n",
    "import seaborn as sns\n",
    "import matplotlib.pyplot as plt\n",
    "import warnings\n",
    "warnings.filterwarnings('ignore')\n",
    "from scipy.stats import zscore\n",
    "pd.set_option('display.max_rows',None)"
   ]
  },
  {
   "cell_type": "markdown",
   "id": "b3bc1230",
   "metadata": {
    "heading_collapsed": true
   },
   "source": [
    "# LOADING DATA"
   ]
  },
  {
   "cell_type": "code",
   "execution_count": 2,
   "id": "719395d8",
   "metadata": {
    "hidden": true
   },
   "outputs": [],
   "source": [
    "#Loading data\n",
    "data = pd.read_csv('https://raw.githubusercontent.com/bforoura/IDS/main/HW4/adult_training.csv', sep=\",\")"
   ]
  },
  {
   "cell_type": "markdown",
   "id": "47ec8ce2",
   "metadata": {
    "heading_collapsed": true
   },
   "source": [
    "# EXPLORING DATA"
   ]
  },
  {
   "cell_type": "code",
   "execution_count": 3,
   "id": "91a9a4fc",
   "metadata": {
    "hidden": true
   },
   "outputs": [
    {
     "data": {
      "text/plain": [
       "(14797, 9)"
      ]
     },
     "execution_count": 3,
     "metadata": {},
     "output_type": "execute_result"
    }
   ],
   "source": [
    "#Data shape\n",
    "data.shape"
   ]
  },
  {
   "cell_type": "code",
   "execution_count": 4,
   "id": "f29c5e53",
   "metadata": {
    "hidden": true
   },
   "outputs": [
    {
     "data": {
      "text/html": [
       "<div>\n",
       "<style scoped>\n",
       "    .dataframe tbody tr th:only-of-type {\n",
       "        vertical-align: middle;\n",
       "    }\n",
       "\n",
       "    .dataframe tbody tr th {\n",
       "        vertical-align: top;\n",
       "    }\n",
       "\n",
       "    .dataframe thead th {\n",
       "        text-align: right;\n",
       "    }\n",
       "</style>\n",
       "<table border=\"1\" class=\"dataframe\">\n",
       "  <thead>\n",
       "    <tr style=\"text-align: right;\">\n",
       "      <th></th>\n",
       "      <th>age</th>\n",
       "      <th>workclass</th>\n",
       "      <th>education</th>\n",
       "      <th>marital-status</th>\n",
       "      <th>occupation</th>\n",
       "      <th>sex</th>\n",
       "      <th>capital-gain</th>\n",
       "      <th>capital-loss</th>\n",
       "      <th>income</th>\n",
       "    </tr>\n",
       "  </thead>\n",
       "  <tbody>\n",
       "    <tr>\n",
       "      <th>0</th>\n",
       "      <td>50</td>\n",
       "      <td>Self-emp-not-inc</td>\n",
       "      <td>13</td>\n",
       "      <td>Married-civ-spouse</td>\n",
       "      <td>Exec-managerial</td>\n",
       "      <td>Male</td>\n",
       "      <td>0</td>\n",
       "      <td>0</td>\n",
       "      <td>&lt;=50K</td>\n",
       "    </tr>\n",
       "    <tr>\n",
       "      <th>1</th>\n",
       "      <td>38</td>\n",
       "      <td>Private</td>\n",
       "      <td>9</td>\n",
       "      <td>Divorced</td>\n",
       "      <td>Handlers-cleaners</td>\n",
       "      <td>Male</td>\n",
       "      <td>0</td>\n",
       "      <td>0</td>\n",
       "      <td>&lt;=50K</td>\n",
       "    </tr>\n",
       "    <tr>\n",
       "      <th>2</th>\n",
       "      <td>49</td>\n",
       "      <td>Private</td>\n",
       "      <td>5</td>\n",
       "      <td>Married-spouse-absent</td>\n",
       "      <td>Other-service</td>\n",
       "      <td>Female</td>\n",
       "      <td>0</td>\n",
       "      <td>0</td>\n",
       "      <td>&lt;=50K</td>\n",
       "    </tr>\n",
       "    <tr>\n",
       "      <th>3</th>\n",
       "      <td>52</td>\n",
       "      <td>Self-emp-not-inc</td>\n",
       "      <td>9</td>\n",
       "      <td>Married-civ-spouse</td>\n",
       "      <td>Exec-managerial</td>\n",
       "      <td>Male</td>\n",
       "      <td>0</td>\n",
       "      <td>0</td>\n",
       "      <td>&gt;50K</td>\n",
       "    </tr>\n",
       "    <tr>\n",
       "      <th>4</th>\n",
       "      <td>31</td>\n",
       "      <td>Private</td>\n",
       "      <td>14</td>\n",
       "      <td>Never-married</td>\n",
       "      <td>Prof-specialty</td>\n",
       "      <td>Female</td>\n",
       "      <td>14084</td>\n",
       "      <td>0</td>\n",
       "      <td>&gt;50K</td>\n",
       "    </tr>\n",
       "  </tbody>\n",
       "</table>\n",
       "</div>"
      ],
      "text/plain": [
       "   age         workclass  education         marital-status         occupation  \\\n",
       "0   50  Self-emp-not-inc         13     Married-civ-spouse    Exec-managerial   \n",
       "1   38           Private          9               Divorced  Handlers-cleaners   \n",
       "2   49           Private          5  Married-spouse-absent      Other-service   \n",
       "3   52  Self-emp-not-inc          9     Married-civ-spouse    Exec-managerial   \n",
       "4   31           Private         14          Never-married     Prof-specialty   \n",
       "\n",
       "      sex  capital-gain  capital-loss income  \n",
       "0    Male             0             0  <=50K  \n",
       "1    Male             0             0  <=50K  \n",
       "2  Female             0             0  <=50K  \n",
       "3    Male             0             0   >50K  \n",
       "4  Female         14084             0   >50K  "
      ]
     },
     "execution_count": 4,
     "metadata": {},
     "output_type": "execute_result"
    }
   ],
   "source": [
    "#Data glimps\n",
    "data.head()"
   ]
  },
  {
   "cell_type": "code",
   "execution_count": 5,
   "id": "34b5599d",
   "metadata": {
    "hidden": true
   },
   "outputs": [
    {
     "data": {
      "text/plain": [
       "age               0\n",
       "workclass         0\n",
       "education         0\n",
       "marital-status    0\n",
       "occupation        0\n",
       "sex               0\n",
       "capital-gain      0\n",
       "capital-loss      0\n",
       "income            0\n",
       "dtype: int64"
      ]
     },
     "execution_count": 5,
     "metadata": {},
     "output_type": "execute_result"
    }
   ],
   "source": [
    "#Checking missing values\n",
    "data.isnull().sum()"
   ]
  },
  {
   "cell_type": "code",
   "execution_count": 6,
   "id": "c91fb9b3",
   "metadata": {
    "hidden": true
   },
   "outputs": [
    {
     "data": {
      "text/plain": [
       "age                int64\n",
       "workclass         object\n",
       "education          int64\n",
       "marital-status    object\n",
       "occupation        object\n",
       "sex               object\n",
       "capital-gain       int64\n",
       "capital-loss       int64\n",
       "income            object\n",
       "dtype: object"
      ]
     },
     "execution_count": 6,
     "metadata": {},
     "output_type": "execute_result"
    }
   ],
   "source": [
    "#Checking data type for all the features\n",
    "data.dtypes"
   ]
  },
  {
   "cell_type": "code",
   "execution_count": 7,
   "id": "2315c4f6",
   "metadata": {
    "hidden": true
   },
   "outputs": [
    {
     "name": "stdout",
     "output_type": "stream",
     "text": [
      "age                  73\n",
      "workclass            9\n",
      "education            16\n",
      "marital-status       7\n",
      "occupation           15\n",
      "sex                  2\n",
      "capital-gain         110\n",
      "capital-loss         78\n",
      "income               2\n"
     ]
    }
   ],
   "source": [
    "#Checking count of unique values in each features\n",
    "for i in data.columns:\n",
    "  print(f'{i:{20}} {data[i].nunique()}')"
   ]
  },
  {
   "cell_type": "code",
   "execution_count": 8,
   "id": "af5fd922",
   "metadata": {
    "hidden": true
   },
   "outputs": [
    {
     "data": {
      "text/plain": [
       "Private             10281\n",
       "Self-emp-not-inc     1170\n",
       "Local-gov             969\n",
       "?                     829\n",
       "State-gov             586\n",
       "Self-emp-inc          498\n",
       "Federal-gov           454\n",
       "Without-pay             5\n",
       "Never-worked            5\n",
       "Name: workclass, dtype: int64"
      ]
     },
     "execution_count": 8,
     "metadata": {},
     "output_type": "execute_result"
    }
   ],
   "source": [
    "#Checking value count of workclass feature\n",
    "data.workclass.value_counts()"
   ]
  },
  {
   "cell_type": "markdown",
   "id": "f8a01ee9",
   "metadata": {
    "hidden": true
   },
   "source": [
    "workclass feature have missing values 829 which We need to replace with most frequent value"
   ]
  },
  {
   "cell_type": "code",
   "execution_count": 9,
   "id": "cdf07043",
   "metadata": {
    "hidden": true
   },
   "outputs": [
    {
     "data": {
      "text/plain": [
       "0    Private\n",
       "dtype: object"
      ]
     },
     "execution_count": 9,
     "metadata": {},
     "output_type": "execute_result"
    }
   ],
   "source": [
    "#Finding most frequent value in the workclass feature\n",
    "data.workclass.mode()"
   ]
  },
  {
   "cell_type": "code",
   "execution_count": 10,
   "id": "e45af898",
   "metadata": {
    "hidden": true
   },
   "outputs": [],
   "source": [
    "#Replacing missing values with most frequent value\n",
    "data['workclass'] = data['workclass'].replace('?','Private')"
   ]
  },
  {
   "cell_type": "code",
   "execution_count": 11,
   "id": "62368543",
   "metadata": {
    "hidden": true
   },
   "outputs": [
    {
     "data": {
      "text/plain": [
       "Private             11110\n",
       "Self-emp-not-inc     1170\n",
       "Local-gov             969\n",
       "State-gov             586\n",
       "Self-emp-inc          498\n",
       "Federal-gov           454\n",
       "Without-pay             5\n",
       "Never-worked            5\n",
       "Name: workclass, dtype: int64"
      ]
     },
     "execution_count": 11,
     "metadata": {},
     "output_type": "execute_result"
    }
   ],
   "source": [
    "#Checking value count of workclass feature\n",
    "data.workclass.value_counts()"
   ]
  },
  {
   "cell_type": "markdown",
   "id": "d8352cc2",
   "metadata": {},
   "source": [
    "# CREATE A CONTINGENCY TABLE OF WORKCLASS AND SEX, AND PLOT IT"
   ]
  },
  {
   "cell_type": "markdown",
   "id": "d0addef0",
   "metadata": {
    "heading_collapsed": true
   },
   "source": [
    "### CONTINGENCY TABLE:WORKCLASS AND SEX"
   ]
  },
  {
   "cell_type": "code",
   "execution_count": 12,
   "id": "862b3465",
   "metadata": {
    "hidden": true
   },
   "outputs": [
    {
     "data": {
      "text/html": [
       "<div>\n",
       "<style scoped>\n",
       "    .dataframe tbody tr th:only-of-type {\n",
       "        vertical-align: middle;\n",
       "    }\n",
       "\n",
       "    .dataframe tbody tr th {\n",
       "        vertical-align: top;\n",
       "    }\n",
       "\n",
       "    .dataframe thead th {\n",
       "        text-align: right;\n",
       "    }\n",
       "</style>\n",
       "<table border=\"1\" class=\"dataframe\">\n",
       "  <thead>\n",
       "    <tr style=\"text-align: right;\">\n",
       "      <th></th>\n",
       "      <th>Female</th>\n",
       "      <th>Male</th>\n",
       "      <th>Female_%</th>\n",
       "      <th>Male_%</th>\n",
       "    </tr>\n",
       "    <tr>\n",
       "      <th>workclass</th>\n",
       "      <th></th>\n",
       "      <th></th>\n",
       "      <th></th>\n",
       "      <th></th>\n",
       "    </tr>\n",
       "  </thead>\n",
       "  <tbody>\n",
       "    <tr>\n",
       "      <th>Federal-gov</th>\n",
       "      <td>149</td>\n",
       "      <td>305</td>\n",
       "      <td>3.0</td>\n",
       "      <td>3.0</td>\n",
       "    </tr>\n",
       "    <tr>\n",
       "      <th>Local-gov</th>\n",
       "      <td>377</td>\n",
       "      <td>592</td>\n",
       "      <td>8.0</td>\n",
       "      <td>6.0</td>\n",
       "    </tr>\n",
       "    <tr>\n",
       "      <th>Never-worked</th>\n",
       "      <td>1</td>\n",
       "      <td>4</td>\n",
       "      <td>0.0</td>\n",
       "      <td>0.0</td>\n",
       "    </tr>\n",
       "    <tr>\n",
       "      <th>Private</th>\n",
       "      <td>3951</td>\n",
       "      <td>7159</td>\n",
       "      <td>80.0</td>\n",
       "      <td>72.0</td>\n",
       "    </tr>\n",
       "    <tr>\n",
       "      <th>Self-emp-inc</th>\n",
       "      <td>54</td>\n",
       "      <td>444</td>\n",
       "      <td>1.0</td>\n",
       "      <td>4.0</td>\n",
       "    </tr>\n",
       "    <tr>\n",
       "      <th>Self-emp-not-inc</th>\n",
       "      <td>178</td>\n",
       "      <td>992</td>\n",
       "      <td>4.0</td>\n",
       "      <td>10.0</td>\n",
       "    </tr>\n",
       "    <tr>\n",
       "      <th>State-gov</th>\n",
       "      <td>201</td>\n",
       "      <td>385</td>\n",
       "      <td>4.0</td>\n",
       "      <td>4.0</td>\n",
       "    </tr>\n",
       "    <tr>\n",
       "      <th>Without-pay</th>\n",
       "      <td>1</td>\n",
       "      <td>4</td>\n",
       "      <td>0.0</td>\n",
       "      <td>0.0</td>\n",
       "    </tr>\n",
       "  </tbody>\n",
       "</table>\n",
       "</div>"
      ],
      "text/plain": [
       "                  Female  Male  Female_%  Male_%\n",
       "workclass                                       \n",
       "Federal-gov          149   305       3.0     3.0\n",
       "Local-gov            377   592       8.0     6.0\n",
       "Never-worked           1     4       0.0     0.0\n",
       "Private             3951  7159      80.0    72.0\n",
       "Self-emp-inc          54   444       1.0     4.0\n",
       "Self-emp-not-inc     178   992       4.0    10.0\n",
       "State-gov            201   385       4.0     4.0\n",
       "Without-pay            1     4       0.0     0.0"
      ]
     },
     "execution_count": 12,
     "metadata": {},
     "output_type": "execute_result"
    }
   ],
   "source": [
    "c_table1 = data[['workclass','sex']].value_counts().unstack().rename_axis(None,axis=1)\n",
    "c_table1['Female_%'] = round(c_table1['Female']/c_table1['Female'].sum()*100)\n",
    "c_table1['Male_%'] = round(c_table1['Male']/c_table1['Male'].sum()*100)\n",
    "c_table1"
   ]
  },
  {
   "cell_type": "markdown",
   "id": "78a91ec0",
   "metadata": {
    "heading_collapsed": true
   },
   "source": [
    "### PLOT: WORKCLASS AND SEX"
   ]
  },
  {
   "cell_type": "code",
   "execution_count": 13,
   "id": "497c9698",
   "metadata": {
    "hidden": true
   },
   "outputs": [
    {
     "data": {
      "image/png": "[encoded data removed]",
      "text/plain": [
       "<Figure size 1152x648 with 1 Axes>"
      ]
     },
     "metadata": {
      "needs_background": "light"
     },
     "output_type": "display_data"
    }
   ],
   "source": [
    "ax = c_table1.iloc[:,2:].plot(kind='barh', figsize=(16,9));\n",
    "for p in ax.patches:\n",
    "    ax.annotate(\"%.1f%%\" % p.get_width(), xy=(p.get_width(), p.get_y()+p.get_height()/2),\n",
    "            xytext=(5, 0), textcoords='offset points', ha=\"left\", va=\"center\")"
   ]
  },
  {
   "cell_type": "markdown",
   "id": "93a4727f",
   "metadata": {
    "heading_collapsed": true
   },
   "source": [
    "### SUMMARY PONTS: WORKCLASS AND SEX"
   ]
  },
  {
   "cell_type": "markdown",
   "id": "e0f17164",
   "metadata": {
    "hidden": true
   },
   "source": [
    "1. In female gender, 80% are working in private companies and 20% are wokring in other than private companies\n",
    "2. in male gender, 72% are working in private companies and 28% are wokring in other than private companies\n",
    "3. The data have maximum records for private workingclass"
   ]
  },
  {
   "cell_type": "markdown",
   "id": "b93beea6",
   "metadata": {},
   "source": [
    "# CREATE A CONTINGENCY TABLE OF SEX AND MARITAL STATUS, AND PLOT IT"
   ]
  },
  {
   "cell_type": "markdown",
   "id": "9c146cfb",
   "metadata": {
    "heading_collapsed": true
   },
   "source": [
    "### CONTINGENCY TABLE:MARITAL STATUS AND SEX"
   ]
  },
  {
   "cell_type": "code",
   "execution_count": 14,
   "id": "20dd2487",
   "metadata": {
    "hidden": true
   },
   "outputs": [
    {
     "data": {
      "text/html": [
       "<div>\n",
       "<style scoped>\n",
       "    .dataframe tbody tr th:only-of-type {\n",
       "        vertical-align: middle;\n",
       "    }\n",
       "\n",
       "    .dataframe tbody tr th {\n",
       "        vertical-align: top;\n",
       "    }\n",
       "\n",
       "    .dataframe thead th {\n",
       "        text-align: right;\n",
       "    }\n",
       "</style>\n",
       "<table border=\"1\" class=\"dataframe\">\n",
       "  <thead>\n",
       "    <tr style=\"text-align: right;\">\n",
       "      <th></th>\n",
       "      <th>Female</th>\n",
       "      <th>Male</th>\n",
       "      <th>Female_%</th>\n",
       "      <th>Male_%</th>\n",
       "    </tr>\n",
       "    <tr>\n",
       "      <th>marital-status</th>\n",
       "      <th></th>\n",
       "      <th></th>\n",
       "      <th></th>\n",
       "      <th></th>\n",
       "    </tr>\n",
       "  </thead>\n",
       "  <tbody>\n",
       "    <tr>\n",
       "      <th>Divorced</th>\n",
       "      <td>1219</td>\n",
       "      <td>795</td>\n",
       "      <td>25.0</td>\n",
       "      <td>8.0</td>\n",
       "    </tr>\n",
       "    <tr>\n",
       "      <th>Married-AF-spouse</th>\n",
       "      <td>7</td>\n",
       "      <td>4</td>\n",
       "      <td>0.0</td>\n",
       "      <td>0.0</td>\n",
       "    </tr>\n",
       "    <tr>\n",
       "      <th>Married-civ-spouse</th>\n",
       "      <td>761</td>\n",
       "      <td>6010</td>\n",
       "      <td>15.0</td>\n",
       "      <td>61.0</td>\n",
       "    </tr>\n",
       "    <tr>\n",
       "      <th>Married-spouse-absent</th>\n",
       "      <td>95</td>\n",
       "      <td>104</td>\n",
       "      <td>2.0</td>\n",
       "      <td>1.0</td>\n",
       "    </tr>\n",
       "    <tr>\n",
       "      <th>Never-married</th>\n",
       "      <td>2160</td>\n",
       "      <td>2717</td>\n",
       "      <td>44.0</td>\n",
       "      <td>27.0</td>\n",
       "    </tr>\n",
       "    <tr>\n",
       "      <th>Separated</th>\n",
       "      <td>290</td>\n",
       "      <td>182</td>\n",
       "      <td>6.0</td>\n",
       "      <td>2.0</td>\n",
       "    </tr>\n",
       "    <tr>\n",
       "      <th>Widowed</th>\n",
       "      <td>380</td>\n",
       "      <td>73</td>\n",
       "      <td>8.0</td>\n",
       "      <td>1.0</td>\n",
       "    </tr>\n",
       "  </tbody>\n",
       "</table>\n",
       "</div>"
      ],
      "text/plain": [
       "                       Female  Male  Female_%  Male_%\n",
       "marital-status                                       \n",
       "Divorced                 1219   795      25.0     8.0\n",
       "Married-AF-spouse           7     4       0.0     0.0\n",
       "Married-civ-spouse        761  6010      15.0    61.0\n",
       "Married-spouse-absent      95   104       2.0     1.0\n",
       "Never-married            2160  2717      44.0    27.0\n",
       "Separated                 290   182       6.0     2.0\n",
       "Widowed                   380    73       8.0     1.0"
      ]
     },
     "execution_count": 14,
     "metadata": {},
     "output_type": "execute_result"
    }
   ],
   "source": [
    "c_table2 = data[['marital-status','sex']].value_counts().unstack().rename_axis(None,axis=1)\n",
    "c_table2['Female_%'] = round(c_table2['Female']/c_table2['Female'].sum()*100)\n",
    "c_table2['Male_%'] = round(c_table2['Male']/c_table2['Male'].sum()*100)\n",
    "c_table2"
   ]
  },
  {
   "cell_type": "markdown",
   "id": "0f6e771c",
   "metadata": {
    "heading_collapsed": true
   },
   "source": [
    "### PLOT: MARITAL STATUS AND SEX"
   ]
  },
  {
   "cell_type": "code",
   "execution_count": 15,
   "id": "32fab5db",
   "metadata": {
    "hidden": true
   },
   "outputs": [
    {
     "data": {
      "image/png": "[encoded data removed]",
      "text/plain": [
       "<Figure size 1152x648 with 1 Axes>"
      ]
     },
     "metadata": {
      "needs_background": "light"
     },
     "output_type": "display_data"
    }
   ],
   "source": [
    "ax = c_table2.iloc[:,2:].plot(kind='barh', figsize=(16,9));\n",
    "for p in ax.patches:\n",
    "    ax.annotate(\"%.1f%%\" % p.get_width(), xy=(p.get_width(), p.get_y()+p.get_height()/2),\n",
    "            xytext=(5, 0), textcoords='offset points', ha=\"left\", va=\"center\")"
   ]
  },
  {
   "cell_type": "markdown",
   "id": "fb016f51",
   "metadata": {
    "heading_collapsed": true
   },
   "source": [
    "### SUMMARY PONTS: MARITAL STATUS AND SEX"
   ]
  },
  {
   "cell_type": "markdown",
   "id": "cd627e36",
   "metadata": {
    "hidden": true
   },
   "source": [
    "1. In female gender, 44% are never married females and 25% are divorced females\n",
    "2. In male gender, 61% are married-civilian-spouse males and 27% are never married males\n",
    "3. The data have maximum records for married-civilian-spouse, never married and divorced marital status"
   ]
  },
  {
   "cell_type": "markdown",
   "id": "73b5a52e",
   "metadata": {
    "heading_collapsed": true
   },
   "source": [
    "# CREATING NEW DATAFRAME: ADULTOVER40"
   ]
  },
  {
   "cell_type": "code",
   "execution_count": 16,
   "id": "89be3453",
   "metadata": {
    "hidden": true
   },
   "outputs": [
    {
     "data": {
      "text/plain": [
       "(6144, 9)"
      ]
     },
     "execution_count": 16,
     "metadata": {},
     "output_type": "execute_result"
    }
   ],
   "source": [
    "adultOver40 = data[data['age']>40]\n",
    "adultOver40.shape"
   ]
  },
  {
   "cell_type": "markdown",
   "id": "53a0c426",
   "metadata": {},
   "source": [
    "# RECREATE THE CONTINGENCY TABLE OF SEX AND MARITAL STATUS FOR ADULTOVER40."
   ]
  },
  {
   "cell_type": "markdown",
   "id": "44f34820",
   "metadata": {
    "heading_collapsed": true
   },
   "source": [
    "### CONTINGENCY TABLE ON ADULTOVER40:MARITAL STATUS AND SEX"
   ]
  },
  {
   "cell_type": "code",
   "execution_count": 17,
   "id": "f1f4fa2c",
   "metadata": {
    "hidden": true
   },
   "outputs": [
    {
     "data": {
      "text/html": [
       "<div>\n",
       "<style scoped>\n",
       "    .dataframe tbody tr th:only-of-type {\n",
       "        vertical-align: middle;\n",
       "    }\n",
       "\n",
       "    .dataframe tbody tr th {\n",
       "        vertical-align: top;\n",
       "    }\n",
       "\n",
       "    .dataframe thead th {\n",
       "        text-align: right;\n",
       "    }\n",
       "</style>\n",
       "<table border=\"1\" class=\"dataframe\">\n",
       "  <thead>\n",
       "    <tr style=\"text-align: right;\">\n",
       "      <th></th>\n",
       "      <th>Female</th>\n",
       "      <th>Male</th>\n",
       "      <th>Female_%</th>\n",
       "      <th>Male_%</th>\n",
       "    </tr>\n",
       "    <tr>\n",
       "      <th>marital-status</th>\n",
       "      <th></th>\n",
       "      <th></th>\n",
       "      <th></th>\n",
       "      <th></th>\n",
       "    </tr>\n",
       "  </thead>\n",
       "  <tbody>\n",
       "    <tr>\n",
       "      <th>Divorced</th>\n",
       "      <td>720</td>\n",
       "      <td>448</td>\n",
       "      <td>40.0</td>\n",
       "      <td>10.0</td>\n",
       "    </tr>\n",
       "    <tr>\n",
       "      <th>Married-civ-spouse</th>\n",
       "      <td>305</td>\n",
       "      <td>3383</td>\n",
       "      <td>17.0</td>\n",
       "      <td>78.0</td>\n",
       "    </tr>\n",
       "    <tr>\n",
       "      <th>Married-spouse-absent</th>\n",
       "      <td>38</td>\n",
       "      <td>47</td>\n",
       "      <td>2.0</td>\n",
       "      <td>1.0</td>\n",
       "    </tr>\n",
       "    <tr>\n",
       "      <th>Never-married</th>\n",
       "      <td>256</td>\n",
       "      <td>315</td>\n",
       "      <td>14.0</td>\n",
       "      <td>7.0</td>\n",
       "    </tr>\n",
       "    <tr>\n",
       "      <th>Separated</th>\n",
       "      <td>133</td>\n",
       "      <td>74</td>\n",
       "      <td>7.0</td>\n",
       "      <td>2.0</td>\n",
       "    </tr>\n",
       "    <tr>\n",
       "      <th>Widowed</th>\n",
       "      <td>354</td>\n",
       "      <td>71</td>\n",
       "      <td>20.0</td>\n",
       "      <td>2.0</td>\n",
       "    </tr>\n",
       "  </tbody>\n",
       "</table>\n",
       "</div>"
      ],
      "text/plain": [
       "                       Female  Male  Female_%  Male_%\n",
       "marital-status                                       \n",
       "Divorced                  720   448      40.0    10.0\n",
       "Married-civ-spouse        305  3383      17.0    78.0\n",
       "Married-spouse-absent      38    47       2.0     1.0\n",
       "Never-married             256   315      14.0     7.0\n",
       "Separated                 133    74       7.0     2.0\n",
       "Widowed                   354    71      20.0     2.0"
      ]
     },
     "execution_count": 17,
     "metadata": {},
     "output_type": "execute_result"
    }
   ],
   "source": [
    "c_table3 = adultOver40[['marital-status','sex']].value_counts().unstack().rename_axis(None,axis=1)\n",
    "c_table3['Female_%'] = round(c_table3['Female']/c_table3['Female'].sum()*100)\n",
    "c_table3['Male_%'] = round(c_table3['Male']/c_table3['Male'].sum()*100)\n",
    "c_table3"
   ]
  },
  {
   "cell_type": "markdown",
   "id": "b90926ac",
   "metadata": {
    "heading_collapsed": true
   },
   "source": [
    "### PLOT ON ADULTOVER40: MARITAL STATUS AND SEX"
   ]
  },
  {
   "cell_type": "code",
   "execution_count": 18,
   "id": "f703dcfc",
   "metadata": {
    "hidden": true
   },
   "outputs": [
    {
     "data": {
      "image/png": "[encoded data removed]",
      "text/plain": [
       "<Figure size 1152x648 with 1 Axes>"
      ]
     },
     "metadata": {
      "needs_background": "light"
     },
     "output_type": "display_data"
    }
   ],
   "source": [
    "ax = c_table3.iloc[:,2:].plot(kind='barh', figsize=(16,9));\n",
    "for p in ax.patches:\n",
    "    ax.annotate(\"%.1f%%\" % p.get_width(), xy=(p.get_width(), p.get_y()+p.get_height()/2),\n",
    "            xytext=(5, 0), textcoords='offset points', ha=\"left\", va=\"center\")"
   ]
  },
  {
   "cell_type": "markdown",
   "id": "85bd0544",
   "metadata": {
    "heading_collapsed": true
   },
   "source": [
    "### SUMMARY POINTS ON ADULTOVER40: MARITAL STATUS AND SEX"
   ]
  },
  {
   "cell_type": "markdown",
   "id": "0ed513cf",
   "metadata": {
    "hidden": true
   },
   "source": [
    "1. In male over 40 age, 78% male are married civilian spouse status and 10% are divorced status, It means the data have maximum records for married-civilian-spouse\n",
    "2. In female over 40 age, 40% females have divorced status, 20% are widowed status & 14% females are still single , It means the data have maximum records for Divorced, Widowed & never married"
   ]
  },
  {
   "cell_type": "markdown",
   "id": "6c9bf0fa",
   "metadata": {},
   "source": [
    "# OUTLIERS DETECTION: EDUCATION"
   ]
  },
  {
   "cell_type": "markdown",
   "id": "72ab1238",
   "metadata": {
    "heading_collapsed": true
   },
   "source": [
    "### DETECTING OUTLIERS USING Z-SCORE ON EDUCATION"
   ]
  },
  {
   "cell_type": "code",
   "execution_count": 20,
   "id": "1f4a5fc7",
   "metadata": {
    "hidden": true
   },
   "outputs": [],
   "source": [
    "def detecting_outliers_using_zscore(data, variable):\n",
    "    df = data[variable].to_frame()\n",
    "    df['zscore'] = abs(zscore(df[variable]))\n",
    "    df['is_outliers'] = ['outlier' if i>3 else 'not outlier' for i in df['zscore']]\n",
    "    outliers = df[df['is_outliers']=='outlier']\n",
    "    return outliers"
   ]
  },
  {
   "cell_type": "code",
   "execution_count": 21,
   "id": "2abcd1e4",
   "metadata": {
    "hidden": true
   },
   "outputs": [
    {
     "data": {
      "text/html": [
       "<div>\n",
       "<style scoped>\n",
       "    .dataframe tbody tr th:only-of-type {\n",
       "        vertical-align: middle;\n",
       "    }\n",
       "\n",
       "    .dataframe tbody tr th {\n",
       "        vertical-align: top;\n",
       "    }\n",
       "\n",
       "    .dataframe thead th {\n",
       "        text-align: right;\n",
       "    }\n",
       "</style>\n",
       "<table border=\"1\" class=\"dataframe\">\n",
       "  <thead>\n",
       "    <tr style=\"text-align: right;\">\n",
       "      <th></th>\n",
       "      <th>education</th>\n",
       "      <th>zscore</th>\n",
       "      <th>is_outliers</th>\n",
       "    </tr>\n",
       "  </thead>\n",
       "  <tbody>\n",
       "    <tr>\n",
       "      <th>72</th>\n",
       "      <td>2</td>\n",
       "      <td>3.105523</td>\n",
       "      <td>outlier</td>\n",
       "    </tr>\n",
       "    <tr>\n",
       "      <th>101</th>\n",
       "      <td>1</td>\n",
       "      <td>3.490403</td>\n",
       "      <td>outlier</td>\n",
       "    </tr>\n",
       "    <tr>\n",
       "      <th>199</th>\n",
       "      <td>2</td>\n",
       "      <td>3.105523</td>\n",
       "      <td>outlier</td>\n",
       "    </tr>\n",
       "    <tr>\n",
       "      <th>243</th>\n",
       "      <td>2</td>\n",
       "      <td>3.105523</td>\n",
       "      <td>outlier</td>\n",
       "    </tr>\n",
       "    <tr>\n",
       "      <th>437</th>\n",
       "      <td>2</td>\n",
       "      <td>3.105523</td>\n",
       "      <td>outlier</td>\n",
       "    </tr>\n",
       "    <tr>\n",
       "      <th>541</th>\n",
       "      <td>2</td>\n",
       "      <td>3.105523</td>\n",
       "      <td>outlier</td>\n",
       "    </tr>\n",
       "    <tr>\n",
       "      <th>877</th>\n",
       "      <td>2</td>\n",
       "      <td>3.105523</td>\n",
       "      <td>outlier</td>\n",
       "    </tr>\n",
       "    <tr>\n",
       "      <th>1182</th>\n",
       "      <td>2</td>\n",
       "      <td>3.105523</td>\n",
       "      <td>outlier</td>\n",
       "    </tr>\n",
       "    <tr>\n",
       "      <th>1223</th>\n",
       "      <td>2</td>\n",
       "      <td>3.105523</td>\n",
       "      <td>outlier</td>\n",
       "    </tr>\n",
       "    <tr>\n",
       "      <th>1308</th>\n",
       "      <td>2</td>\n",
       "      <td>3.105523</td>\n",
       "      <td>outlier</td>\n",
       "    </tr>\n",
       "    <tr>\n",
       "      <th>1321</th>\n",
       "      <td>1</td>\n",
       "      <td>3.490403</td>\n",
       "      <td>outlier</td>\n",
       "    </tr>\n",
       "    <tr>\n",
       "      <th>1350</th>\n",
       "      <td>1</td>\n",
       "      <td>3.490403</td>\n",
       "      <td>outlier</td>\n",
       "    </tr>\n",
       "    <tr>\n",
       "      <th>1496</th>\n",
       "      <td>2</td>\n",
       "      <td>3.105523</td>\n",
       "      <td>outlier</td>\n",
       "    </tr>\n",
       "    <tr>\n",
       "      <th>1587</th>\n",
       "      <td>1</td>\n",
       "      <td>3.490403</td>\n",
       "      <td>outlier</td>\n",
       "    </tr>\n",
       "    <tr>\n",
       "      <th>1807</th>\n",
       "      <td>2</td>\n",
       "      <td>3.105523</td>\n",
       "      <td>outlier</td>\n",
       "    </tr>\n",
       "    <tr>\n",
       "      <th>1880</th>\n",
       "      <td>1</td>\n",
       "      <td>3.490403</td>\n",
       "      <td>outlier</td>\n",
       "    </tr>\n",
       "    <tr>\n",
       "      <th>1983</th>\n",
       "      <td>2</td>\n",
       "      <td>3.105523</td>\n",
       "      <td>outlier</td>\n",
       "    </tr>\n",
       "    <tr>\n",
       "      <th>2523</th>\n",
       "      <td>2</td>\n",
       "      <td>3.105523</td>\n",
       "      <td>outlier</td>\n",
       "    </tr>\n",
       "    <tr>\n",
       "      <th>2640</th>\n",
       "      <td>2</td>\n",
       "      <td>3.105523</td>\n",
       "      <td>outlier</td>\n",
       "    </tr>\n",
       "    <tr>\n",
       "      <th>2685</th>\n",
       "      <td>2</td>\n",
       "      <td>3.105523</td>\n",
       "      <td>outlier</td>\n",
       "    </tr>\n",
       "    <tr>\n",
       "      <th>2702</th>\n",
       "      <td>2</td>\n",
       "      <td>3.105523</td>\n",
       "      <td>outlier</td>\n",
       "    </tr>\n",
       "    <tr>\n",
       "      <th>2746</th>\n",
       "      <td>2</td>\n",
       "      <td>3.105523</td>\n",
       "      <td>outlier</td>\n",
       "    </tr>\n",
       "    <tr>\n",
       "      <th>2978</th>\n",
       "      <td>1</td>\n",
       "      <td>3.490403</td>\n",
       "      <td>outlier</td>\n",
       "    </tr>\n",
       "    <tr>\n",
       "      <th>3273</th>\n",
       "      <td>1</td>\n",
       "      <td>3.490403</td>\n",
       "      <td>outlier</td>\n",
       "    </tr>\n",
       "    <tr>\n",
       "      <th>3372</th>\n",
       "      <td>2</td>\n",
       "      <td>3.105523</td>\n",
       "      <td>outlier</td>\n",
       "    </tr>\n",
       "    <tr>\n",
       "      <th>3571</th>\n",
       "      <td>2</td>\n",
       "      <td>3.105523</td>\n",
       "      <td>outlier</td>\n",
       "    </tr>\n",
       "    <tr>\n",
       "      <th>3647</th>\n",
       "      <td>1</td>\n",
       "      <td>3.490403</td>\n",
       "      <td>outlier</td>\n",
       "    </tr>\n",
       "    <tr>\n",
       "      <th>3732</th>\n",
       "      <td>1</td>\n",
       "      <td>3.490403</td>\n",
       "      <td>outlier</td>\n",
       "    </tr>\n",
       "    <tr>\n",
       "      <th>3741</th>\n",
       "      <td>1</td>\n",
       "      <td>3.490403</td>\n",
       "      <td>outlier</td>\n",
       "    </tr>\n",
       "    <tr>\n",
       "      <th>3837</th>\n",
       "      <td>2</td>\n",
       "      <td>3.105523</td>\n",
       "      <td>outlier</td>\n",
       "    </tr>\n",
       "    <tr>\n",
       "      <th>3924</th>\n",
       "      <td>2</td>\n",
       "      <td>3.105523</td>\n",
       "      <td>outlier</td>\n",
       "    </tr>\n",
       "    <tr>\n",
       "      <th>4042</th>\n",
       "      <td>1</td>\n",
       "      <td>3.490403</td>\n",
       "      <td>outlier</td>\n",
       "    </tr>\n",
       "    <tr>\n",
       "      <th>4080</th>\n",
       "      <td>2</td>\n",
       "      <td>3.105523</td>\n",
       "      <td>outlier</td>\n",
       "    </tr>\n",
       "    <tr>\n",
       "      <th>4136</th>\n",
       "      <td>2</td>\n",
       "      <td>3.105523</td>\n",
       "      <td>outlier</td>\n",
       "    </tr>\n",
       "    <tr>\n",
       "      <th>4590</th>\n",
       "      <td>2</td>\n",
       "      <td>3.105523</td>\n",
       "      <td>outlier</td>\n",
       "    </tr>\n",
       "    <tr>\n",
       "      <th>5105</th>\n",
       "      <td>1</td>\n",
       "      <td>3.490403</td>\n",
       "      <td>outlier</td>\n",
       "    </tr>\n",
       "    <tr>\n",
       "      <th>5178</th>\n",
       "      <td>2</td>\n",
       "      <td>3.105523</td>\n",
       "      <td>outlier</td>\n",
       "    </tr>\n",
       "    <tr>\n",
       "      <th>5378</th>\n",
       "      <td>1</td>\n",
       "      <td>3.490403</td>\n",
       "      <td>outlier</td>\n",
       "    </tr>\n",
       "    <tr>\n",
       "      <th>5431</th>\n",
       "      <td>2</td>\n",
       "      <td>3.105523</td>\n",
       "      <td>outlier</td>\n",
       "    </tr>\n",
       "    <tr>\n",
       "      <th>5531</th>\n",
       "      <td>2</td>\n",
       "      <td>3.105523</td>\n",
       "      <td>outlier</td>\n",
       "    </tr>\n",
       "    <tr>\n",
       "      <th>5677</th>\n",
       "      <td>2</td>\n",
       "      <td>3.105523</td>\n",
       "      <td>outlier</td>\n",
       "    </tr>\n",
       "    <tr>\n",
       "      <th>5761</th>\n",
       "      <td>2</td>\n",
       "      <td>3.105523</td>\n",
       "      <td>outlier</td>\n",
       "    </tr>\n",
       "    <tr>\n",
       "      <th>5841</th>\n",
       "      <td>2</td>\n",
       "      <td>3.105523</td>\n",
       "      <td>outlier</td>\n",
       "    </tr>\n",
       "    <tr>\n",
       "      <th>5988</th>\n",
       "      <td>2</td>\n",
       "      <td>3.105523</td>\n",
       "      <td>outlier</td>\n",
       "    </tr>\n",
       "    <tr>\n",
       "      <th>6102</th>\n",
       "      <td>2</td>\n",
       "      <td>3.105523</td>\n",
       "      <td>outlier</td>\n",
       "    </tr>\n",
       "    <tr>\n",
       "      <th>6225</th>\n",
       "      <td>2</td>\n",
       "      <td>3.105523</td>\n",
       "      <td>outlier</td>\n",
       "    </tr>\n",
       "    <tr>\n",
       "      <th>6258</th>\n",
       "      <td>2</td>\n",
       "      <td>3.105523</td>\n",
       "      <td>outlier</td>\n",
       "    </tr>\n",
       "    <tr>\n",
       "      <th>6514</th>\n",
       "      <td>2</td>\n",
       "      <td>3.105523</td>\n",
       "      <td>outlier</td>\n",
       "    </tr>\n",
       "    <tr>\n",
       "      <th>6554</th>\n",
       "      <td>2</td>\n",
       "      <td>3.105523</td>\n",
       "      <td>outlier</td>\n",
       "    </tr>\n",
       "    <tr>\n",
       "      <th>6784</th>\n",
       "      <td>2</td>\n",
       "      <td>3.105523</td>\n",
       "      <td>outlier</td>\n",
       "    </tr>\n",
       "    <tr>\n",
       "      <th>6843</th>\n",
       "      <td>2</td>\n",
       "      <td>3.105523</td>\n",
       "      <td>outlier</td>\n",
       "    </tr>\n",
       "    <tr>\n",
       "      <th>6910</th>\n",
       "      <td>2</td>\n",
       "      <td>3.105523</td>\n",
       "      <td>outlier</td>\n",
       "    </tr>\n",
       "    <tr>\n",
       "      <th>6947</th>\n",
       "      <td>2</td>\n",
       "      <td>3.105523</td>\n",
       "      <td>outlier</td>\n",
       "    </tr>\n",
       "    <tr>\n",
       "      <th>7105</th>\n",
       "      <td>2</td>\n",
       "      <td>3.105523</td>\n",
       "      <td>outlier</td>\n",
       "    </tr>\n",
       "    <tr>\n",
       "      <th>7226</th>\n",
       "      <td>2</td>\n",
       "      <td>3.105523</td>\n",
       "      <td>outlier</td>\n",
       "    </tr>\n",
       "    <tr>\n",
       "      <th>7338</th>\n",
       "      <td>2</td>\n",
       "      <td>3.105523</td>\n",
       "      <td>outlier</td>\n",
       "    </tr>\n",
       "    <tr>\n",
       "      <th>7353</th>\n",
       "      <td>2</td>\n",
       "      <td>3.105523</td>\n",
       "      <td>outlier</td>\n",
       "    </tr>\n",
       "    <tr>\n",
       "      <th>7508</th>\n",
       "      <td>2</td>\n",
       "      <td>3.105523</td>\n",
       "      <td>outlier</td>\n",
       "    </tr>\n",
       "    <tr>\n",
       "      <th>7564</th>\n",
       "      <td>1</td>\n",
       "      <td>3.490403</td>\n",
       "      <td>outlier</td>\n",
       "    </tr>\n",
       "    <tr>\n",
       "      <th>7783</th>\n",
       "      <td>2</td>\n",
       "      <td>3.105523</td>\n",
       "      <td>outlier</td>\n",
       "    </tr>\n",
       "    <tr>\n",
       "      <th>7941</th>\n",
       "      <td>2</td>\n",
       "      <td>3.105523</td>\n",
       "      <td>outlier</td>\n",
       "    </tr>\n",
       "    <tr>\n",
       "      <th>8394</th>\n",
       "      <td>2</td>\n",
       "      <td>3.105523</td>\n",
       "      <td>outlier</td>\n",
       "    </tr>\n",
       "    <tr>\n",
       "      <th>8681</th>\n",
       "      <td>2</td>\n",
       "      <td>3.105523</td>\n",
       "      <td>outlier</td>\n",
       "    </tr>\n",
       "    <tr>\n",
       "      <th>8740</th>\n",
       "      <td>2</td>\n",
       "      <td>3.105523</td>\n",
       "      <td>outlier</td>\n",
       "    </tr>\n",
       "    <tr>\n",
       "      <th>8772</th>\n",
       "      <td>2</td>\n",
       "      <td>3.105523</td>\n",
       "      <td>outlier</td>\n",
       "    </tr>\n",
       "    <tr>\n",
       "      <th>8880</th>\n",
       "      <td>2</td>\n",
       "      <td>3.105523</td>\n",
       "      <td>outlier</td>\n",
       "    </tr>\n",
       "    <tr>\n",
       "      <th>8963</th>\n",
       "      <td>2</td>\n",
       "      <td>3.105523</td>\n",
       "      <td>outlier</td>\n",
       "    </tr>\n",
       "    <tr>\n",
       "      <th>8969</th>\n",
       "      <td>2</td>\n",
       "      <td>3.105523</td>\n",
       "      <td>outlier</td>\n",
       "    </tr>\n",
       "    <tr>\n",
       "      <th>9181</th>\n",
       "      <td>2</td>\n",
       "      <td>3.105523</td>\n",
       "      <td>outlier</td>\n",
       "    </tr>\n",
       "    <tr>\n",
       "      <th>9680</th>\n",
       "      <td>2</td>\n",
       "      <td>3.105523</td>\n",
       "      <td>outlier</td>\n",
       "    </tr>\n",
       "    <tr>\n",
       "      <th>9803</th>\n",
       "      <td>1</td>\n",
       "      <td>3.490403</td>\n",
       "      <td>outlier</td>\n",
       "    </tr>\n",
       "    <tr>\n",
       "      <th>9905</th>\n",
       "      <td>2</td>\n",
       "      <td>3.105523</td>\n",
       "      <td>outlier</td>\n",
       "    </tr>\n",
       "    <tr>\n",
       "      <th>9949</th>\n",
       "      <td>1</td>\n",
       "      <td>3.490403</td>\n",
       "      <td>outlier</td>\n",
       "    </tr>\n",
       "    <tr>\n",
       "      <th>9974</th>\n",
       "      <td>1</td>\n",
       "      <td>3.490403</td>\n",
       "      <td>outlier</td>\n",
       "    </tr>\n",
       "    <tr>\n",
       "      <th>10131</th>\n",
       "      <td>1</td>\n",
       "      <td>3.490403</td>\n",
       "      <td>outlier</td>\n",
       "    </tr>\n",
       "    <tr>\n",
       "      <th>10316</th>\n",
       "      <td>2</td>\n",
       "      <td>3.105523</td>\n",
       "      <td>outlier</td>\n",
       "    </tr>\n",
       "    <tr>\n",
       "      <th>11067</th>\n",
       "      <td>1</td>\n",
       "      <td>3.490403</td>\n",
       "      <td>outlier</td>\n",
       "    </tr>\n",
       "    <tr>\n",
       "      <th>11091</th>\n",
       "      <td>2</td>\n",
       "      <td>3.105523</td>\n",
       "      <td>outlier</td>\n",
       "    </tr>\n",
       "    <tr>\n",
       "      <th>11481</th>\n",
       "      <td>1</td>\n",
       "      <td>3.490403</td>\n",
       "      <td>outlier</td>\n",
       "    </tr>\n",
       "    <tr>\n",
       "      <th>11484</th>\n",
       "      <td>1</td>\n",
       "      <td>3.490403</td>\n",
       "      <td>outlier</td>\n",
       "    </tr>\n",
       "    <tr>\n",
       "      <th>11531</th>\n",
       "      <td>1</td>\n",
       "      <td>3.490403</td>\n",
       "      <td>outlier</td>\n",
       "    </tr>\n",
       "    <tr>\n",
       "      <th>11946</th>\n",
       "      <td>2</td>\n",
       "      <td>3.105523</td>\n",
       "      <td>outlier</td>\n",
       "    </tr>\n",
       "    <tr>\n",
       "      <th>12076</th>\n",
       "      <td>1</td>\n",
       "      <td>3.490403</td>\n",
       "      <td>outlier</td>\n",
       "    </tr>\n",
       "    <tr>\n",
       "      <th>12197</th>\n",
       "      <td>2</td>\n",
       "      <td>3.105523</td>\n",
       "      <td>outlier</td>\n",
       "    </tr>\n",
       "    <tr>\n",
       "      <th>12252</th>\n",
       "      <td>2</td>\n",
       "      <td>3.105523</td>\n",
       "      <td>outlier</td>\n",
       "    </tr>\n",
       "    <tr>\n",
       "      <th>12342</th>\n",
       "      <td>2</td>\n",
       "      <td>3.105523</td>\n",
       "      <td>outlier</td>\n",
       "    </tr>\n",
       "    <tr>\n",
       "      <th>12398</th>\n",
       "      <td>2</td>\n",
       "      <td>3.105523</td>\n",
       "      <td>outlier</td>\n",
       "    </tr>\n",
       "    <tr>\n",
       "      <th>12682</th>\n",
       "      <td>2</td>\n",
       "      <td>3.105523</td>\n",
       "      <td>outlier</td>\n",
       "    </tr>\n",
       "    <tr>\n",
       "      <th>12745</th>\n",
       "      <td>2</td>\n",
       "      <td>3.105523</td>\n",
       "      <td>outlier</td>\n",
       "    </tr>\n",
       "    <tr>\n",
       "      <th>12764</th>\n",
       "      <td>2</td>\n",
       "      <td>3.105523</td>\n",
       "      <td>outlier</td>\n",
       "    </tr>\n",
       "    <tr>\n",
       "      <th>12796</th>\n",
       "      <td>2</td>\n",
       "      <td>3.105523</td>\n",
       "      <td>outlier</td>\n",
       "    </tr>\n",
       "    <tr>\n",
       "      <th>12835</th>\n",
       "      <td>2</td>\n",
       "      <td>3.105523</td>\n",
       "      <td>outlier</td>\n",
       "    </tr>\n",
       "    <tr>\n",
       "      <th>12965</th>\n",
       "      <td>2</td>\n",
       "      <td>3.105523</td>\n",
       "      <td>outlier</td>\n",
       "    </tr>\n",
       "    <tr>\n",
       "      <th>13001</th>\n",
       "      <td>2</td>\n",
       "      <td>3.105523</td>\n",
       "      <td>outlier</td>\n",
       "    </tr>\n",
       "    <tr>\n",
       "      <th>13083</th>\n",
       "      <td>2</td>\n",
       "      <td>3.105523</td>\n",
       "      <td>outlier</td>\n",
       "    </tr>\n",
       "    <tr>\n",
       "      <th>13370</th>\n",
       "      <td>2</td>\n",
       "      <td>3.105523</td>\n",
       "      <td>outlier</td>\n",
       "    </tr>\n",
       "    <tr>\n",
       "      <th>13373</th>\n",
       "      <td>2</td>\n",
       "      <td>3.105523</td>\n",
       "      <td>outlier</td>\n",
       "    </tr>\n",
       "    <tr>\n",
       "      <th>13382</th>\n",
       "      <td>2</td>\n",
       "      <td>3.105523</td>\n",
       "      <td>outlier</td>\n",
       "    </tr>\n",
       "    <tr>\n",
       "      <th>13455</th>\n",
       "      <td>2</td>\n",
       "      <td>3.105523</td>\n",
       "      <td>outlier</td>\n",
       "    </tr>\n",
       "    <tr>\n",
       "      <th>13511</th>\n",
       "      <td>2</td>\n",
       "      <td>3.105523</td>\n",
       "      <td>outlier</td>\n",
       "    </tr>\n",
       "    <tr>\n",
       "      <th>13552</th>\n",
       "      <td>2</td>\n",
       "      <td>3.105523</td>\n",
       "      <td>outlier</td>\n",
       "    </tr>\n",
       "    <tr>\n",
       "      <th>13563</th>\n",
       "      <td>2</td>\n",
       "      <td>3.105523</td>\n",
       "      <td>outlier</td>\n",
       "    </tr>\n",
       "    <tr>\n",
       "      <th>14011</th>\n",
       "      <td>2</td>\n",
       "      <td>3.105523</td>\n",
       "      <td>outlier</td>\n",
       "    </tr>\n",
       "    <tr>\n",
       "      <th>14015</th>\n",
       "      <td>2</td>\n",
       "      <td>3.105523</td>\n",
       "      <td>outlier</td>\n",
       "    </tr>\n",
       "    <tr>\n",
       "      <th>14016</th>\n",
       "      <td>2</td>\n",
       "      <td>3.105523</td>\n",
       "      <td>outlier</td>\n",
       "    </tr>\n",
       "    <tr>\n",
       "      <th>14116</th>\n",
       "      <td>2</td>\n",
       "      <td>3.105523</td>\n",
       "      <td>outlier</td>\n",
       "    </tr>\n",
       "    <tr>\n",
       "      <th>14141</th>\n",
       "      <td>2</td>\n",
       "      <td>3.105523</td>\n",
       "      <td>outlier</td>\n",
       "    </tr>\n",
       "    <tr>\n",
       "      <th>14185</th>\n",
       "      <td>2</td>\n",
       "      <td>3.105523</td>\n",
       "      <td>outlier</td>\n",
       "    </tr>\n",
       "    <tr>\n",
       "      <th>14254</th>\n",
       "      <td>2</td>\n",
       "      <td>3.105523</td>\n",
       "      <td>outlier</td>\n",
       "    </tr>\n",
       "    <tr>\n",
       "      <th>14318</th>\n",
       "      <td>2</td>\n",
       "      <td>3.105523</td>\n",
       "      <td>outlier</td>\n",
       "    </tr>\n",
       "    <tr>\n",
       "      <th>14475</th>\n",
       "      <td>2</td>\n",
       "      <td>3.105523</td>\n",
       "      <td>outlier</td>\n",
       "    </tr>\n",
       "    <tr>\n",
       "      <th>14551</th>\n",
       "      <td>1</td>\n",
       "      <td>3.490403</td>\n",
       "      <td>outlier</td>\n",
       "    </tr>\n",
       "    <tr>\n",
       "      <th>14724</th>\n",
       "      <td>2</td>\n",
       "      <td>3.105523</td>\n",
       "      <td>outlier</td>\n",
       "    </tr>\n",
       "  </tbody>\n",
       "</table>\n",
       "</div>"
      ],
      "text/plain": [
       "       education    zscore is_outliers\n",
       "72             2  3.105523     outlier\n",
       "101            1  3.490403     outlier\n",
       "199            2  3.105523     outlier\n",
       "243            2  3.105523     outlier\n",
       "437            2  3.105523     outlier\n",
       "541            2  3.105523     outlier\n",
       "877            2  3.105523     outlier\n",
       "1182           2  3.105523     outlier\n",
       "1223           2  3.105523     outlier\n",
       "1308           2  3.105523     outlier\n",
       "1321           1  3.490403     outlier\n",
       "1350           1  3.490403     outlier\n",
       "1496           2  3.105523     outlier\n",
       "1587           1  3.490403     outlier\n",
       "1807           2  3.105523     outlier\n",
       "1880           1  3.490403     outlier\n",
       "1983           2  3.105523     outlier\n",
       "2523           2  3.105523     outlier\n",
       "2640           2  3.105523     outlier\n",
       "2685           2  3.105523     outlier\n",
       "2702           2  3.105523     outlier\n",
       "2746           2  3.105523     outlier\n",
       "2978           1  3.490403     outlier\n",
       "3273           1  3.490403     outlier\n",
       "3372           2  3.105523     outlier\n",
       "3571           2  3.105523     outlier\n",
       "3647           1  3.490403     outlier\n",
       "3732           1  3.490403     outlier\n",
       "3741           1  3.490403     outlier\n",
       "3837           2  3.105523     outlier\n",
       "3924           2  3.105523     outlier\n",
       "4042           1  3.490403     outlier\n",
       "4080           2  3.105523     outlier\n",
       "4136           2  3.105523     outlier\n",
       "4590           2  3.105523     outlier\n",
       "5105           1  3.490403     outlier\n",
       "5178           2  3.105523     outlier\n",
       "5378           1  3.490403     outlier\n",
       "5431           2  3.105523     outlier\n",
       "5531           2  3.105523     outlier\n",
       "5677           2  3.105523     outlier\n",
       "5761           2  3.105523     outlier\n",
       "5841           2  3.105523     outlier\n",
       "5988           2  3.105523     outlier\n",
       "6102           2  3.105523     outlier\n",
       "6225           2  3.105523     outlier\n",
       "6258           2  3.105523     outlier\n",
       "6514           2  3.105523     outlier\n",
       "6554           2  3.105523     outlier\n",
       "6784           2  3.105523     outlier\n",
       "6843           2  3.105523     outlier\n",
       "6910           2  3.105523     outlier\n",
       "6947           2  3.105523     outlier\n",
       "7105           2  3.105523     outlier\n",
       "7226           2  3.105523     outlier\n",
       "7338           2  3.105523     outlier\n",
       "7353           2  3.105523     outlier\n",
       "7508           2  3.105523     outlier\n",
       "7564           1  3.490403     outlier\n",
       "7783           2  3.105523     outlier\n",
       "7941           2  3.105523     outlier\n",
       "8394           2  3.105523     outlier\n",
       "8681           2  3.105523     outlier\n",
       "8740           2  3.105523     outlier\n",
       "8772           2  3.105523     outlier\n",
       "8880           2  3.105523     outlier\n",
       "8963           2  3.105523     outlier\n",
       "8969           2  3.105523     outlier\n",
       "9181           2  3.105523     outlier\n",
       "9680           2  3.105523     outlier\n",
       "9803           1  3.490403     outlier\n",
       "9905           2  3.105523     outlier\n",
       "9949           1  3.490403     outlier\n",
       "9974           1  3.490403     outlier\n",
       "10131          1  3.490403     outlier\n",
       "10316          2  3.105523     outlier\n",
       "11067          1  3.490403     outlier\n",
       "11091          2  3.105523     outlier\n",
       "11481          1  3.490403     outlier\n",
       "11484          1  3.490403     outlier\n",
       "11531          1  3.490403     outlier\n",
       "11946          2  3.105523     outlier\n",
       "12076          1  3.490403     outlier\n",
       "12197          2  3.105523     outlier\n",
       "12252          2  3.105523     outlier\n",
       "12342          2  3.105523     outlier\n",
       "12398          2  3.105523     outlier\n",
       "12682          2  3.105523     outlier\n",
       "12745          2  3.105523     outlier\n",
       "12764          2  3.105523     outlier\n",
       "12796          2  3.105523     outlier\n",
       "12835          2  3.105523     outlier\n",
       "12965          2  3.105523     outlier\n",
       "13001          2  3.105523     outlier\n",
       "13083          2  3.105523     outlier\n",
       "13370          2  3.105523     outlier\n",
       "13373          2  3.105523     outlier\n",
       "13382          2  3.105523     outlier\n",
       "13455          2  3.105523     outlier\n",
       "13511          2  3.105523     outlier\n",
       "13552          2  3.105523     outlier\n",
       "13563          2  3.105523     outlier\n",
       "14011          2  3.105523     outlier\n",
       "14015          2  3.105523     outlier\n",
       "14016          2  3.105523     outlier\n",
       "14116          2  3.105523     outlier\n",
       "14141          2  3.105523     outlier\n",
       "14185          2  3.105523     outlier\n",
       "14254          2  3.105523     outlier\n",
       "14318          2  3.105523     outlier\n",
       "14475          2  3.105523     outlier\n",
       "14551          1  3.490403     outlier\n",
       "14724          2  3.105523     outlier"
      ]
     },
     "execution_count": 21,
     "metadata": {},
     "output_type": "execute_result"
    }
   ],
   "source": [
    "outliers = detecting_outliers_using_zscore(data, 'education')\n",
    "outliers"
   ]
  },
  {
   "cell_type": "code",
   "execution_count": 22,
   "id": "ea3342d8",
   "metadata": {
    "hidden": true
   },
   "outputs": [
    {
     "data": {
      "text/plain": [
       "2    89\n",
       "1    24\n",
       "Name: education, dtype: int64"
      ]
     },
     "execution_count": 22,
     "metadata": {},
     "output_type": "execute_result"
    }
   ],
   "source": [
    "outliers.education.value_counts()"
   ]
  },
  {
   "cell_type": "markdown",
   "id": "508b3459",
   "metadata": {
    "heading_collapsed": true
   },
   "source": [
    "### SUMMARY POINTS ON DETECTING OUTLIERS USING Z-SCORE ON EDUCATION"
   ]
  },
  {
   "cell_type": "markdown",
   "id": "05c87431",
   "metadata": {
    "hidden": true
   },
   "source": [
    "1. We have detected 113 rows have an outliers in education features in which eduction has been mentioned as 1st and 2nd standard"
   ]
  },
  {
   "cell_type": "markdown",
   "id": "e5af7070",
   "metadata": {
    "heading_collapsed": true
   },
   "source": [
    "### DETECTING OUTLIERS USING IQR RANGE METHOD ON EDUCATION"
   ]
  },
  {
   "cell_type": "code",
   "execution_count": 23,
   "id": "85f10d94",
   "metadata": {
    "hidden": true
   },
   "outputs": [
    {
     "data": {
      "image/png": "[encoded data removed]",
      "text/plain": [
       "<Figure size 1152x288 with 1 Axes>"
      ]
     },
     "metadata": {},
     "output_type": "display_data"
    }
   ],
   "source": [
    "plt.style.use('ggplot')\n",
    "plt.figure(figsize=(16,4))\n",
    "sns.boxplot(x=data['education'], color='#9999cc');\n",
    "sns.stripplot(x=data['education'], color='#ffffcc',edgecolor='red',linewidth=0.5);"
   ]
  },
  {
   "cell_type": "code",
   "execution_count": 24,
   "id": "b3ce5b8d",
   "metadata": {
    "hidden": true
   },
   "outputs": [],
   "source": [
    "def detect_outliers_boxplot(data,variable):\n",
    "    Q1 = data[variable].quantile(0.25)\n",
    "    Q3 = data[variable].quantile(0.75)\n",
    "    IQR = Q3 - Q1\n",
    "    Outliers_lower_bound = data[variable][data[variable]<Q1-(1.5*IQR)]\n",
    "    Outliers_upper_bound = data[variable][data[variable]>Q3+(1.5*IQR)]\n",
    "    return Outliers_lower_bound, Outliers_upper_bound"
   ]
  },
  {
   "cell_type": "code",
   "execution_count": 26,
   "id": "c7b78915",
   "metadata": {
    "hidden": true
   },
   "outputs": [],
   "source": [
    "Outliers_lower, Outliers_upper = detect_outliers_boxplot(data, 'education')"
   ]
  },
  {
   "cell_type": "code",
   "execution_count": 27,
   "id": "06564a6b",
   "metadata": {
    "hidden": true
   },
   "outputs": [
    {
     "data": {
      "text/plain": [
       "4    283\n",
       "3    156\n",
       "2     89\n",
       "1     24\n",
       "Name: education, dtype: int64"
      ]
     },
     "execution_count": 27,
     "metadata": {},
     "output_type": "execute_result"
    }
   ],
   "source": [
    "Outliers_lower.value_counts()"
   ]
  },
  {
   "cell_type": "code",
   "execution_count": 28,
   "id": "e54c158d",
   "metadata": {
    "hidden": true
   },
   "outputs": [
    {
     "data": {
      "text/plain": [
       "552"
      ]
     },
     "execution_count": 28,
     "metadata": {},
     "output_type": "execute_result"
    }
   ],
   "source": [
    "Outliers_lower.value_counts().sum()"
   ]
  },
  {
   "cell_type": "code",
   "execution_count": 29,
   "id": "89c22da0",
   "metadata": {
    "hidden": true
   },
   "outputs": [
    {
     "data": {
      "text/plain": [
       "Series([], Name: education, dtype: int64)"
      ]
     },
     "execution_count": 29,
     "metadata": {},
     "output_type": "execute_result"
    }
   ],
   "source": [
    "Outliers_upper.value_counts()"
   ]
  },
  {
   "cell_type": "markdown",
   "id": "00cdc2c8",
   "metadata": {
    "heading_collapsed": true
   },
   "source": [
    "### SUMMARY POINTS ON DETECTING OUTLIERS USING IQR RANGE METHOD ON EDUCATION"
   ]
  },
  {
   "cell_type": "markdown",
   "id": "4cff2936",
   "metadata": {
    "hidden": true
   },
   "source": [
    "1. We have detected 552 rows as an outliers in education feature using IQR range method\n",
    "2. Standard 1st, 2nd, 3rd & 4th are the values have in the education feature which are an outliers"
   ]
  },
  {
   "cell_type": "markdown",
   "id": "7275e301",
   "metadata": {},
   "source": [
    "# OUTLIERS DETECTION: AGE"
   ]
  },
  {
   "cell_type": "markdown",
   "id": "039d5167",
   "metadata": {
    "heading_collapsed": true
   },
   "source": [
    "### DETECTING OUTLIERS USING Z-SCORE ON AGE"
   ]
  },
  {
   "cell_type": "code",
   "execution_count": 30,
   "id": "25a6d516",
   "metadata": {
    "hidden": true
   },
   "outputs": [
    {
     "data": {
      "text/html": [
       "<div>\n",
       "<style scoped>\n",
       "    .dataframe tbody tr th:only-of-type {\n",
       "        vertical-align: middle;\n",
       "    }\n",
       "\n",
       "    .dataframe tbody tr th {\n",
       "        vertical-align: top;\n",
       "    }\n",
       "\n",
       "    .dataframe thead th {\n",
       "        text-align: right;\n",
       "    }\n",
       "</style>\n",
       "<table border=\"1\" class=\"dataframe\">\n",
       "  <thead>\n",
       "    <tr style=\"text-align: right;\">\n",
       "      <th></th>\n",
       "      <th>age</th>\n",
       "      <th>zscore</th>\n",
       "      <th>is_outliers</th>\n",
       "    </tr>\n",
       "  </thead>\n",
       "  <tbody>\n",
       "    <tr>\n",
       "      <th>99</th>\n",
       "      <td>90</td>\n",
       "      <td>3.751354</td>\n",
       "      <td>outlier</td>\n",
       "    </tr>\n",
       "    <tr>\n",
       "      <th>204</th>\n",
       "      <td>80</td>\n",
       "      <td>3.020275</td>\n",
       "      <td>outlier</td>\n",
       "    </tr>\n",
       "    <tr>\n",
       "      <th>492</th>\n",
       "      <td>90</td>\n",
       "      <td>3.751354</td>\n",
       "      <td>outlier</td>\n",
       "    </tr>\n",
       "    <tr>\n",
       "      <th>552</th>\n",
       "      <td>88</td>\n",
       "      <td>3.605138</td>\n",
       "      <td>outlier</td>\n",
       "    </tr>\n",
       "    <tr>\n",
       "      <th>885</th>\n",
       "      <td>90</td>\n",
       "      <td>3.751354</td>\n",
       "      <td>outlier</td>\n",
       "    </tr>\n",
       "  </tbody>\n",
       "</table>\n",
       "</div>"
      ],
      "text/plain": [
       "     age    zscore is_outliers\n",
       "99    90  3.751354     outlier\n",
       "204   80  3.020275     outlier\n",
       "492   90  3.751354     outlier\n",
       "552   88  3.605138     outlier\n",
       "885   90  3.751354     outlier"
      ]
     },
     "execution_count": 30,
     "metadata": {},
     "output_type": "execute_result"
    }
   ],
   "source": [
    "outliers_age = detecting_outliers_using_zscore(data, 'age')\n",
    "outliers_age.head()"
   ]
  },
  {
   "cell_type": "code",
   "execution_count": 31,
   "id": "837cca31",
   "metadata": {
    "hidden": true
   },
   "outputs": [
    {
     "data": {
      "text/plain": [
       "80    10\n",
       "81     5\n",
       "82     8\n",
       "83     2\n",
       "84     5\n",
       "85     3\n",
       "86     1\n",
       "87     1\n",
       "88     2\n",
       "90    23\n",
       "Name: age, dtype: int64"
      ]
     },
     "execution_count": 31,
     "metadata": {},
     "output_type": "execute_result"
    }
   ],
   "source": [
    "outliers_age.age.value_counts().sort_index()"
   ]
  },
  {
   "cell_type": "code",
   "execution_count": 32,
   "id": "1f3664d8",
   "metadata": {
    "hidden": true
   },
   "outputs": [
    {
     "data": {
      "text/plain": [
       "60"
      ]
     },
     "execution_count": 32,
     "metadata": {},
     "output_type": "execute_result"
    }
   ],
   "source": [
    "outliers_age.age.value_counts().sum()"
   ]
  },
  {
   "cell_type": "markdown",
   "id": "12c5e826",
   "metadata": {
    "heading_collapsed": true
   },
   "source": [
    "### SUMMARY POINTS ON DETECTING OUTLIERS USING Z-SCORE ON AGE"
   ]
  },
  {
   "cell_type": "markdown",
   "id": "b8b20212",
   "metadata": {
    "hidden": true
   },
   "source": [
    "We have detected 60 rows as an outliers in age feature in which age has been recorded from 80 years old to 90 years old"
   ]
  },
  {
   "cell_type": "markdown",
   "id": "26aed41f",
   "metadata": {
    "heading_collapsed": true
   },
   "source": [
    "### DETECTING OUTLIERS USING IQR RANGE METHOD ON AGE"
   ]
  },
  {
   "cell_type": "code",
   "execution_count": 33,
   "id": "dede5156",
   "metadata": {
    "hidden": true
   },
   "outputs": [
    {
     "data": {
      "image/png": "[encoded data removed]",
      "text/plain": [
       "<Figure size 1152x288 with 1 Axes>"
      ]
     },
     "metadata": {},
     "output_type": "display_data"
    }
   ],
   "source": [
    "plt.style.use('ggplot')\n",
    "plt.figure(figsize=(16,4))\n",
    "sns.boxplot(x=data['age'], color='#9999cc');\n",
    "sns.stripplot(x=data['age'], color='#ffffcc',edgecolor='red',linewidth=0.5);"
   ]
  },
  {
   "cell_type": "code",
   "execution_count": 34,
   "id": "9b22f261",
   "metadata": {
    "hidden": true
   },
   "outputs": [],
   "source": [
    "Outliers_lower, Outliers_upper = detect_outliers_boxplot(data, 'age')"
   ]
  },
  {
   "cell_type": "code",
   "execution_count": 35,
   "id": "d64ea089",
   "metadata": {
    "hidden": true
   },
   "outputs": [
    {
     "data": {
      "text/plain": [
       "Series([], Name: age, dtype: int64)"
      ]
     },
     "execution_count": 35,
     "metadata": {},
     "output_type": "execute_result"
    }
   ],
   "source": [
    "Outliers_lower.value_counts()"
   ]
  },
  {
   "cell_type": "code",
   "execution_count": 36,
   "id": "a70ab139",
   "metadata": {
    "hidden": true
   },
   "outputs": [
    {
     "data": {
      "text/plain": [
       "79    10\n",
       "80    10\n",
       "81     5\n",
       "82     8\n",
       "83     2\n",
       "84     5\n",
       "85     3\n",
       "86     1\n",
       "87     1\n",
       "88     2\n",
       "90    23\n",
       "Name: age, dtype: int64"
      ]
     },
     "execution_count": 36,
     "metadata": {},
     "output_type": "execute_result"
    }
   ],
   "source": [
    "Outliers_upper.value_counts().sort_index()"
   ]
  },
  {
   "cell_type": "code",
   "execution_count": 37,
   "id": "da7c1eaa",
   "metadata": {
    "hidden": true
   },
   "outputs": [
    {
     "data": {
      "text/plain": [
       "70"
      ]
     },
     "execution_count": 37,
     "metadata": {},
     "output_type": "execute_result"
    }
   ],
   "source": [
    "Outliers_upper.value_counts().sum()"
   ]
  },
  {
   "cell_type": "markdown",
   "id": "05094ec9",
   "metadata": {
    "heading_collapsed": true
   },
   "source": [
    "### SUMMARY POINTS ON DETECTING OUTLIERS USING IQR RANGE METHOD ON AGE"
   ]
  },
  {
   "cell_type": "markdown",
   "id": "7ab2715b",
   "metadata": {
    "hidden": true
   },
   "source": [
    "1. We have detected 70 rows as an outliers in age feature in which age has been recorded from 79 years old to 90 years old\n",
    "2. Age 90 is an extreme outliers which has 23 records"
   ]
  },
  {
   "cell_type": "markdown",
   "id": "c7b583ba",
   "metadata": {},
   "source": [
    "# SELECT ONLY RECORDS WITH AGE  AT LEAST 80, AND CONSTRUCT A HISTOGRAM OF AGE. EXPLAIN WHAT YOU SEE"
   ]
  },
  {
   "cell_type": "markdown",
   "id": "d175bee0",
   "metadata": {
    "heading_collapsed": true
   },
   "source": [
    "###   SELECTING ONLY RECORDS WITH AGE ATLEAST 80 AND CREATE HISTOGRAM"
   ]
  },
  {
   "cell_type": "code",
   "execution_count": 38,
   "id": "7aae95e1",
   "metadata": {
    "hidden": true
   },
   "outputs": [
    {
     "data": {
      "image/png": "[encoded data removed]",
      "text/plain": [
       "<Figure size 1152x648 with 1 Axes>"
      ]
     },
     "metadata": {},
     "output_type": "display_data"
    }
   ],
   "source": [
    "bins = [17,20,25,30,35,40,45,50,55,60,65,70,75,80]\n",
    "plt.figure(figsize=(16,9))\n",
    "sns.histplot(x=data['age'][data['age']<=80],hue=data['sex'],kde=True, bins=bins);"
   ]
  },
  {
   "cell_type": "markdown",
   "id": "d79d174f",
   "metadata": {
    "heading_collapsed": true
   },
   "source": [
    "### SUMMARY ON HISTOGRAM: AGE ATLEAST 80"
   ]
  },
  {
   "cell_type": "markdown",
   "id": "39000de1",
   "metadata": {
    "hidden": true
   },
   "source": [
    "for male:\n",
    "1. The data spread is from about 17 age to 80 age.\n",
    "2. As per the above histogram, the data have right skewed it means maximum records have an age between 25 to 45 age\n",
    "3. Age 35 to 40 as an identified the peaks, which are the tallest clusters of the bars\n",
    "4. The peaks represent the most common values. Assess the spread of the sample to understand how much the data varies.\n",
    "\n",
    "for female:\n",
    "1. As per the above histogram, the data have right skewed it means maximum records have an age between 17 to 45 age\n",
    "2. Age 20 to 30 as an identified the peaks, which are the tallest clusters of the bars"
   ]
  },
  {
   "cell_type": "markdown",
   "id": "ba09e008",
   "metadata": {
    "heading_collapsed": true
   },
   "source": [
    "# END"
   ]
  }
 ],
 "metadata": {
  "kernelspec": {
   "display_name": "Python 3 (ipykernel)",
   "language": "python",
   "name": "python3"
  },
  "language_info": {
   "codemirror_mode": {
    "name": "ipython",
    "version": 3
   },
   "file_extension": ".py",
   "mimetype": "text/x-python",
   "name": "python",
   "nbconvert_exporter": "python",
   "pygments_lexer": "ipython3",
   "version": "3.9.7"
  },
  "toc": {
   "base_numbering": 1,
   "nav_menu": {},
   "number_sections": true,
   "sideBar": true,
   "skip_h1_title": false,
   "title_cell": "Table of Contents",
   "title_sidebar": "Contents",
   "toc_cell": false,
   "toc_position": {},
   "toc_section_display": true,
   "toc_window_display": false
  },
  "varInspector": {
   "cols": {
    "lenName": 16,
    "lenType": 16,
    "lenVar": 40
   },
   "kernels_config": {
    "python": {
     "delete_cmd_postfix": "",
     "delete_cmd_prefix": "del ",
     "library": "var_list.py",
     "varRefreshCmd": "print(var_dic_list())"
    },
    "r": {
     "delete_cmd_postfix": ") ",
     "delete_cmd_prefix": "rm(",
     "library": "var_list.r",
     "varRefreshCmd": "cat(var_dic_list()) "
    }
   },
   "types_to_exclude": [
    "module",
    "function",
    "builtin_function_or_method",
    "instance",
    "_Feature"
   ],
   "window_display": false
  }
 },
 "nbformat": 4,
 "nbformat_minor": 5
}
