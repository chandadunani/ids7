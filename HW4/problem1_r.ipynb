{
 "cells": [
  {
   "cell_type": "markdown",
   "metadata": {
    "heading_collapsed": true
   },
   "source": [
    "# LOADING LIBRARIES"
   ]
  },
  {
   "cell_type": "code",
   "execution_count": 2,
   "metadata": {
    "hidden": true
   },
   "outputs": [
    {
     "ename": "NameError",
     "evalue": "name 'library' is not defined",
     "output_type": "error",
     "traceback": [
      "\u001b[1;31m---------------------------------------------------------------------------\u001b[0m",
      "\u001b[1;31mNameError\u001b[0m                                 Traceback (most recent call last)",
      "\u001b[1;32m~\\AppData\\Local\\Temp/ipykernel_39156/1875611674.py\u001b[0m in \u001b[0;36m<module>\u001b[1;34m\u001b[0m\n\u001b[0;32m      1\u001b[0m \u001b[1;31m# Importing library\u001b[0m\u001b[1;33m\u001b[0m\u001b[1;33m\u001b[0m\u001b[0m\n\u001b[1;32m----> 2\u001b[1;33m \u001b[0mlibrary\u001b[0m\u001b[1;33m(\u001b[0m\u001b[0mggplot2\u001b[0m\u001b[1;33m)\u001b[0m\u001b[1;33m\u001b[0m\u001b[1;33m\u001b[0m\u001b[0m\n\u001b[0m\u001b[0;32m      3\u001b[0m \u001b[0mlibrary\u001b[0m\u001b[1;33m(\u001b[0m\u001b[0mdplyr\u001b[0m\u001b[1;33m)\u001b[0m\u001b[1;33m\u001b[0m\u001b[1;33m\u001b[0m\u001b[0m\n",
      "\u001b[1;31mNameError\u001b[0m: name 'library' is not defined"
     ]
    }
   ],
   "source": [
    "# Importing library\n",
    "library(ggplot2)\n",
    "library(dplyr)"
   ]
  },
  {
   "cell_type": "markdown",
   "metadata": {
    "heading_collapsed": true
   },
   "source": [
    "# LOADING DATA"
   ]
  },
  {
   "cell_type": "code",
   "execution_count": 107,
   "metadata": {
    "hidden": true
   },
   "outputs": [],
   "source": [
    "#Loading data\n",
    "data <- read.csv('https://raw.githubusercontent.com/bforoura/IDS/main/HW4/adult_training.csv', sep = ',')"
   ]
  },
  {
   "cell_type": "code",
   "execution_count": 108,
   "metadata": {
    "hidden": true
   },
   "outputs": [
    {
     "data": {
      "text/html": [
       "<style>\n",
       ".list-inline {list-style: none; margin:0; padding: 0}\n",
       ".list-inline>li {display: inline-block}\n",
       ".list-inline>li:not(:last-child)::after {content: \"\\00b7\"; padding: 0 .5ex}\n",
       "</style>\n",
       "<ol class=list-inline><li>14797</li><li>9</li></ol>\n"
      ],
      "text/latex": [
       "\\begin{enumerate*}\n",
       "\\item 14797\n",
       "\\item 9\n",
       "\\end{enumerate*}\n"
      ],
      "text/markdown": [
       "1. 14797\n",
       "2. 9\n",
       "\n",
       "\n"
      ],
      "text/plain": [
       "[1] 14797     9"
      ]
     },
     "metadata": {},
     "output_type": "display_data"
    }
   ],
   "source": [
    "#Data shape\n",
    "dim(data)"
   ]
  },
  {
   "cell_type": "code",
   "execution_count": 109,
   "metadata": {
    "hidden": true
   },
   "outputs": [
    {
     "data": {
      "text/html": [
       "<table class=\"dataframe\">\n",
       "<caption>A data.frame: 6 × 9</caption>\n",
       "<thead>\n",
       "\t<tr><th></th><th scope=col>age</th><th scope=col>workclass</th><th scope=col>education</th><th scope=col>marital.status</th><th scope=col>occupation</th><th scope=col>sex</th><th scope=col>capital.gain</th><th scope=col>capital.loss</th><th scope=col>income</th></tr>\n",
       "\t<tr><th></th><th scope=col>&lt;int&gt;</th><th scope=col>&lt;chr&gt;</th><th scope=col>&lt;int&gt;</th><th scope=col>&lt;chr&gt;</th><th scope=col>&lt;chr&gt;</th><th scope=col>&lt;chr&gt;</th><th scope=col>&lt;int&gt;</th><th scope=col>&lt;int&gt;</th><th scope=col>&lt;chr&gt;</th></tr>\n",
       "</thead>\n",
       "<tbody>\n",
       "\t<tr><th scope=row>1</th><td>50</td><td>Self-emp-not-inc</td><td>13</td><td><span style=white-space:pre-wrap>Married-civ-spouse   </span></td><td><span style=white-space:pre-wrap>Exec-managerial  </span></td><td><span style=white-space:pre-wrap>Male  </span></td><td><span style=white-space:pre-wrap>    0</span></td><td>0</td><td>&lt;=50K</td></tr>\n",
       "\t<tr><th scope=row>2</th><td>38</td><td><span style=white-space:pre-wrap>Private         </span></td><td> 9</td><td><span style=white-space:pre-wrap>Divorced             </span></td><td>Handlers-cleaners</td><td><span style=white-space:pre-wrap>Male  </span></td><td><span style=white-space:pre-wrap>    0</span></td><td>0</td><td>&lt;=50K</td></tr>\n",
       "\t<tr><th scope=row>3</th><td>49</td><td><span style=white-space:pre-wrap>Private         </span></td><td> 5</td><td>Married-spouse-absent</td><td><span style=white-space:pre-wrap>Other-service    </span></td><td>Female</td><td><span style=white-space:pre-wrap>    0</span></td><td>0</td><td>&lt;=50K</td></tr>\n",
       "\t<tr><th scope=row>4</th><td>52</td><td>Self-emp-not-inc</td><td> 9</td><td><span style=white-space:pre-wrap>Married-civ-spouse   </span></td><td><span style=white-space:pre-wrap>Exec-managerial  </span></td><td><span style=white-space:pre-wrap>Male  </span></td><td><span style=white-space:pre-wrap>    0</span></td><td>0</td><td>&gt;50K </td></tr>\n",
       "\t<tr><th scope=row>5</th><td>31</td><td><span style=white-space:pre-wrap>Private         </span></td><td>14</td><td><span style=white-space:pre-wrap>Never-married        </span></td><td><span style=white-space:pre-wrap>Prof-specialty   </span></td><td>Female</td><td>14084</td><td>0</td><td>&gt;50K </td></tr>\n",
       "\t<tr><th scope=row>6</th><td>40</td><td><span style=white-space:pre-wrap>Private         </span></td><td>11</td><td><span style=white-space:pre-wrap>Married-civ-spouse   </span></td><td><span style=white-space:pre-wrap>Craft-repair     </span></td><td><span style=white-space:pre-wrap>Male  </span></td><td><span style=white-space:pre-wrap>    0</span></td><td>0</td><td>&gt;50K </td></tr>\n",
       "</tbody>\n",
       "</table>\n"
      ],
      "text/latex": [
       "A data.frame: 6 × 9\n",
       "\\begin{tabular}{r|lllllllll}\n",
       "  & age & workclass & education & marital.status & occupation & sex & capital.gain & capital.loss & income\\\\\n",
       "  & <int> & <chr> & <int> & <chr> & <chr> & <chr> & <int> & <int> & <chr>\\\\\n",
       "\\hline\n",
       "\t1 & 50 & Self-emp-not-inc & 13 & Married-civ-spouse    & Exec-managerial   & Male   &     0 & 0 & <=50K\\\\\n",
       "\t2 & 38 & Private          &  9 & Divorced              & Handlers-cleaners & Male   &     0 & 0 & <=50K\\\\\n",
       "\t3 & 49 & Private          &  5 & Married-spouse-absent & Other-service     & Female &     0 & 0 & <=50K\\\\\n",
       "\t4 & 52 & Self-emp-not-inc &  9 & Married-civ-spouse    & Exec-managerial   & Male   &     0 & 0 & >50K \\\\\n",
       "\t5 & 31 & Private          & 14 & Never-married         & Prof-specialty    & Female & 14084 & 0 & >50K \\\\\n",
       "\t6 & 40 & Private          & 11 & Married-civ-spouse    & Craft-repair      & Male   &     0 & 0 & >50K \\\\\n",
       "\\end{tabular}\n"
      ],
      "text/markdown": [
       "\n",
       "A data.frame: 6 × 9\n",
       "\n",
       "| <!--/--> | age &lt;int&gt; | workclass &lt;chr&gt; | education &lt;int&gt; | marital.status &lt;chr&gt; | occupation &lt;chr&gt; | sex &lt;chr&gt; | capital.gain &lt;int&gt; | capital.loss &lt;int&gt; | income &lt;chr&gt; |\n",
       "|---|---|---|---|---|---|---|---|---|---|\n",
       "| 1 | 50 | Self-emp-not-inc | 13 | Married-civ-spouse    | Exec-managerial   | Male   |     0 | 0 | &lt;=50K |\n",
       "| 2 | 38 | Private          |  9 | Divorced              | Handlers-cleaners | Male   |     0 | 0 | &lt;=50K |\n",
       "| 3 | 49 | Private          |  5 | Married-spouse-absent | Other-service     | Female |     0 | 0 | &lt;=50K |\n",
       "| 4 | 52 | Self-emp-not-inc |  9 | Married-civ-spouse    | Exec-managerial   | Male   |     0 | 0 | &gt;50K  |\n",
       "| 5 | 31 | Private          | 14 | Never-married         | Prof-specialty    | Female | 14084 | 0 | &gt;50K  |\n",
       "| 6 | 40 | Private          | 11 | Married-civ-spouse    | Craft-repair      | Male   |     0 | 0 | &gt;50K  |\n",
       "\n"
      ],
      "text/plain": [
       "  age workclass        education marital.status        occupation        sex   \n",
       "1 50  Self-emp-not-inc 13        Married-civ-spouse    Exec-managerial   Male  \n",
       "2 38  Private           9        Divorced              Handlers-cleaners Male  \n",
       "3 49  Private           5        Married-spouse-absent Other-service     Female\n",
       "4 52  Self-emp-not-inc  9        Married-civ-spouse    Exec-managerial   Male  \n",
       "5 31  Private          14        Never-married         Prof-specialty    Female\n",
       "6 40  Private          11        Married-civ-spouse    Craft-repair      Male  \n",
       "  capital.gain capital.loss income\n",
       "1     0        0            <=50K \n",
       "2     0        0            <=50K \n",
       "3     0        0            <=50K \n",
       "4     0        0            >50K  \n",
       "5 14084        0            >50K  \n",
       "6     0        0            >50K  "
      ]
     },
     "metadata": {},
     "output_type": "display_data"
    }
   ],
   "source": [
    "#Data glimps\n",
    "head(data)"
   ]
  },
  {
   "cell_type": "code",
   "execution_count": 110,
   "metadata": {
    "hidden": true
   },
   "outputs": [
    {
     "data": {
      "text/html": [
       "<style>\n",
       ".dl-inline {width: auto; margin:0; padding: 0}\n",
       ".dl-inline>dt, .dl-inline>dd {float: none; width: auto; display: inline-block}\n",
       ".dl-inline>dt::after {content: \":\\0020\"; padding-right: .5ex}\n",
       ".dl-inline>dt:not(:first-of-type) {padding-left: .5ex}\n",
       "</style><dl class=dl-inline><dt>age</dt><dd>'integer'</dd><dt>workclass</dt><dd>'character'</dd><dt>education</dt><dd>'integer'</dd><dt>marital.status</dt><dd>'character'</dd><dt>occupation</dt><dd>'character'</dd><dt>sex</dt><dd>'character'</dd><dt>capital.gain</dt><dd>'integer'</dd><dt>capital.loss</dt><dd>'integer'</dd><dt>income</dt><dd>'character'</dd></dl>\n"
      ],
      "text/latex": [
       "\\begin{description*}\n",
       "\\item[age] 'integer'\n",
       "\\item[workclass] 'character'\n",
       "\\item[education] 'integer'\n",
       "\\item[marital.status] 'character'\n",
       "\\item[occupation] 'character'\n",
       "\\item[sex] 'character'\n",
       "\\item[capital.gain] 'integer'\n",
       "\\item[capital.loss] 'integer'\n",
       "\\item[income] 'character'\n",
       "\\end{description*}\n"
      ],
      "text/markdown": [
       "age\n",
       ":   'integer'workclass\n",
       ":   'character'education\n",
       ":   'integer'marital.status\n",
       ":   'character'occupation\n",
       ":   'character'sex\n",
       ":   'character'capital.gain\n",
       ":   'integer'capital.loss\n",
       ":   'integer'income\n",
       ":   'character'\n",
       "\n"
      ],
      "text/plain": [
       "           age      workclass      education marital.status     occupation \n",
       "     \"integer\"    \"character\"      \"integer\"    \"character\"    \"character\" \n",
       "           sex   capital.gain   capital.loss         income \n",
       "   \"character\"      \"integer\"      \"integer\"    \"character\" "
      ]
     },
     "metadata": {},
     "output_type": "display_data"
    }
   ],
   "source": [
    "#Data type\n",
    "sapply(data, class)"
   ]
  },
  {
   "cell_type": "code",
   "execution_count": 111,
   "metadata": {
    "hidden": true
   },
   "outputs": [
    {
     "data": {
      "text/plain": [
       "\n",
       "               ?      Federal-gov        Local-gov     Never-worked \n",
       "             829              454              969                5 \n",
       "         Private     Self-emp-inc Self-emp-not-inc        State-gov \n",
       "           10281              498             1170              586 \n",
       "     Without-pay \n",
       "               5 "
      ]
     },
     "metadata": {},
     "output_type": "display_data"
    }
   ],
   "source": [
    "#Checking value counts in workclass feature\n",
    "table(data$workclass)"
   ]
  },
  {
   "cell_type": "code",
   "execution_count": 112,
   "metadata": {
    "hidden": true
   },
   "outputs": [],
   "source": [
    "#Replacing missing values with most frequent value\n",
    "data[data=='?']<-'Private'"
   ]
  },
  {
   "cell_type": "code",
   "execution_count": 113,
   "metadata": {
    "hidden": true
   },
   "outputs": [
    {
     "data": {
      "text/plain": [
       "\n",
       "     Federal-gov        Local-gov     Never-worked          Private \n",
       "             454              969                5            11110 \n",
       "    Self-emp-inc Self-emp-not-inc        State-gov      Without-pay \n",
       "             498             1170              586                5 "
      ]
     },
     "metadata": {},
     "output_type": "display_data"
    }
   ],
   "source": [
    "#Checking value counts in workclass feature\n",
    "table(data$workclass)"
   ]
  },
  {
   "cell_type": "markdown",
   "metadata": {},
   "source": [
    "# CREATE A CONTINGENCY TABLE OF WORKCLASS AND SEX, AND PLOT IT\n"
   ]
  },
  {
   "cell_type": "markdown",
   "metadata": {
    "heading_collapsed": true
   },
   "source": [
    "### CONTINGENCY TABLE:WORKCLASS AND SEX"
   ]
  },
  {
   "cell_type": "code",
   "execution_count": 114,
   "metadata": {
    "hidden": true
   },
   "outputs": [
    {
     "data": {
      "text/html": [
       "<table class=\"dataframe\">\n",
       "<caption>A data.frame: 8 × 4</caption>\n",
       "<thead>\n",
       "\t<tr><th></th><th scope=col>Female</th><th scope=col>Male</th><th scope=col>Female_.</th><th scope=col>Male_.</th></tr>\n",
       "\t<tr><th></th><th scope=col>&lt;dbl&gt;</th><th scope=col>&lt;dbl&gt;</th><th scope=col>&lt;dbl&gt;</th><th scope=col>&lt;dbl&gt;</th></tr>\n",
       "</thead>\n",
       "<tbody>\n",
       "\t<tr><th scope=row>Federal-gov</th><td> 149</td><td> 305</td><td> 3.03338762</td><td> 3.08548306</td></tr>\n",
       "\t<tr><th scope=row>Local-gov</th><td> 377</td><td> 592</td><td> 7.67508143</td><td> 5.98887203</td></tr>\n",
       "\t<tr><th scope=row>Never-worked</th><td>   1</td><td>   4</td><td> 0.02035831</td><td> 0.04046535</td></tr>\n",
       "\t<tr><th scope=row>Private</th><td>3951</td><td>7159</td><td>80.43566775</td><td>72.42286292</td></tr>\n",
       "\t<tr><th scope=row>Self-emp-inc</th><td>  54</td><td> 444</td><td> 1.09934853</td><td> 4.49165402</td></tr>\n",
       "\t<tr><th scope=row>Self-emp-not-inc</th><td> 178</td><td> 992</td><td> 3.62377850</td><td>10.03540718</td></tr>\n",
       "\t<tr><th scope=row>State-gov</th><td> 201</td><td> 385</td><td> 4.09201954</td><td> 3.89479009</td></tr>\n",
       "\t<tr><th scope=row>Without-pay</th><td>   1</td><td>   4</td><td> 0.02035831</td><td> 0.04046535</td></tr>\n",
       "</tbody>\n",
       "</table>\n"
      ],
      "text/latex": [
       "A data.frame: 8 × 4\n",
       "\\begin{tabular}{r|llll}\n",
       "  & Female & Male & Female\\_. & Male\\_.\\\\\n",
       "  & <dbl> & <dbl> & <dbl> & <dbl>\\\\\n",
       "\\hline\n",
       "\tFederal-gov &  149 &  305 &  3.03338762 &  3.08548306\\\\\n",
       "\tLocal-gov &  377 &  592 &  7.67508143 &  5.98887203\\\\\n",
       "\tNever-worked &    1 &    4 &  0.02035831 &  0.04046535\\\\\n",
       "\tPrivate & 3951 & 7159 & 80.43566775 & 72.42286292\\\\\n",
       "\tSelf-emp-inc &   54 &  444 &  1.09934853 &  4.49165402\\\\\n",
       "\tSelf-emp-not-inc &  178 &  992 &  3.62377850 & 10.03540718\\\\\n",
       "\tState-gov &  201 &  385 &  4.09201954 &  3.89479009\\\\\n",
       "\tWithout-pay &    1 &    4 &  0.02035831 &  0.04046535\\\\\n",
       "\\end{tabular}\n"
      ],
      "text/markdown": [
       "\n",
       "A data.frame: 8 × 4\n",
       "\n",
       "| <!--/--> | Female &lt;dbl&gt; | Male &lt;dbl&gt; | Female_. &lt;dbl&gt; | Male_. &lt;dbl&gt; |\n",
       "|---|---|---|---|---|\n",
       "| Federal-gov |  149 |  305 |  3.03338762 |  3.08548306 |\n",
       "| Local-gov |  377 |  592 |  7.67508143 |  5.98887203 |\n",
       "| Never-worked |    1 |    4 |  0.02035831 |  0.04046535 |\n",
       "| Private | 3951 | 7159 | 80.43566775 | 72.42286292 |\n",
       "| Self-emp-inc |   54 |  444 |  1.09934853 |  4.49165402 |\n",
       "| Self-emp-not-inc |  178 |  992 |  3.62377850 | 10.03540718 |\n",
       "| State-gov |  201 |  385 |  4.09201954 |  3.89479009 |\n",
       "| Without-pay |    1 |    4 |  0.02035831 |  0.04046535 |\n",
       "\n"
      ],
      "text/plain": [
       "                 Female Male Female_.    Male_.     \n",
       "Federal-gov       149    305  3.03338762  3.08548306\n",
       "Local-gov         377    592  7.67508143  5.98887203\n",
       "Never-worked        1      4  0.02035831  0.04046535\n",
       "Private          3951   7159 80.43566775 72.42286292\n",
       "Self-emp-inc       54    444  1.09934853  4.49165402\n",
       "Self-emp-not-inc  178    992  3.62377850 10.03540718\n",
       "State-gov         201    385  4.09201954  3.89479009\n",
       "Without-pay         1      4  0.02035831  0.04046535"
      ]
     },
     "metadata": {},
     "output_type": "display_data"
    }
   ],
   "source": [
    "#Creating contingency table for workclass and sex\n",
    "c_table1 = table(data$workclass, data$sex)\n",
    "c_table2 = prop.table(table(data$workclass, data$sex), margin=2)*100\n",
    "colnames(c_table2) <- c(\"Female_%\", \"Male_%\")\n",
    "c_table_comb = data.frame(cbind(c_table1, c_table2))\n",
    "c_table_comb"
   ]
  },
  {
   "cell_type": "markdown",
   "metadata": {
    "heading_collapsed": true
   },
   "source": [
    "### PLOT: WORKCLASS AND SEX"
   ]
  },
  {
   "cell_type": "code",
   "execution_count": 115,
   "metadata": {
    "hidden": true
   },
   "outputs": [
    {
     "data": {
      "image/png": "[encoded data removed]",
      "text/plain": [
       "plot without title"
      ]
     },
     "metadata": {
      "image/png": {
       "height": 420,
       "width": 420
      }
     },
     "output_type": "display_data"
    }
   ],
   "source": [
    "#Creating barplot on workclass and sex\n",
    "par(mar=c(5,8,4,2))\n",
    "name = c('Federal-gov','Local-gov','Never-worked','Private','Self-emp-inc','Self-emp-not-inc','State-gov',\n",
    "         'Without-pay')\n",
    "c_tab = prop.table(table(data$sex,data$workclass),margin = 1)*100\n",
    "barplot(c_tab,\n",
    "        legend=T, \n",
    "        col = c('red','green'),\n",
    "        horiz = T,\n",
    "        beside = T, \n",
    "        names.arg = name, \n",
    "        las=1)"
   ]
  },
  {
   "cell_type": "markdown",
   "metadata": {
    "heading_collapsed": true
   },
   "source": [
    "### SUMMARY PONTS: WORKCLASS AND SEX"
   ]
  },
  {
   "cell_type": "markdown",
   "metadata": {
    "hidden": true
   },
   "source": [
    "- In female gender, 80% are working in private companies and 20% are wokring in other than private companies\n",
    "- in male gender, 72% are working in private companies and 28% are wokring in other than private companies\n",
    "- The data have maximum records for private workingclass"
   ]
  },
  {
   "cell_type": "markdown",
   "metadata": {},
   "source": [
    "# CREATE A CONTINGENCY TABLE OF SEX AND MARITAL STATUS, AND PLOT IT"
   ]
  },
  {
   "cell_type": "markdown",
   "metadata": {
    "heading_collapsed": true
   },
   "source": [
    "### CONTINGENCY TABLE:MARITAL STATUS AND SEX"
   ]
  },
  {
   "cell_type": "code",
   "execution_count": 116,
   "metadata": {
    "hidden": true
   },
   "outputs": [
    {
     "data": {
      "text/html": [
       "<table class=\"dataframe\">\n",
       "<caption>A data.frame: 7 × 4</caption>\n",
       "<thead>\n",
       "\t<tr><th></th><th scope=col>Female</th><th scope=col>Male</th><th scope=col>Female_.</th><th scope=col>Male_.</th></tr>\n",
       "\t<tr><th></th><th scope=col>&lt;dbl&gt;</th><th scope=col>&lt;dbl&gt;</th><th scope=col>&lt;dbl&gt;</th><th scope=col>&lt;dbl&gt;</th></tr>\n",
       "</thead>\n",
       "<tbody>\n",
       "\t<tr><th scope=row>Divorced</th><td>1219</td><td> 795</td><td>24.8167752</td><td> 8.04248862</td></tr>\n",
       "\t<tr><th scope=row>Married-AF-spouse</th><td>   7</td><td>   4</td><td> 0.1425081</td><td> 0.04046535</td></tr>\n",
       "\t<tr><th scope=row>Married-civ-spouse</th><td> 761</td><td>6010</td><td>15.4926710</td><td>60.79919069</td></tr>\n",
       "\t<tr><th scope=row>Married-spouse-absent</th><td>  95</td><td> 104</td><td> 1.9340391</td><td> 1.05209914</td></tr>\n",
       "\t<tr><th scope=row>Never-married</th><td>2160</td><td>2717</td><td>43.9739414</td><td>27.48609004</td></tr>\n",
       "\t<tr><th scope=row>Separated</th><td> 290</td><td> 182</td><td> 5.9039088</td><td> 1.84117350</td></tr>\n",
       "\t<tr><th scope=row>Widowed</th><td> 380</td><td>  73</td><td> 7.7361564</td><td> 0.73849267</td></tr>\n",
       "</tbody>\n",
       "</table>\n"
      ],
      "text/latex": [
       "A data.frame: 7 × 4\n",
       "\\begin{tabular}{r|llll}\n",
       "  & Female & Male & Female\\_. & Male\\_.\\\\\n",
       "  & <dbl> & <dbl> & <dbl> & <dbl>\\\\\n",
       "\\hline\n",
       "\tDivorced & 1219 &  795 & 24.8167752 &  8.04248862\\\\\n",
       "\tMarried-AF-spouse &    7 &    4 &  0.1425081 &  0.04046535\\\\\n",
       "\tMarried-civ-spouse &  761 & 6010 & 15.4926710 & 60.79919069\\\\\n",
       "\tMarried-spouse-absent &   95 &  104 &  1.9340391 &  1.05209914\\\\\n",
       "\tNever-married & 2160 & 2717 & 43.9739414 & 27.48609004\\\\\n",
       "\tSeparated &  290 &  182 &  5.9039088 &  1.84117350\\\\\n",
       "\tWidowed &  380 &   73 &  7.7361564 &  0.73849267\\\\\n",
       "\\end{tabular}\n"
      ],
      "text/markdown": [
       "\n",
       "A data.frame: 7 × 4\n",
       "\n",
       "| <!--/--> | Female &lt;dbl&gt; | Male &lt;dbl&gt; | Female_. &lt;dbl&gt; | Male_. &lt;dbl&gt; |\n",
       "|---|---|---|---|---|\n",
       "| Divorced | 1219 |  795 | 24.8167752 |  8.04248862 |\n",
       "| Married-AF-spouse |    7 |    4 |  0.1425081 |  0.04046535 |\n",
       "| Married-civ-spouse |  761 | 6010 | 15.4926710 | 60.79919069 |\n",
       "| Married-spouse-absent |   95 |  104 |  1.9340391 |  1.05209914 |\n",
       "| Never-married | 2160 | 2717 | 43.9739414 | 27.48609004 |\n",
       "| Separated |  290 |  182 |  5.9039088 |  1.84117350 |\n",
       "| Widowed |  380 |   73 |  7.7361564 |  0.73849267 |\n",
       "\n"
      ],
      "text/plain": [
       "                      Female Male Female_.   Male_.     \n",
       "Divorced              1219    795 24.8167752  8.04248862\n",
       "Married-AF-spouse        7      4  0.1425081  0.04046535\n",
       "Married-civ-spouse     761   6010 15.4926710 60.79919069\n",
       "Married-spouse-absent   95    104  1.9340391  1.05209914\n",
       "Never-married         2160   2717 43.9739414 27.48609004\n",
       "Separated              290    182  5.9039088  1.84117350\n",
       "Widowed                380     73  7.7361564  0.73849267"
      ]
     },
     "metadata": {},
     "output_type": "display_data"
    }
   ],
   "source": [
    "#Creating contingency table for marital status and sex\n",
    "c_table3 = table(data$marital.status, data$sex)\n",
    "c_table4 = prop.table(table(data$marital.status, data$sex), margin=2)*100\n",
    "colnames(c_table4) <- c(\"Female_%\", \"Male_%\")\n",
    "c_table_comb2 = data.frame(cbind(c_table3, c_table4))\n",
    "c_table_comb2"
   ]
  },
  {
   "cell_type": "markdown",
   "metadata": {
    "heading_collapsed": true
   },
   "source": [
    "### PLOT: MARITAL STATUS AND SEX"
   ]
  },
  {
   "cell_type": "code",
   "execution_count": 117,
   "metadata": {
    "hidden": true
   },
   "outputs": [
    {
     "data": {
      "image/png": "[encoded data removed]",
      "text/plain": [
       "plot without title"
      ]
     },
     "metadata": {
      "image/png": {
       "height": 420,
       "width": 420
      }
     },
     "output_type": "display_data"
    }
   ],
   "source": [
    "#Creating barplot on marital status and sex\n",
    "par(mar=c(5,12,4,2))\n",
    "name = c('Divorced','Married-AF-spouse','Married-civ-spouse','Married-spouse-absent',\n",
    "         'Never-married','Separated','Widowed')\n",
    "c_tab = prop.table(table(data$sex,data$marital.status),margin = 1)*100\n",
    "barplot(c_tab,\n",
    "        legend=T, \n",
    "        col = c('red','green'),\n",
    "        horiz = T,\n",
    "        beside = T, \n",
    "        names.arg = name, \n",
    "        las=1)"
   ]
  },
  {
   "cell_type": "markdown",
   "metadata": {
    "heading_collapsed": true
   },
   "source": [
    "### SUMMARY PONTS: MARITAL STATUS AND SEX"
   ]
  },
  {
   "cell_type": "markdown",
   "metadata": {
    "hidden": true
   },
   "source": [
    "- In female gender, 44% are never married females and 25% are divorced females\n",
    "- In male gender, 61% are married-civilian-spouse males and 27% are never married males\n",
    "- The data have maximum records for married-civilian-spouse, never married and divorced marital status"
   ]
  },
  {
   "cell_type": "markdown",
   "metadata": {
    "heading_collapsed": true
   },
   "source": [
    "# CREATING NEW DATAFRAME: ADULTOVER40"
   ]
  },
  {
   "cell_type": "code",
   "execution_count": 118,
   "metadata": {
    "hidden": true
   },
   "outputs": [],
   "source": [
    "#Filter data where age above 40\n",
    "adultOver40 <-data[which(data$age>40),]"
   ]
  },
  {
   "cell_type": "code",
   "execution_count": 119,
   "metadata": {
    "hidden": true
   },
   "outputs": [
    {
     "data": {
      "text/html": [
       "<table class=\"dataframe\">\n",
       "<caption>A data.frame: 6 × 9</caption>\n",
       "<thead>\n",
       "\t<tr><th></th><th scope=col>age</th><th scope=col>workclass</th><th scope=col>education</th><th scope=col>marital.status</th><th scope=col>occupation</th><th scope=col>sex</th><th scope=col>capital.gain</th><th scope=col>capital.loss</th><th scope=col>income</th></tr>\n",
       "\t<tr><th></th><th scope=col>&lt;int&gt;</th><th scope=col>&lt;chr&gt;</th><th scope=col>&lt;int&gt;</th><th scope=col>&lt;chr&gt;</th><th scope=col>&lt;chr&gt;</th><th scope=col>&lt;chr&gt;</th><th scope=col>&lt;int&gt;</th><th scope=col>&lt;int&gt;</th><th scope=col>&lt;chr&gt;</th></tr>\n",
       "</thead>\n",
       "<tbody>\n",
       "\t<tr><th scope=row>1</th><td>50</td><td>Self-emp-not-inc</td><td>13</td><td><span style=white-space:pre-wrap>Married-civ-spouse   </span></td><td>Exec-managerial </td><td><span style=white-space:pre-wrap>Male  </span></td><td>0</td><td><span style=white-space:pre-wrap>   0</span></td><td>&lt;=50K</td></tr>\n",
       "\t<tr><th scope=row>3</th><td>49</td><td><span style=white-space:pre-wrap>Private         </span></td><td> 5</td><td>Married-spouse-absent</td><td><span style=white-space:pre-wrap>Other-service   </span></td><td>Female</td><td>0</td><td><span style=white-space:pre-wrap>   0</span></td><td>&lt;=50K</td></tr>\n",
       "\t<tr><th scope=row>4</th><td>52</td><td>Self-emp-not-inc</td><td> 9</td><td><span style=white-space:pre-wrap>Married-civ-spouse   </span></td><td>Exec-managerial </td><td><span style=white-space:pre-wrap>Male  </span></td><td>0</td><td><span style=white-space:pre-wrap>   0</span></td><td>&gt;50K </td></tr>\n",
       "\t<tr><th scope=row>8</th><td>43</td><td><span style=white-space:pre-wrap>Private         </span></td><td> 7</td><td><span style=white-space:pre-wrap>Married-civ-spouse   </span></td><td>Transport-moving</td><td><span style=white-space:pre-wrap>Male  </span></td><td>0</td><td>2042</td><td>&lt;=50K</td></tr>\n",
       "\t<tr><th scope=row>9</th><td>54</td><td><span style=white-space:pre-wrap>Private         </span></td><td>10</td><td><span style=white-space:pre-wrap>Married-civ-spouse   </span></td><td><span style=white-space:pre-wrap>Private         </span></td><td><span style=white-space:pre-wrap>Male  </span></td><td>0</td><td><span style=white-space:pre-wrap>   0</span></td><td>&gt;50K </td></tr>\n",
       "\t<tr><th scope=row>17</th><td>44</td><td><span style=white-space:pre-wrap>Private         </span></td><td>14</td><td><span style=white-space:pre-wrap>Divorced             </span></td><td>Exec-managerial </td><td>Female</td><td>0</td><td><span style=white-space:pre-wrap>   0</span></td><td>&lt;=50K</td></tr>\n",
       "</tbody>\n",
       "</table>\n"
      ],
      "text/latex": [
       "A data.frame: 6 × 9\n",
       "\\begin{tabular}{r|lllllllll}\n",
       "  & age & workclass & education & marital.status & occupation & sex & capital.gain & capital.loss & income\\\\\n",
       "  & <int> & <chr> & <int> & <chr> & <chr> & <chr> & <int> & <int> & <chr>\\\\\n",
       "\\hline\n",
       "\t1 & 50 & Self-emp-not-inc & 13 & Married-civ-spouse    & Exec-managerial  & Male   & 0 &    0 & <=50K\\\\\n",
       "\t3 & 49 & Private          &  5 & Married-spouse-absent & Other-service    & Female & 0 &    0 & <=50K\\\\\n",
       "\t4 & 52 & Self-emp-not-inc &  9 & Married-civ-spouse    & Exec-managerial  & Male   & 0 &    0 & >50K \\\\\n",
       "\t8 & 43 & Private          &  7 & Married-civ-spouse    & Transport-moving & Male   & 0 & 2042 & <=50K\\\\\n",
       "\t9 & 54 & Private          & 10 & Married-civ-spouse    & Private          & Male   & 0 &    0 & >50K \\\\\n",
       "\t17 & 44 & Private          & 14 & Divorced              & Exec-managerial  & Female & 0 &    0 & <=50K\\\\\n",
       "\\end{tabular}\n"
      ],
      "text/markdown": [
       "\n",
       "A data.frame: 6 × 9\n",
       "\n",
       "| <!--/--> | age &lt;int&gt; | workclass &lt;chr&gt; | education &lt;int&gt; | marital.status &lt;chr&gt; | occupation &lt;chr&gt; | sex &lt;chr&gt; | capital.gain &lt;int&gt; | capital.loss &lt;int&gt; | income &lt;chr&gt; |\n",
       "|---|---|---|---|---|---|---|---|---|---|\n",
       "| 1 | 50 | Self-emp-not-inc | 13 | Married-civ-spouse    | Exec-managerial  | Male   | 0 |    0 | &lt;=50K |\n",
       "| 3 | 49 | Private          |  5 | Married-spouse-absent | Other-service    | Female | 0 |    0 | &lt;=50K |\n",
       "| 4 | 52 | Self-emp-not-inc |  9 | Married-civ-spouse    | Exec-managerial  | Male   | 0 |    0 | &gt;50K  |\n",
       "| 8 | 43 | Private          |  7 | Married-civ-spouse    | Transport-moving | Male   | 0 | 2042 | &lt;=50K |\n",
       "| 9 | 54 | Private          | 10 | Married-civ-spouse    | Private          | Male   | 0 |    0 | &gt;50K  |\n",
       "| 17 | 44 | Private          | 14 | Divorced              | Exec-managerial  | Female | 0 |    0 | &lt;=50K |\n",
       "\n"
      ],
      "text/plain": [
       "   age workclass        education marital.status        occupation       sex   \n",
       "1  50  Self-emp-not-inc 13        Married-civ-spouse    Exec-managerial  Male  \n",
       "3  49  Private           5        Married-spouse-absent Other-service    Female\n",
       "4  52  Self-emp-not-inc  9        Married-civ-spouse    Exec-managerial  Male  \n",
       "8  43  Private           7        Married-civ-spouse    Transport-moving Male  \n",
       "9  54  Private          10        Married-civ-spouse    Private          Male  \n",
       "17 44  Private          14        Divorced              Exec-managerial  Female\n",
       "   capital.gain capital.loss income\n",
       "1  0               0         <=50K \n",
       "3  0               0         <=50K \n",
       "4  0               0         >50K  \n",
       "8  0            2042         <=50K \n",
       "9  0               0         >50K  \n",
       "17 0               0         <=50K "
      ]
     },
     "metadata": {},
     "output_type": "display_data"
    }
   ],
   "source": [
    "#Data glimps\n",
    "head(adultOver40)"
   ]
  },
  {
   "cell_type": "markdown",
   "metadata": {},
   "source": [
    "# RECREATE THE CONTINGENCY TABLE OF SEX AND MARITAL STATUS FOR ADULTOVER40."
   ]
  },
  {
   "cell_type": "markdown",
   "metadata": {
    "heading_collapsed": true
   },
   "source": [
    "### CONTINGENCY TABLE ON ADULTOVER40:MARITAL STATUS AND SEX"
   ]
  },
  {
   "cell_type": "code",
   "execution_count": 120,
   "metadata": {
    "hidden": true
   },
   "outputs": [
    {
     "data": {
      "text/html": [
       "<table class=\"dataframe\">\n",
       "<caption>A data.frame: 6 × 4</caption>\n",
       "<thead>\n",
       "\t<tr><th></th><th scope=col>Female</th><th scope=col>Male</th><th scope=col>Female_.</th><th scope=col>Male_.</th></tr>\n",
       "\t<tr><th></th><th scope=col>&lt;dbl&gt;</th><th scope=col>&lt;dbl&gt;</th><th scope=col>&lt;dbl&gt;</th><th scope=col>&lt;dbl&gt;</th></tr>\n",
       "</thead>\n",
       "<tbody>\n",
       "\t<tr><th scope=row>Divorced</th><td>720</td><td> 448</td><td>39.867110</td><td>10.327340</td></tr>\n",
       "\t<tr><th scope=row>Married-civ-spouse</th><td>305</td><td>3383</td><td>16.888151</td><td>77.985247</td></tr>\n",
       "\t<tr><th scope=row>Married-spouse-absent</th><td> 38</td><td>  47</td><td> 2.104097</td><td> 1.083449</td></tr>\n",
       "\t<tr><th scope=row>Never-married</th><td>256</td><td> 315</td><td>14.174972</td><td> 7.261411</td></tr>\n",
       "\t<tr><th scope=row>Separated</th><td>133</td><td>  74</td><td> 7.364341</td><td> 1.705855</td></tr>\n",
       "\t<tr><th scope=row>Widowed</th><td>354</td><td>  71</td><td>19.601329</td><td> 1.636699</td></tr>\n",
       "</tbody>\n",
       "</table>\n"
      ],
      "text/latex": [
       "A data.frame: 6 × 4\n",
       "\\begin{tabular}{r|llll}\n",
       "  & Female & Male & Female\\_. & Male\\_.\\\\\n",
       "  & <dbl> & <dbl> & <dbl> & <dbl>\\\\\n",
       "\\hline\n",
       "\tDivorced & 720 &  448 & 39.867110 & 10.327340\\\\\n",
       "\tMarried-civ-spouse & 305 & 3383 & 16.888151 & 77.985247\\\\\n",
       "\tMarried-spouse-absent &  38 &   47 &  2.104097 &  1.083449\\\\\n",
       "\tNever-married & 256 &  315 & 14.174972 &  7.261411\\\\\n",
       "\tSeparated & 133 &   74 &  7.364341 &  1.705855\\\\\n",
       "\tWidowed & 354 &   71 & 19.601329 &  1.636699\\\\\n",
       "\\end{tabular}\n"
      ],
      "text/markdown": [
       "\n",
       "A data.frame: 6 × 4\n",
       "\n",
       "| <!--/--> | Female &lt;dbl&gt; | Male &lt;dbl&gt; | Female_. &lt;dbl&gt; | Male_. &lt;dbl&gt; |\n",
       "|---|---|---|---|---|\n",
       "| Divorced | 720 |  448 | 39.867110 | 10.327340 |\n",
       "| Married-civ-spouse | 305 | 3383 | 16.888151 | 77.985247 |\n",
       "| Married-spouse-absent |  38 |   47 |  2.104097 |  1.083449 |\n",
       "| Never-married | 256 |  315 | 14.174972 |  7.261411 |\n",
       "| Separated | 133 |   74 |  7.364341 |  1.705855 |\n",
       "| Widowed | 354 |   71 | 19.601329 |  1.636699 |\n",
       "\n"
      ],
      "text/plain": [
       "                      Female Male Female_.  Male_.   \n",
       "Divorced              720     448 39.867110 10.327340\n",
       "Married-civ-spouse    305    3383 16.888151 77.985247\n",
       "Married-spouse-absent  38      47  2.104097  1.083449\n",
       "Never-married         256     315 14.174972  7.261411\n",
       "Separated             133      74  7.364341  1.705855\n",
       "Widowed               354      71 19.601329  1.636699"
      ]
     },
     "metadata": {},
     "output_type": "display_data"
    }
   ],
   "source": [
    "#Creating contingency table for marital status and sex age above 40\n",
    "c_table5 = table(adultOver40$marital.status, adultOver40$sex)\n",
    "c_table6 = prop.table(table(adultOver40$marital.status, adultOver40$sex), margin=2)*100\n",
    "colnames(c_table6) <- c(\"Female_%\", \"Male_%\")\n",
    "c_table_comb3 = data.frame(cbind(c_table5, c_table6))\n",
    "c_table_comb3"
   ]
  },
  {
   "cell_type": "code",
   "execution_count": 121,
   "metadata": {
    "hidden": true
   },
   "outputs": [
    {
     "data": {
      "image/png": "[encoded data removed]",
      "text/plain": [
       "plot without title"
      ]
     },
     "metadata": {
      "image/png": {
       "height": 420,
       "width": 420
      }
     },
     "output_type": "display_data"
    }
   ],
   "source": [
    "par(mar=c(5,12,4,2))\n",
    "name = c('Divorced','Married-civ-spouse','Married-spouse-absent','Never-married','Separated','Widowed')\n",
    "c_tab = prop.table(table(adultOver40$sex,adultOver40$marital.status),margin = 1)*100\n",
    "barplot(c_tab,\n",
    "        legend=T,\n",
    "        col = c('red','green'),\n",
    "        horiz = T,\n",
    "        beside = T, \n",
    "        names.arg = name, \n",
    "        las=1)"
   ]
  },
  {
   "cell_type": "markdown",
   "metadata": {
    "heading_collapsed": true
   },
   "source": [
    "### SUMMARY POINTS ON ADULTOVER40: MARITAL STATUS AND SEX"
   ]
  },
  {
   "cell_type": "markdown",
   "metadata": {
    "hidden": true
   },
   "source": [
    "- In male over 40 age, 78% male are married civilian spouse status and 10% are divorced status, It means the data have maximum records for married-civilian-spouse\n",
    "- In female over 40 age, 40% females have divorced status, 20% are widowed status & 14% females are still single , It means the data have maximum records for Divorced, Widowed & never married"
   ]
  },
  {
   "cell_type": "markdown",
   "metadata": {},
   "source": [
    "# OUTLIERS DETECTION: EDUCATION"
   ]
  },
  {
   "cell_type": "markdown",
   "metadata": {
    "heading_collapsed": true
   },
   "source": [
    "### DETECTING OUTLIERS USING Z-SCORE ON EDUCATION"
   ]
  },
  {
   "cell_type": "code",
   "execution_count": 122,
   "metadata": {
    "hidden": true
   },
   "outputs": [
    {
     "data": {
      "text/html": [
       "<style>\n",
       ".list-inline {list-style: none; margin:0; padding: 0}\n",
       ".list-inline>li {display: inline-block}\n",
       ".list-inline>li:not(:last-child)::after {content: \"\\00b7\"; padding: 0 .5ex}\n",
       "</style>\n",
       "<ol class=list-inline><li>1.12812447540863</li><li>0.41134550477457</li><li>1.95081548495777</li><li>0.41134550477457</li><li>1.51299197045443</li><li>0.358389485317028</li></ol>\n"
      ],
      "text/latex": [
       "\\begin{enumerate*}\n",
       "\\item 1.12812447540863\n",
       "\\item 0.41134550477457\n",
       "\\item 1.95081548495777\n",
       "\\item 0.41134550477457\n",
       "\\item 1.51299197045443\n",
       "\\item 0.358389485317028\n",
       "\\end{enumerate*}\n"
      ],
      "text/markdown": [
       "1. 1.12812447540863\n",
       "2. 0.41134550477457\n",
       "3. 1.95081548495777\n",
       "4. 0.41134550477457\n",
       "5. 1.51299197045443\n",
       "6. 0.358389485317028\n",
       "\n",
       "\n"
      ],
      "text/plain": [
       "[1] 1.1281245 0.4113455 1.9508155 0.4113455 1.5129920 0.3583895"
      ]
     },
     "metadata": {},
     "output_type": "display_data"
    }
   ],
   "source": [
    "#Computing zscore for education feature\n",
    "z_score = abs((data$education - mean(data$education))/sd(data$education))\n",
    "head(z_score)"
   ]
  },
  {
   "cell_type": "code",
   "execution_count": 123,
   "metadata": {
    "hidden": true
   },
   "outputs": [],
   "source": [
    "#Extracting an outliers where zscore is greater than 3\n",
    "outliers<-data.frame(data$education,z_score)\n",
    "outliers$is.outliers <- ifelse(outliers$z_score>3,'Outliers','Not Outliers')"
   ]
  },
  {
   "cell_type": "code",
   "execution_count": 124,
   "metadata": {
    "hidden": true
   },
   "outputs": [
    {
     "data": {
      "text/html": [
       "<table class=\"dataframe\">\n",
       "<caption>A data.frame: 6 × 3</caption>\n",
       "<thead>\n",
       "\t<tr><th></th><th scope=col>data.education</th><th scope=col>z_score</th><th scope=col>is.outliers</th></tr>\n",
       "\t<tr><th></th><th scope=col>&lt;int&gt;</th><th scope=col>&lt;dbl&gt;</th><th scope=col>&lt;chr&gt;</th></tr>\n",
       "</thead>\n",
       "<tbody>\n",
       "\t<tr><th scope=row>1</th><td>13</td><td>1.1281245</td><td>Not Outliers</td></tr>\n",
       "\t<tr><th scope=row>2</th><td> 9</td><td>0.4113455</td><td>Not Outliers</td></tr>\n",
       "\t<tr><th scope=row>3</th><td> 5</td><td>1.9508155</td><td>Not Outliers</td></tr>\n",
       "\t<tr><th scope=row>4</th><td> 9</td><td>0.4113455</td><td>Not Outliers</td></tr>\n",
       "\t<tr><th scope=row>5</th><td>14</td><td>1.5129920</td><td>Not Outliers</td></tr>\n",
       "\t<tr><th scope=row>6</th><td>11</td><td>0.3583895</td><td>Not Outliers</td></tr>\n",
       "</tbody>\n",
       "</table>\n"
      ],
      "text/latex": [
       "A data.frame: 6 × 3\n",
       "\\begin{tabular}{r|lll}\n",
       "  & data.education & z\\_score & is.outliers\\\\\n",
       "  & <int> & <dbl> & <chr>\\\\\n",
       "\\hline\n",
       "\t1 & 13 & 1.1281245 & Not Outliers\\\\\n",
       "\t2 &  9 & 0.4113455 & Not Outliers\\\\\n",
       "\t3 &  5 & 1.9508155 & Not Outliers\\\\\n",
       "\t4 &  9 & 0.4113455 & Not Outliers\\\\\n",
       "\t5 & 14 & 1.5129920 & Not Outliers\\\\\n",
       "\t6 & 11 & 0.3583895 & Not Outliers\\\\\n",
       "\\end{tabular}\n"
      ],
      "text/markdown": [
       "\n",
       "A data.frame: 6 × 3\n",
       "\n",
       "| <!--/--> | data.education &lt;int&gt; | z_score &lt;dbl&gt; | is.outliers &lt;chr&gt; |\n",
       "|---|---|---|---|\n",
       "| 1 | 13 | 1.1281245 | Not Outliers |\n",
       "| 2 |  9 | 0.4113455 | Not Outliers |\n",
       "| 3 |  5 | 1.9508155 | Not Outliers |\n",
       "| 4 |  9 | 0.4113455 | Not Outliers |\n",
       "| 5 | 14 | 1.5129920 | Not Outliers |\n",
       "| 6 | 11 | 0.3583895 | Not Outliers |\n",
       "\n"
      ],
      "text/plain": [
       "  data.education z_score   is.outliers \n",
       "1 13             1.1281245 Not Outliers\n",
       "2  9             0.4113455 Not Outliers\n",
       "3  5             1.9508155 Not Outliers\n",
       "4  9             0.4113455 Not Outliers\n",
       "5 14             1.5129920 Not Outliers\n",
       "6 11             0.3583895 Not Outliers"
      ]
     },
     "metadata": {},
     "output_type": "display_data"
    }
   ],
   "source": [
    "#Data glimps\n",
    "head(outliers)"
   ]
  },
  {
   "cell_type": "code",
   "execution_count": 125,
   "metadata": {
    "hidden": true
   },
   "outputs": [
    {
     "data": {
      "text/plain": [
       "    \n",
       "     Not Outliers Outliers\n",
       "  1             0       24\n",
       "  2             0       89\n",
       "  3           156        0\n",
       "  4           283        0\n",
       "  5           263        0\n",
       "  6           423        0\n",
       "  7           534        0\n",
       "  8           183        0\n",
       "  9          4777        0\n",
       "  10         3323        0\n",
       "  11          599        0\n",
       "  12          478        0\n",
       "  13         2405        0\n",
       "  14          788        0\n",
       "  15          266        0\n",
       "  16          206        0"
      ]
     },
     "metadata": {},
     "output_type": "display_data"
    }
   ],
   "source": [
    "#Checking counts of outliers and not outliers for education feature\n",
    "table(outliers$data.education, outliers$is.outliers)"
   ]
  },
  {
   "cell_type": "markdown",
   "metadata": {
    "heading_collapsed": true
   },
   "source": [
    "### SUMMARY POINTS ON DETECTING OUTLIERS USING Z-SCORE ON EDUCATION"
   ]
  },
  {
   "cell_type": "markdown",
   "metadata": {
    "hidden": true
   },
   "source": [
    "- We have detected 113 rows have an outliers in education features in which eduction has been mentioned as 1st and 2nd standard"
   ]
  },
  {
   "cell_type": "markdown",
   "metadata": {
    "heading_collapsed": true
   },
   "source": [
    "### DETECTING OUTLIERS USING IQR RANGE METHOD ON EDUCATION"
   ]
  },
  {
   "cell_type": "code",
   "execution_count": 126,
   "metadata": {
    "hidden": true,
    "scrolled": true
   },
   "outputs": [
    {
     "data": {
      "image/png": "[encoded data removed]",
      "text/plain": [
       "plot without title"
      ]
     },
     "metadata": {
      "image/png": {
       "height": 420,
       "width": 420
      }
     },
     "output_type": "display_data"
    }
   ],
   "source": [
    "#Plotting boxplot in education feature\n",
    "boxplot(data$education,horizontal = T, col='red')"
   ]
  },
  {
   "cell_type": "code",
   "execution_count": 127,
   "metadata": {
    "hidden": true
   },
   "outputs": [],
   "source": [
    "#Extracting an outliers from lower bound and upper bound using IQR methods\n",
    "q1 <- quantile(data$education, 0.25)\n",
    "q3 <- quantile(data$education, 0.75)\n",
    "iqr <- q3 - q1\n",
    "Outliers_lower_bound <- data$education[data$education<(q1-(1.5*iqr))]\n",
    "Outliers_upper_bound <- data$education[data$education>(q3+(1.5*iqr))]"
   ]
  },
  {
   "cell_type": "code",
   "execution_count": 128,
   "metadata": {
    "hidden": true
   },
   "outputs": [
    {
     "data": {
      "text/html": [
       "552"
      ],
      "text/latex": [
       "552"
      ],
      "text/markdown": [
       "552"
      ],
      "text/plain": [
       "[1] 552"
      ]
     },
     "metadata": {},
     "output_type": "display_data"
    }
   ],
   "source": [
    "#Checking count of an outliers from lower bound\n",
    "length(Outliers_lower_bound)"
   ]
  },
  {
   "cell_type": "code",
   "execution_count": 129,
   "metadata": {
    "hidden": true
   },
   "outputs": [
    {
     "data": {
      "text/html": [
       "0"
      ],
      "text/latex": [
       "0"
      ],
      "text/markdown": [
       "0"
      ],
      "text/plain": [
       "[1] 0"
      ]
     },
     "metadata": {},
     "output_type": "display_data"
    }
   ],
   "source": [
    "#Checking count of an outliers from uuper bound\n",
    "length(Outliers_upper_bound)"
   ]
  },
  {
   "cell_type": "code",
   "execution_count": 130,
   "metadata": {
    "hidden": true
   },
   "outputs": [
    {
     "data": {
      "text/plain": [
       "Outliers_lower_bound\n",
       "  1   2   3   4 \n",
       " 24  89 156 283 "
      ]
     },
     "metadata": {},
     "output_type": "display_data"
    }
   ],
   "source": [
    "#Value count of education feature have an outliers\n",
    "table(Outliers_lower_bound)"
   ]
  },
  {
   "cell_type": "markdown",
   "metadata": {
    "heading_collapsed": true
   },
   "source": [
    "### SUMMARY POINTS ON DETECTING OUTLIERS USING IQR RANGE METHOD ON EDUCATION"
   ]
  },
  {
   "cell_type": "markdown",
   "metadata": {
    "hidden": true
   },
   "source": [
    "- We have detected 552 rows as an outliers in education feature using IQR range method\n",
    "- Standard 1st, 2nd, 3rd & 4th are the values have in the education feature which are an outliers"
   ]
  },
  {
   "cell_type": "markdown",
   "metadata": {},
   "source": [
    "# OUTLIERS DETECTION: AGE"
   ]
  },
  {
   "cell_type": "markdown",
   "metadata": {
    "heading_collapsed": true
   },
   "source": [
    "### DETECTING OUTLIERS USING Z-SCORE ON AGE"
   ]
  },
  {
   "cell_type": "code",
   "execution_count": 78,
   "metadata": {
    "hidden": true
   },
   "outputs": [
    {
     "data": {
      "text/html": [
       "<style>\n",
       ".list-inline {list-style: none; margin:0; padding: 0}\n",
       ".list-inline>li {display: inline-block}\n",
       ".list-inline>li:not(:last-child)::after {content: \"\\00b7\"; padding: 0 .5ex}\n",
       "</style>\n",
       "<ol class=list-inline><li>0.827009799534758</li><li>0.0502553507985301</li><li>0.753904370340317</li><li>0.97322065792364</li><li>0.561993355159615</li><li>0.0959555075903513</li></ol>\n"
      ],
      "text/latex": [
       "\\begin{enumerate*}\n",
       "\\item 0.827009799534758\n",
       "\\item 0.0502553507985301\n",
       "\\item 0.753904370340317\n",
       "\\item 0.97322065792364\n",
       "\\item 0.561993355159615\n",
       "\\item 0.0959555075903513\n",
       "\\end{enumerate*}\n"
      ],
      "text/markdown": [
       "1. 0.827009799534758\n",
       "2. 0.0502553507985301\n",
       "3. 0.753904370340317\n",
       "4. 0.97322065792364\n",
       "5. 0.561993355159615\n",
       "6. 0.0959555075903513\n",
       "\n",
       "\n"
      ],
      "text/plain": [
       "[1] 0.82700980 0.05025535 0.75390437 0.97322066 0.56199336 0.09595551"
      ]
     },
     "metadata": {},
     "output_type": "display_data"
    }
   ],
   "source": [
    "#Computing zscore for education feature\n",
    "z_score = abs((data$age - mean(data$age))/sd(data$age))\n",
    "head(z_score)"
   ]
  },
  {
   "cell_type": "code",
   "execution_count": 79,
   "metadata": {
    "hidden": true
   },
   "outputs": [],
   "source": [
    "#Extracting an outliers where zscore is greater than 3\n",
    "outliers<-data.frame(data$age,z_score)\n",
    "outliers$is.outliers <- ifelse(outliers$z_score>3,'Outliers','Not Outliers')"
   ]
  },
  {
   "cell_type": "code",
   "execution_count": 80,
   "metadata": {
    "hidden": true
   },
   "outputs": [
    {
     "data": {
      "text/html": [
       "<table class=\"dataframe\">\n",
       "<caption>A data.frame: 6 × 3</caption>\n",
       "<thead>\n",
       "\t<tr><th></th><th scope=col>data.age</th><th scope=col>z_score</th><th scope=col>is.outliers</th></tr>\n",
       "\t<tr><th></th><th scope=col>&lt;int&gt;</th><th scope=col>&lt;dbl&gt;</th><th scope=col>&lt;chr&gt;</th></tr>\n",
       "</thead>\n",
       "<tbody>\n",
       "\t<tr><th scope=row>1</th><td>50</td><td>0.82700980</td><td>Not Outliers</td></tr>\n",
       "\t<tr><th scope=row>2</th><td>38</td><td>0.05025535</td><td>Not Outliers</td></tr>\n",
       "\t<tr><th scope=row>3</th><td>49</td><td>0.75390437</td><td>Not Outliers</td></tr>\n",
       "\t<tr><th scope=row>4</th><td>52</td><td>0.97322066</td><td>Not Outliers</td></tr>\n",
       "\t<tr><th scope=row>5</th><td>31</td><td>0.56199336</td><td>Not Outliers</td></tr>\n",
       "\t<tr><th scope=row>6</th><td>40</td><td>0.09595551</td><td>Not Outliers</td></tr>\n",
       "</tbody>\n",
       "</table>\n"
      ],
      "text/latex": [
       "A data.frame: 6 × 3\n",
       "\\begin{tabular}{r|lll}\n",
       "  & data.age & z\\_score & is.outliers\\\\\n",
       "  & <int> & <dbl> & <chr>\\\\\n",
       "\\hline\n",
       "\t1 & 50 & 0.82700980 & Not Outliers\\\\\n",
       "\t2 & 38 & 0.05025535 & Not Outliers\\\\\n",
       "\t3 & 49 & 0.75390437 & Not Outliers\\\\\n",
       "\t4 & 52 & 0.97322066 & Not Outliers\\\\\n",
       "\t5 & 31 & 0.56199336 & Not Outliers\\\\\n",
       "\t6 & 40 & 0.09595551 & Not Outliers\\\\\n",
       "\\end{tabular}\n"
      ],
      "text/markdown": [
       "\n",
       "A data.frame: 6 × 3\n",
       "\n",
       "| <!--/--> | data.age &lt;int&gt; | z_score &lt;dbl&gt; | is.outliers &lt;chr&gt; |\n",
       "|---|---|---|---|\n",
       "| 1 | 50 | 0.82700980 | Not Outliers |\n",
       "| 2 | 38 | 0.05025535 | Not Outliers |\n",
       "| 3 | 49 | 0.75390437 | Not Outliers |\n",
       "| 4 | 52 | 0.97322066 | Not Outliers |\n",
       "| 5 | 31 | 0.56199336 | Not Outliers |\n",
       "| 6 | 40 | 0.09595551 | Not Outliers |\n",
       "\n"
      ],
      "text/plain": [
       "  data.age z_score    is.outliers \n",
       "1 50       0.82700980 Not Outliers\n",
       "2 38       0.05025535 Not Outliers\n",
       "3 49       0.75390437 Not Outliers\n",
       "4 52       0.97322066 Not Outliers\n",
       "5 31       0.56199336 Not Outliers\n",
       "6 40       0.09595551 Not Outliers"
      ]
     },
     "metadata": {},
     "output_type": "display_data"
    }
   ],
   "source": [
    "#Data glimps\n",
    "head(outliers)"
   ]
  },
  {
   "cell_type": "code",
   "execution_count": 81,
   "metadata": {
    "hidden": true
   },
   "outputs": [
    {
     "data": {
      "text/plain": [
       "    \n",
       "     Not Outliers Outliers\n",
       "  17          188        0\n",
       "  18          240        0\n",
       "  19          324        0\n",
       "  20          338        0\n",
       "  21          320        0\n",
       "  22          343        0\n",
       "  23          366        0\n",
       "  24          364        0\n",
       "  25          386        0\n",
       "  26          380        0\n",
       "  27          362        0\n",
       "  28          395        0\n",
       "  29          379        0\n",
       "  30          395        0\n",
       "  31          391        0\n",
       "  32          352        0\n",
       "  33          389        0\n",
       "  34          401        0\n",
       "  35          394        0\n",
       "  36          426        0\n",
       "  37          394        0\n",
       "  38          390        0\n",
       "  39          370        0\n",
       "  40          366        0\n",
       "  41          359        0\n",
       "  42          357        0\n",
       "  43          360        0\n",
       "  44          307        0\n",
       "  45          340        0\n",
       "  46          339        0\n",
       "  47          333        0\n",
       "  48          247        0\n",
       "  49          258        0\n",
       "  50          274        0\n",
       "  51          286        0\n",
       "  52          232        0\n",
       "  53          231        0\n",
       "  54          191        0\n",
       "  55          172        0\n",
       "  56          163        0\n",
       "  57          166        0\n",
       "  58          165        0\n",
       "  59          166        0\n",
       "  60          126        0\n",
       "  61          130        0\n",
       "  62          116        0\n",
       "  63          114        0\n",
       "  64           92        0\n",
       "  65           81        0\n",
       "  66           62        0\n",
       "  67           70        0\n",
       "  68           57        0\n",
       "  69           40        0\n",
       "  70           46        0\n",
       "  71           33        0\n",
       "  72           30        0\n",
       "  73           34        0\n",
       "  74           25        0\n",
       "  75           21        0\n",
       "  76           27        0\n",
       "  77           14        0\n",
       "  78           10        0\n",
       "  79           10        0\n",
       "  80            0       10\n",
       "  81            0        5\n",
       "  82            0        8\n",
       "  83            0        2\n",
       "  84            0        5\n",
       "  85            0        3\n",
       "  86            0        1\n",
       "  87            0        1\n",
       "  88            0        2\n",
       "  90            0       23"
      ]
     },
     "metadata": {},
     "output_type": "display_data"
    }
   ],
   "source": [
    "#Checking counts of outliers and not outliers for education feature\n",
    "table(outliers$data.age, outliers$is.outliers)"
   ]
  },
  {
   "cell_type": "code",
   "execution_count": 82,
   "metadata": {
    "hidden": true
   },
   "outputs": [
    {
     "data": {
      "text/html": [
       "60"
      ],
      "text/latex": [
       "60"
      ],
      "text/markdown": [
       "60"
      ],
      "text/plain": [
       "[1] 60"
      ]
     },
     "metadata": {},
     "output_type": "display_data"
    }
   ],
   "source": [
    "#Cheking total outliers in age feature\n",
    "length(which(outliers$is.outliers=='Outliers'))"
   ]
  },
  {
   "cell_type": "markdown",
   "metadata": {
    "heading_collapsed": true
   },
   "source": [
    "### SUMMARY POINTS ON DETECTING OUTLIERS USING Z-SCORE ON AGE"
   ]
  },
  {
   "cell_type": "markdown",
   "metadata": {
    "hidden": true
   },
   "source": [
    "- We have detected 60 rows as an outliers in age feature in which age has been recorded from 80 years old to 90 years old"
   ]
  },
  {
   "cell_type": "markdown",
   "metadata": {
    "heading_collapsed": true
   },
   "source": [
    "### DETECTING OUTLIERS USING IQR RANGE METHOD ON AGE"
   ]
  },
  {
   "cell_type": "code",
   "execution_count": 106,
   "metadata": {
    "hidden": true
   },
   "outputs": [
    {
     "data": {
      "image/png": "[encoded data removed]",
      "text/plain": [
       "plot without title"
      ]
     },
     "metadata": {
      "image/png": {
       "height": 420,
       "width": 420
      }
     },
     "output_type": "display_data"
    }
   ],
   "source": [
    "#Plotting boxplot in age feature\n",
    "boxplot(data$age,horizontal = T, col='blue')"
   ]
  },
  {
   "cell_type": "code",
   "execution_count": 84,
   "metadata": {
    "hidden": true
   },
   "outputs": [],
   "source": [
    "#Extracting an outliers from lower bound and upper bound using IQR methods\n",
    "q1 <- quantile(data$age, 0.25)\n",
    "q3 <- quantile(data$age, 0.75)\n",
    "iqr <- q3 - q1\n",
    "Outliers_lower_bound <- data$age[data$age<(q1-(1.5*iqr))]\n",
    "Outliers_upper_bound <- data$age[data$age>(q3+(1.5*iqr))]"
   ]
  },
  {
   "cell_type": "code",
   "execution_count": 85,
   "metadata": {
    "hidden": true
   },
   "outputs": [
    {
     "data": {
      "text/html": [
       "0"
      ],
      "text/latex": [
       "0"
      ],
      "text/markdown": [
       "0"
      ],
      "text/plain": [
       "[1] 0"
      ]
     },
     "metadata": {},
     "output_type": "display_data"
    }
   ],
   "source": [
    "#Checking count of an outliers from lower bound\n",
    "length(Outliers_lower_bound)"
   ]
  },
  {
   "cell_type": "code",
   "execution_count": 86,
   "metadata": {
    "hidden": true
   },
   "outputs": [
    {
     "data": {
      "text/html": [
       "70"
      ],
      "text/latex": [
       "70"
      ],
      "text/markdown": [
       "70"
      ],
      "text/plain": [
       "[1] 70"
      ]
     },
     "metadata": {},
     "output_type": "display_data"
    }
   ],
   "source": [
    "#Checking count of an outliers from upper bound\n",
    "length(Outliers_upper_bound)"
   ]
  },
  {
   "cell_type": "code",
   "execution_count": 87,
   "metadata": {
    "hidden": true
   },
   "outputs": [
    {
     "data": {
      "text/plain": [
       "Outliers_upper_bound\n",
       "79 80 81 82 83 84 85 86 87 88 90 \n",
       "10 10  5  8  2  5  3  1  1  2 23 "
      ]
     },
     "metadata": {},
     "output_type": "display_data"
    }
   ],
   "source": [
    "#Value count of age feature have an outliers\n",
    "table(Outliers_upper_bound)"
   ]
  },
  {
   "cell_type": "markdown",
   "metadata": {
    "heading_collapsed": true
   },
   "source": [
    "### SUMMARY POINTS ON DETECTING OUTLIERS USING IQR RANGE METHOD ON AGE"
   ]
  },
  {
   "cell_type": "markdown",
   "metadata": {
    "hidden": true
   },
   "source": [
    "- We have detected 70 rows as an outliers in age feature in which age has been recorded from 79 years old to 90 years old\n",
    "- Age 90 is an extreme outliers which has 23 records"
   ]
  },
  {
   "cell_type": "markdown",
   "metadata": {},
   "source": [
    "# SELECT ONLY RECORDS WITH AGE AT LEAST 80, AND CONSTRUCT A HISTOGRAM OF AGE. EXPLAIN WHAT YOU SEE"
   ]
  },
  {
   "cell_type": "markdown",
   "metadata": {
    "heading_collapsed": true
   },
   "source": [
    "### SELECTING ONLY RECORDS WITH AGE ATLEAST 80 AND CREATE HISTOGRAM"
   ]
  },
  {
   "cell_type": "code",
   "execution_count": 105,
   "metadata": {
    "hidden": true
   },
   "outputs": [
    {
     "data": {
      "image/png": "[encoded data removed]",
      "text/plain": [
       "Plot with title “Histgram age<80 of male sex”"
      ]
     },
     "metadata": {
      "image/png": {
       "height": 420,
       "width": 420
      }
     },
     "output_type": "display_data"
    }
   ],
   "source": [
    "#Creating histogram on age w.r.t sex\n",
    "ATLEAST_80_female <- filter(data, data$age<80 & data$sex=='Female')\n",
    "ATLEAST_80_male <- filter(data, data$age<80 & data$sex=='Male')\n",
    "\n",
    "breaks <- c(17,20,25,30,35,40,45,50,55,60,65,70,75,80)\n",
    "par(mfrow = c(1, 2))\n",
    "hist(ATLEAST_80_female$age, \n",
    "     freq = F, \n",
    "     main = \"Histgram age<80 of female sex\",\n",
    "     breaks = breaks, \n",
    "     col = 'skyblue3')\n",
    "density_f = density(ATLEAST_80_female$age)\n",
    "lines(density_f, \n",
    "      lwd = 2, \n",
    "      col = \"red\")\n",
    "\n",
    "hist(ATLEAST_80_male$age, \n",
    "     freq = F, \n",
    "     main = \"Histgram age<80 of male sex\",\n",
    "     breaks = breaks, \n",
    "     col = 'green')\n",
    "density_m = density(ATLEAST_80_male$age)\n",
    "lines(density_m, lwd = 2, col = \"red\")"
   ]
  },
  {
   "cell_type": "markdown",
   "metadata": {
    "heading_collapsed": true
   },
   "source": [
    "### SUMMARY ON HISTOGRAM: AGE ATLEAST 80"
   ]
  },
  {
   "cell_type": "markdown",
   "metadata": {
    "hidden": true
   },
   "source": [
    "for male:\n",
    "\n",
    "- The data spread is from about 17 age to 80 age.\n",
    "- As per the above histogram, the data have right skewed it means maximum records have an age between 25 to 45 age\n",
    "- Age 35 to 40 as an identified the peaks, which are the tallest clusters of the bars\n",
    "- The peaks represent the most common values. Assess the spread of the sample to understand how much the data varies.\n",
    "\n",
    "for female:\n",
    "\n",
    "- As per the above histogram, the data have right skewed it means maximum records have an age between 17 to 45 age\n",
    "- Age 20 to 30 as an identified the peaks, which are the tallest clusters of the bars"
   ]
  },
  {
   "cell_type": "markdown",
   "metadata": {},
   "source": [
    "# END"
   ]
  }
 ],
 "metadata": {
  "kernelspec": {
   "display_name": "Python 3 (ipykernel)",
   "language": "python",
   "name": "python3"
  },
  "language_info": {
   "codemirror_mode": {
    "name": "ipython",
    "version": 3
   },
   "file_extension": ".py",
   "mimetype": "text/x-python",
   "name": "python",
   "nbconvert_exporter": "python",
   "pygments_lexer": "ipython3",
   "version": "3.9.7"
  },
  "toc": {
   "base_numbering": 1,
   "nav_menu": {},
   "number_sections": true,
   "sideBar": true,
   "skip_h1_title": false,
   "title_cell": "Table of Contents",
   "title_sidebar": "Contents",
   "toc_cell": false,
   "toc_position": {},
   "toc_section_display": true,
   "toc_window_display": false
  }
 },
 "nbformat": 4,
 "nbformat_minor": 2
}
