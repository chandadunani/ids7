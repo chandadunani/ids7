{
 "cells": [
  {
   "cell_type": "markdown",
   "id": "a27c93d9",
   "metadata": {},
   "source": [
    "Problem 2 (Python)\n",
    "\n",
    "1. Use the following nutrition dataset: https://github.com/bforoura/IDS/blob/main/HW4/nutrition_subset.csv (Links to an external site.)\n",
    "2. The elements in the data set are food items of various sizes, ranging from a teaspoon of cinnamon to an entire carrot cake.\n",
    "3. Sort the data set by saturated_ fat and produce a listing of the five food items highest in saturated fat. Comment on the validity of comparing food items of different sizes.\n",
    "4. Create a new variable, saturated_ fat_ per_gram, by dividing the amount of saturated fat  by the weight in grams. Sort the data set by saturated_ fat_ per_gram and produce a listing of the five food  items highest in saturated fat per gram. Which food has the most saturated fat per gram?\n",
    "5. Standardize (zero mean) the field saturated_ fat_ per_gram, and produce a listing of all the food items that are outliers at the high end of the scale. How many food items are outliers at the low end of the scale? Create a density plot for saturated_ fat_ per_gram."
   ]
  },
  {
   "cell_type": "markdown",
   "id": "f2b7e5fc",
   "metadata": {
    "heading_collapsed": true
   },
   "source": [
    "# IMPORTING LIBRARIES"
   ]
  },
  {
   "cell_type": "code",
   "execution_count": 1,
   "id": "7b08352f",
   "metadata": {
    "hidden": true
   },
   "outputs": [],
   "source": [
    "import pandas as pd\n",
    "import numpy as np\n",
    "import seaborn as sns\n",
    "import matplotlib.pyplot as plt\n",
    "import warnings\n",
    "warnings.filterwarnings('ignore')\n",
    "from scipy.stats import zscore"
   ]
  },
  {
   "cell_type": "markdown",
   "id": "356bfbe9",
   "metadata": {
    "heading_collapsed": true
   },
   "source": [
    "# LOADING DATA"
   ]
  },
  {
   "cell_type": "code",
   "execution_count": 2,
   "id": "ebb6930a",
   "metadata": {
    "hidden": true
   },
   "outputs": [],
   "source": [
    "data = pd.read_csv('https://raw.githubusercontent.com/bforoura/IDS/main/HW4/nutrition_subset.csv')"
   ]
  },
  {
   "cell_type": "code",
   "execution_count": 3,
   "id": "c62698b6",
   "metadata": {
    "hidden": true
   },
   "outputs": [
    {
     "data": {
      "text/plain": [
       "(961, 4)"
      ]
     },
     "execution_count": 3,
     "metadata": {},
     "output_type": "execute_result"
    }
   ],
   "source": [
    "#Data shape\n",
    "data.shape"
   ]
  },
  {
   "cell_type": "code",
   "execution_count": 4,
   "id": "ceae95f0",
   "metadata": {
    "hidden": true
   },
   "outputs": [
    {
     "data": {
      "text/html": [
       "<div>\n",
       "<style scoped>\n",
       "    .dataframe tbody tr th:only-of-type {\n",
       "        vertical-align: middle;\n",
       "    }\n",
       "\n",
       "    .dataframe tbody tr th {\n",
       "        vertical-align: top;\n",
       "    }\n",
       "\n",
       "    .dataframe thead th {\n",
       "        text-align: right;\n",
       "    }\n",
       "</style>\n",
       "<table border=\"1\" class=\"dataframe\">\n",
       "  <thead>\n",
       "    <tr style=\"text-align: right;\">\n",
       "      <th></th>\n",
       "      <th>food item</th>\n",
       "      <th>weight_in_grams</th>\n",
       "      <th>saturated_fat</th>\n",
       "      <th>cholesterol</th>\n",
       "    </tr>\n",
       "  </thead>\n",
       "  <tbody>\n",
       "    <tr>\n",
       "      <th>0</th>\n",
       "      <td>GELATIN; DRY                  1 ENVELP</td>\n",
       "      <td>7.00</td>\n",
       "      <td>0.0</td>\n",
       "      <td>0</td>\n",
       "    </tr>\n",
       "    <tr>\n",
       "      <th>1</th>\n",
       "      <td>SEAWEED; SPIRULINA; DRIED     1 OZ</td>\n",
       "      <td>28.35</td>\n",
       "      <td>0.8</td>\n",
       "      <td>0</td>\n",
       "    </tr>\n",
       "    <tr>\n",
       "      <th>2</th>\n",
       "      <td>YEAST; BAKERS; DRY; ACTIVE    1 PKG</td>\n",
       "      <td>7.00</td>\n",
       "      <td>0.0</td>\n",
       "      <td>0</td>\n",
       "    </tr>\n",
       "    <tr>\n",
       "      <th>3</th>\n",
       "      <td>PARMESAN CHEESE; GRATED       1 OZ</td>\n",
       "      <td>28.35</td>\n",
       "      <td>5.4</td>\n",
       "      <td>22</td>\n",
       "    </tr>\n",
       "    <tr>\n",
       "      <th>4</th>\n",
       "      <td>PARMESAN CHEESE; GRATED       1 CUP</td>\n",
       "      <td>100.00</td>\n",
       "      <td>19.1</td>\n",
       "      <td>79</td>\n",
       "    </tr>\n",
       "  </tbody>\n",
       "</table>\n",
       "</div>"
      ],
      "text/plain": [
       "                                food item  weight_in_grams  saturated_fat  \\\n",
       "0  GELATIN; DRY                  1 ENVELP             7.00            0.0   \n",
       "1  SEAWEED; SPIRULINA; DRIED     1 OZ                28.35            0.8   \n",
       "2  YEAST; BAKERS; DRY; ACTIVE    1 PKG                7.00            0.0   \n",
       "3  PARMESAN CHEESE; GRATED       1 OZ                28.35            5.4   \n",
       "4  PARMESAN CHEESE; GRATED       1 CUP              100.00           19.1   \n",
       "\n",
       "   cholesterol  \n",
       "0            0  \n",
       "1            0  \n",
       "2            0  \n",
       "3           22  \n",
       "4           79  "
      ]
     },
     "execution_count": 4,
     "metadata": {},
     "output_type": "execute_result"
    }
   ],
   "source": [
    "#Data glimps\n",
    "data.head()"
   ]
  },
  {
   "cell_type": "code",
   "execution_count": 5,
   "id": "c74eb387",
   "metadata": {
    "hidden": true
   },
   "outputs": [
    {
     "data": {
      "text/plain": [
       "food item          0\n",
       "weight_in_grams    0\n",
       "saturated_fat      0\n",
       "cholesterol        0\n",
       "dtype: int64"
      ]
     },
     "execution_count": 5,
     "metadata": {},
     "output_type": "execute_result"
    }
   ],
   "source": [
    "#Checking missing values\n",
    "data.isnull().sum()"
   ]
  },
  {
   "cell_type": "code",
   "execution_count": 6,
   "id": "d8f3997b",
   "metadata": {
    "hidden": true
   },
   "outputs": [
    {
     "data": {
      "text/plain": [
       "food item           object\n",
       "weight_in_grams    float64\n",
       "saturated_fat      float64\n",
       "cholesterol          int64\n",
       "dtype: object"
      ]
     },
     "execution_count": 6,
     "metadata": {},
     "output_type": "execute_result"
    }
   ],
   "source": [
    "#Checking data type for all the features\n",
    "data.dtypes"
   ]
  },
  {
   "cell_type": "code",
   "execution_count": 7,
   "id": "733f4fb4",
   "metadata": {
    "hidden": true
   },
   "outputs": [
    {
     "name": "stdout",
     "output_type": "stream",
     "text": [
      "food item            961\n",
      "weight_in_grams      254\n",
      "saturated_fat        159\n",
      "cholesterol          144\n"
     ]
    }
   ],
   "source": [
    "#Checking count of unique values in each features\n",
    "for i in data.columns:\n",
    "  print(f'{i:{20}} {data[i].nunique()}')"
   ]
  },
  {
   "cell_type": "markdown",
   "id": "7e8d285a",
   "metadata": {},
   "source": [
    "# SORT THE DATA SET BY SATURATED_ FAT AND PRODUCE A LISTING OF THE FIVE FOOD ITEMS HIGHEST IN SATURATED FAT. COMMENT ON THE VALIDITY OF COMPARING FOOD ITEMS OF DIFFERENT SIZES."
   ]
  },
  {
   "cell_type": "markdown",
   "id": "c5c5a28c",
   "metadata": {
    "heading_collapsed": true
   },
   "source": [
    "### SORT DATA BY SATURATED FAT"
   ]
  },
  {
   "cell_type": "code",
   "execution_count": 8,
   "id": "927a7a60",
   "metadata": {
    "hidden": true
   },
   "outputs": [
    {
     "data": {
      "text/html": [
       "<div>\n",
       "<style scoped>\n",
       "    .dataframe tbody tr th:only-of-type {\n",
       "        vertical-align: middle;\n",
       "    }\n",
       "\n",
       "    .dataframe tbody tr th {\n",
       "        vertical-align: top;\n",
       "    }\n",
       "\n",
       "    .dataframe thead th {\n",
       "        text-align: right;\n",
       "    }\n",
       "</style>\n",
       "<table border=\"1\" class=\"dataframe\">\n",
       "  <thead>\n",
       "    <tr style=\"text-align: right;\">\n",
       "      <th></th>\n",
       "      <th>food item</th>\n",
       "      <th>weight_in_grams</th>\n",
       "      <th>saturated_fat</th>\n",
       "      <th>cholesterol</th>\n",
       "    </tr>\n",
       "  </thead>\n",
       "  <tbody>\n",
       "    <tr>\n",
       "      <th>0</th>\n",
       "      <td>CHEESECAKE                    1 CAKE</td>\n",
       "      <td>1110.0</td>\n",
       "      <td>119.9</td>\n",
       "      <td>2053</td>\n",
       "    </tr>\n",
       "    <tr>\n",
       "      <th>1</th>\n",
       "      <td>ICE CREAM; VANLLA; RICH 16% FT1/2 GAL</td>\n",
       "      <td>1188.0</td>\n",
       "      <td>118.3</td>\n",
       "      <td>703</td>\n",
       "    </tr>\n",
       "    <tr>\n",
       "      <th>2</th>\n",
       "      <td>YELLOWCAKE W/ CHOCFRSTNG;COMML1 CAKE</td>\n",
       "      <td>1108.0</td>\n",
       "      <td>92.0</td>\n",
       "      <td>609</td>\n",
       "    </tr>\n",
       "    <tr>\n",
       "      <th>3</th>\n",
       "      <td>CREME PIE                     1 PIE</td>\n",
       "      <td>910.0</td>\n",
       "      <td>90.1</td>\n",
       "      <td>46</td>\n",
       "    </tr>\n",
       "    <tr>\n",
       "      <th>4</th>\n",
       "      <td>LARD                          1 CUP</td>\n",
       "      <td>205.0</td>\n",
       "      <td>80.4</td>\n",
       "      <td>195</td>\n",
       "    </tr>\n",
       "  </tbody>\n",
       "</table>\n",
       "</div>"
      ],
      "text/plain": [
       "                                food item  weight_in_grams  saturated_fat  \\\n",
       "0  CHEESECAKE                    1 CAKE             1110.0          119.9   \n",
       "1  ICE CREAM; VANLLA; RICH 16% FT1/2 GAL            1188.0          118.3   \n",
       "2  YELLOWCAKE W/ CHOCFRSTNG;COMML1 CAKE             1108.0           92.0   \n",
       "3  CREME PIE                     1 PIE               910.0           90.1   \n",
       "4  LARD                          1 CUP               205.0           80.4   \n",
       "\n",
       "   cholesterol  \n",
       "0         2053  \n",
       "1          703  \n",
       "2          609  \n",
       "3           46  \n",
       "4          195  "
      ]
     },
     "execution_count": 8,
     "metadata": {},
     "output_type": "execute_result"
    }
   ],
   "source": [
    "data.sort_values('saturated_fat',ascending=False, inplace=True)\n",
    "data.reset_index(drop=True, inplace=True)\n",
    "data.head()"
   ]
  },
  {
   "cell_type": "markdown",
   "id": "bc6b8800",
   "metadata": {
    "heading_collapsed": true
   },
   "source": [
    "### LIST FIVE ITEMS HAVE HIGH SATURATED FAT"
   ]
  },
  {
   "cell_type": "code",
   "execution_count": 9,
   "id": "c9b067f0",
   "metadata": {
    "hidden": true
   },
   "outputs": [
    {
     "data": {
      "text/plain": [
       "['CHEESECAKE                    1 CAKE  ',\n",
       " 'ICE CREAM; VANLLA; RICH 16% FT1/2 GAL ',\n",
       " 'YELLOWCAKE W/ CHOCFRSTNG;COMML1 CAKE  ',\n",
       " 'CREME PIE                     1 PIE   ',\n",
       " 'LARD                          1 CUP   ']"
      ]
     },
     "execution_count": 9,
     "metadata": {},
     "output_type": "execute_result"
    }
   ],
   "source": [
    "[i for i in data['food item'][0:5]]"
   ]
  },
  {
   "cell_type": "markdown",
   "id": "05833d45",
   "metadata": {
    "heading_collapsed": true
   },
   "source": [
    "### COMMENT ON THE VALIDITY OF COMPARING FOOD ITEMS OF DIFFERENT SIZES"
   ]
  },
  {
   "cell_type": "markdown",
   "id": "968f3456",
   "metadata": {
    "hidden": true
   },
   "source": [
    "1. Cheesecake, Icecream-vanilla-rich, Yellowcake-chocofrosting have saturated_fat 119.9, 118.3 & 92.0 respectively but wieght of that food items are more than 1 kg which is a big size food items\n",
    "2. Creme pie have a saturated_fat 90.1 and the weight of that food item is 910 gram which is also a more than medium size food item\n",
    "3. Lard 1 cup have a saturated fat 80.4 but the size of the 1 cup lard is 200 gram which is a small size of food item\n",
    "4. We can conclude that 1 cup lard have weight of 200 gram but it contains high amount of saturated_fat due to it is a semi-solid white fat product"
   ]
  },
  {
   "cell_type": "markdown",
   "id": "9c73a215",
   "metadata": {},
   "source": [
    "# CREATE A NEW VARIABLE, SATURATED_ FAT_ PER_GRAM, BY DIVIDING THE AMOUNT OF SATURATED FAT  BY THE WEIGHT IN GRAMS. SORT THE DATA SET BY SATURATED_ FAT_ PER_GRAM AND PRODUCE A LISTING OF THE FIVE FOOD  ITEMS HIGHEST IN SATURATED FAT PER GRAM. WHICH FOOD HAS THE MOST SATURATED FAT PER GRAM?"
   ]
  },
  {
   "cell_type": "markdown",
   "id": "2e2b9e71",
   "metadata": {
    "heading_collapsed": true
   },
   "source": [
    "### CREATING NEW VARIABLE: SATURATED FAT PER GRAM"
   ]
  },
  {
   "cell_type": "code",
   "execution_count": 10,
   "id": "10452ca8",
   "metadata": {
    "hidden": true
   },
   "outputs": [
    {
     "data": {
      "text/html": [
       "<div>\n",
       "<style scoped>\n",
       "    .dataframe tbody tr th:only-of-type {\n",
       "        vertical-align: middle;\n",
       "    }\n",
       "\n",
       "    .dataframe tbody tr th {\n",
       "        vertical-align: top;\n",
       "    }\n",
       "\n",
       "    .dataframe thead th {\n",
       "        text-align: right;\n",
       "    }\n",
       "</style>\n",
       "<table border=\"1\" class=\"dataframe\">\n",
       "  <thead>\n",
       "    <tr style=\"text-align: right;\">\n",
       "      <th></th>\n",
       "      <th>food item</th>\n",
       "      <th>weight_in_grams</th>\n",
       "      <th>saturated_fat</th>\n",
       "      <th>cholesterol</th>\n",
       "      <th>saturated_ fat_ per_gram</th>\n",
       "    </tr>\n",
       "  </thead>\n",
       "  <tbody>\n",
       "    <tr>\n",
       "      <th>0</th>\n",
       "      <td>CHEESECAKE                    1 CAKE</td>\n",
       "      <td>1110.0</td>\n",
       "      <td>119.9</td>\n",
       "      <td>2053</td>\n",
       "      <td>0.108018</td>\n",
       "    </tr>\n",
       "    <tr>\n",
       "      <th>1</th>\n",
       "      <td>ICE CREAM; VANLLA; RICH 16% FT1/2 GAL</td>\n",
       "      <td>1188.0</td>\n",
       "      <td>118.3</td>\n",
       "      <td>703</td>\n",
       "      <td>0.099579</td>\n",
       "    </tr>\n",
       "    <tr>\n",
       "      <th>2</th>\n",
       "      <td>YELLOWCAKE W/ CHOCFRSTNG;COMML1 CAKE</td>\n",
       "      <td>1108.0</td>\n",
       "      <td>92.0</td>\n",
       "      <td>609</td>\n",
       "      <td>0.083032</td>\n",
       "    </tr>\n",
       "    <tr>\n",
       "      <th>3</th>\n",
       "      <td>CREME PIE                     1 PIE</td>\n",
       "      <td>910.0</td>\n",
       "      <td>90.1</td>\n",
       "      <td>46</td>\n",
       "      <td>0.099011</td>\n",
       "    </tr>\n",
       "    <tr>\n",
       "      <th>4</th>\n",
       "      <td>LARD                          1 CUP</td>\n",
       "      <td>205.0</td>\n",
       "      <td>80.4</td>\n",
       "      <td>195</td>\n",
       "      <td>0.392195</td>\n",
       "    </tr>\n",
       "  </tbody>\n",
       "</table>\n",
       "</div>"
      ],
      "text/plain": [
       "                                food item  weight_in_grams  saturated_fat  \\\n",
       "0  CHEESECAKE                    1 CAKE             1110.0          119.9   \n",
       "1  ICE CREAM; VANLLA; RICH 16% FT1/2 GAL            1188.0          118.3   \n",
       "2  YELLOWCAKE W/ CHOCFRSTNG;COMML1 CAKE             1108.0           92.0   \n",
       "3  CREME PIE                     1 PIE               910.0           90.1   \n",
       "4  LARD                          1 CUP               205.0           80.4   \n",
       "\n",
       "   cholesterol  saturated_ fat_ per_gram  \n",
       "0         2053                  0.108018  \n",
       "1          703                  0.099579  \n",
       "2          609                  0.083032  \n",
       "3           46                  0.099011  \n",
       "4          195                  0.392195  "
      ]
     },
     "execution_count": 10,
     "metadata": {},
     "output_type": "execute_result"
    }
   ],
   "source": [
    "data['saturated_ fat_ per_gram'] = data['saturated_fat']/data['weight_in_grams']\n",
    "data.head()"
   ]
  },
  {
   "cell_type": "markdown",
   "id": "d78b2d29",
   "metadata": {
    "heading_collapsed": true
   },
   "source": [
    "### SORT DATA BY SATURATED FAT PER GRAM"
   ]
  },
  {
   "cell_type": "code",
   "execution_count": 11,
   "id": "577d1de6",
   "metadata": {
    "hidden": true
   },
   "outputs": [
    {
     "data": {
      "text/html": [
       "<div>\n",
       "<style scoped>\n",
       "    .dataframe tbody tr th:only-of-type {\n",
       "        vertical-align: middle;\n",
       "    }\n",
       "\n",
       "    .dataframe tbody tr th {\n",
       "        vertical-align: top;\n",
       "    }\n",
       "\n",
       "    .dataframe thead th {\n",
       "        text-align: right;\n",
       "    }\n",
       "</style>\n",
       "<table border=\"1\" class=\"dataframe\">\n",
       "  <thead>\n",
       "    <tr style=\"text-align: right;\">\n",
       "      <th></th>\n",
       "      <th>food item</th>\n",
       "      <th>weight_in_grams</th>\n",
       "      <th>saturated_fat</th>\n",
       "      <th>cholesterol</th>\n",
       "      <th>saturated_ fat_ per_gram</th>\n",
       "    </tr>\n",
       "  </thead>\n",
       "  <tbody>\n",
       "    <tr>\n",
       "      <th>0</th>\n",
       "      <td>BUTTER; SALTED                1 TBSP</td>\n",
       "      <td>14.0</td>\n",
       "      <td>7.1</td>\n",
       "      <td>31</td>\n",
       "      <td>0.507143</td>\n",
       "    </tr>\n",
       "    <tr>\n",
       "      <th>1</th>\n",
       "      <td>BUTTER; UNSALTED              1 TBSP</td>\n",
       "      <td>14.0</td>\n",
       "      <td>7.1</td>\n",
       "      <td>31</td>\n",
       "      <td>0.507143</td>\n",
       "    </tr>\n",
       "    <tr>\n",
       "      <th>2</th>\n",
       "      <td>BUTTER; SALTED                1/2 CUP</td>\n",
       "      <td>113.0</td>\n",
       "      <td>57.1</td>\n",
       "      <td>247</td>\n",
       "      <td>0.505310</td>\n",
       "    </tr>\n",
       "    <tr>\n",
       "      <th>3</th>\n",
       "      <td>BUTTER; UNSALTED              1/2 CUP</td>\n",
       "      <td>113.0</td>\n",
       "      <td>57.1</td>\n",
       "      <td>247</td>\n",
       "      <td>0.505310</td>\n",
       "    </tr>\n",
       "    <tr>\n",
       "      <th>4</th>\n",
       "      <td>BUTTER; SALTED                1 PAT</td>\n",
       "      <td>5.0</td>\n",
       "      <td>2.5</td>\n",
       "      <td>11</td>\n",
       "      <td>0.500000</td>\n",
       "    </tr>\n",
       "  </tbody>\n",
       "</table>\n",
       "</div>"
      ],
      "text/plain": [
       "                                food item  weight_in_grams  saturated_fat  \\\n",
       "0  BUTTER; SALTED                1 TBSP               14.0            7.1   \n",
       "1  BUTTER; UNSALTED              1 TBSP               14.0            7.1   \n",
       "2  BUTTER; SALTED                1/2 CUP             113.0           57.1   \n",
       "3  BUTTER; UNSALTED              1/2 CUP             113.0           57.1   \n",
       "4  BUTTER; SALTED                1 PAT                 5.0            2.5   \n",
       "\n",
       "   cholesterol  saturated_ fat_ per_gram  \n",
       "0           31                  0.507143  \n",
       "1           31                  0.507143  \n",
       "2          247                  0.505310  \n",
       "3          247                  0.505310  \n",
       "4           11                  0.500000  "
      ]
     },
     "execution_count": 11,
     "metadata": {},
     "output_type": "execute_result"
    }
   ],
   "source": [
    "data.sort_values('saturated_ fat_ per_gram',ascending=False, inplace=True)\n",
    "data.reset_index(drop=True, inplace=True)\n",
    "data.head()"
   ]
  },
  {
   "cell_type": "markdown",
   "id": "bec5afb3",
   "metadata": {
    "heading_collapsed": true
   },
   "source": [
    "### LIST FIVE ITEMS HAVE HIGH SATURATED FAT PER GRAM"
   ]
  },
  {
   "cell_type": "code",
   "execution_count": 12,
   "id": "84307d44",
   "metadata": {
    "hidden": true
   },
   "outputs": [
    {
     "data": {
      "text/plain": [
       "['BUTTER; SALTED                1 TBSP  ',\n",
       " 'BUTTER; UNSALTED              1 TBSP  ',\n",
       " 'BUTTER; SALTED                1/2 CUP ',\n",
       " 'BUTTER; UNSALTED              1/2 CUP ',\n",
       " 'BUTTER; SALTED                1 PAT   ']"
      ]
     },
     "execution_count": 12,
     "metadata": {},
     "output_type": "execute_result"
    }
   ],
   "source": [
    "[i for i in data['food item'][0:5]]"
   ]
  },
  {
   "cell_type": "markdown",
   "id": "46e36e60",
   "metadata": {
    "heading_collapsed": true
   },
   "source": [
    "### WHICH FOOD HAS THE MOST SATURATED FAT PER GRAM ?"
   ]
  },
  {
   "cell_type": "markdown",
   "id": "415be9fd",
   "metadata": {
    "hidden": true
   },
   "source": [
    "Butter Salted 1 TBSP and Butter Unsalted 1 TBSP has the most saturated fat per gram"
   ]
  },
  {
   "cell_type": "markdown",
   "id": "4bb037f9",
   "metadata": {},
   "source": [
    "# STANDARDIZE (ZERO MEAN) THE FIELD SATURATED_ FAT_ PER_GRAM, AND PRODUCE A LISTING OF ALL THE FOOD ITEMS THAT ARE OUTLIERS AT THE HIGH END OF THE SCALE. HOW MANY FOOD ITEMS ARE OUTLIERS AT THE LOW END OF THE SCALE? CREATE A DENSITY PLOT FOR SATURATED_ FAT_ PER_GRAM."
   ]
  },
  {
   "cell_type": "markdown",
   "id": "7f05e30c",
   "metadata": {
    "heading_collapsed": true
   },
   "source": [
    "### DETECTING OUTLIERS USING Z-SCORE ON SATURATED FAT PER GRAM"
   ]
  },
  {
   "cell_type": "code",
   "execution_count": 13,
   "id": "0769e85d",
   "metadata": {
    "hidden": true
   },
   "outputs": [],
   "source": [
    "def detecting_outliers_using_zscore(data, variable):\n",
    "    df = data[['food item','weight_in_grams',variable]]\n",
    "    df['zscore'] = abs(zscore(df[variable]))\n",
    "    df['is_outliers'] = ['outlier' if i>3 else 'not outlier' for i in df['zscore']]\n",
    "    outliers = df[df['is_outliers']=='outlier']\n",
    "    return outliers"
   ]
  },
  {
   "cell_type": "code",
   "execution_count": 14,
   "id": "7701161d",
   "metadata": {
    "hidden": true
   },
   "outputs": [
    {
     "data": {
      "text/html": [
       "<div>\n",
       "<style scoped>\n",
       "    .dataframe tbody tr th:only-of-type {\n",
       "        vertical-align: middle;\n",
       "    }\n",
       "\n",
       "    .dataframe tbody tr th {\n",
       "        vertical-align: top;\n",
       "    }\n",
       "\n",
       "    .dataframe thead th {\n",
       "        text-align: right;\n",
       "    }\n",
       "</style>\n",
       "<table border=\"1\" class=\"dataframe\">\n",
       "  <thead>\n",
       "    <tr style=\"text-align: right;\">\n",
       "      <th></th>\n",
       "      <th>food item</th>\n",
       "      <th>weight_in_grams</th>\n",
       "      <th>saturated_ fat_ per_gram</th>\n",
       "      <th>zscore</th>\n",
       "      <th>is_outliers</th>\n",
       "    </tr>\n",
       "  </thead>\n",
       "  <tbody>\n",
       "    <tr>\n",
       "      <th>0</th>\n",
       "      <td>BUTTER; SALTED                1 TBSP</td>\n",
       "      <td>14.00</td>\n",
       "      <td>0.507143</td>\n",
       "      <td>7.110475</td>\n",
       "      <td>outlier</td>\n",
       "    </tr>\n",
       "    <tr>\n",
       "      <th>1</th>\n",
       "      <td>BUTTER; UNSALTED              1 TBSP</td>\n",
       "      <td>14.00</td>\n",
       "      <td>0.507143</td>\n",
       "      <td>7.110475</td>\n",
       "      <td>outlier</td>\n",
       "    </tr>\n",
       "    <tr>\n",
       "      <th>2</th>\n",
       "      <td>BUTTER; SALTED                1/2 CUP</td>\n",
       "      <td>113.00</td>\n",
       "      <td>0.505310</td>\n",
       "      <td>7.082741</td>\n",
       "      <td>outlier</td>\n",
       "    </tr>\n",
       "    <tr>\n",
       "      <th>3</th>\n",
       "      <td>BUTTER; UNSALTED              1/2 CUP</td>\n",
       "      <td>113.00</td>\n",
       "      <td>0.505310</td>\n",
       "      <td>7.082741</td>\n",
       "      <td>outlier</td>\n",
       "    </tr>\n",
       "    <tr>\n",
       "      <th>4</th>\n",
       "      <td>BUTTER; SALTED                1 PAT</td>\n",
       "      <td>5.00</td>\n",
       "      <td>0.500000</td>\n",
       "      <td>7.002408</td>\n",
       "      <td>outlier</td>\n",
       "    </tr>\n",
       "    <tr>\n",
       "      <th>5</th>\n",
       "      <td>BUTTER; UNSALTED              1 PAT</td>\n",
       "      <td>5.00</td>\n",
       "      <td>0.500000</td>\n",
       "      <td>7.002408</td>\n",
       "      <td>outlier</td>\n",
       "    </tr>\n",
       "    <tr>\n",
       "      <th>6</th>\n",
       "      <td>LARD                          1 TBSP</td>\n",
       "      <td>13.00</td>\n",
       "      <td>0.392308</td>\n",
       "      <td>5.373078</td>\n",
       "      <td>outlier</td>\n",
       "    </tr>\n",
       "    <tr>\n",
       "      <th>7</th>\n",
       "      <td>LARD                          1 CUP</td>\n",
       "      <td>205.00</td>\n",
       "      <td>0.392195</td>\n",
       "      <td>5.371375</td>\n",
       "      <td>outlier</td>\n",
       "    </tr>\n",
       "    <tr>\n",
       "      <th>8</th>\n",
       "      <td>IMITATION CREAMERS; POWDERED  1 TSP</td>\n",
       "      <td>2.00</td>\n",
       "      <td>0.350000</td>\n",
       "      <td>4.732985</td>\n",
       "      <td>outlier</td>\n",
       "    </tr>\n",
       "    <tr>\n",
       "      <th>9</th>\n",
       "      <td>CHOCOLATE; BITTER OT BAKING   1 OZ</td>\n",
       "      <td>28.35</td>\n",
       "      <td>0.317460</td>\n",
       "      <td>4.240676</td>\n",
       "      <td>outlier</td>\n",
       "    </tr>\n",
       "    <tr>\n",
       "      <th>10</th>\n",
       "      <td>COCONUT; DRIED; SWEETND;SHREDD1 CUP</td>\n",
       "      <td>93.00</td>\n",
       "      <td>0.315054</td>\n",
       "      <td>4.204266</td>\n",
       "      <td>outlier</td>\n",
       "    </tr>\n",
       "    <tr>\n",
       "      <th>11</th>\n",
       "      <td>COCONUT; RAW; PIECE           1 PIECE</td>\n",
       "      <td>45.00</td>\n",
       "      <td>0.297778</td>\n",
       "      <td>3.942889</td>\n",
       "      <td>outlier</td>\n",
       "    </tr>\n",
       "    <tr>\n",
       "      <th>12</th>\n",
       "      <td>COCONUT; RAW; SHREDDED        1 CUP</td>\n",
       "      <td>80.00</td>\n",
       "      <td>0.297500</td>\n",
       "      <td>3.938687</td>\n",
       "      <td>outlier</td>\n",
       "    </tr>\n",
       "    <tr>\n",
       "      <th>13</th>\n",
       "      <td>FATS; COOKING/VEGETBL SHORTENG1 TBSP</td>\n",
       "      <td>13.00</td>\n",
       "      <td>0.253846</td>\n",
       "      <td>3.278227</td>\n",
       "      <td>outlier</td>\n",
       "    </tr>\n",
       "    <tr>\n",
       "      <th>14</th>\n",
       "      <td>FATS; COOKING/VEGETBL SHORTENG1 CUP</td>\n",
       "      <td>205.00</td>\n",
       "      <td>0.250244</td>\n",
       "      <td>3.223726</td>\n",
       "      <td>outlier</td>\n",
       "    </tr>\n",
       "  </tbody>\n",
       "</table>\n",
       "</div>"
      ],
      "text/plain": [
       "                                 food item  weight_in_grams  \\\n",
       "0   BUTTER; SALTED                1 TBSP              14.00   \n",
       "1   BUTTER; UNSALTED              1 TBSP              14.00   \n",
       "2   BUTTER; SALTED                1/2 CUP            113.00   \n",
       "3   BUTTER; UNSALTED              1/2 CUP            113.00   \n",
       "4   BUTTER; SALTED                1 PAT                5.00   \n",
       "5   BUTTER; UNSALTED              1 PAT                5.00   \n",
       "6   LARD                          1 TBSP              13.00   \n",
       "7   LARD                          1 CUP              205.00   \n",
       "8   IMITATION CREAMERS; POWDERED  1 TSP                2.00   \n",
       "9   CHOCOLATE; BITTER OT BAKING   1 OZ                28.35   \n",
       "10  COCONUT; DRIED; SWEETND;SHREDD1 CUP               93.00   \n",
       "11  COCONUT; RAW; PIECE           1 PIECE             45.00   \n",
       "12  COCONUT; RAW; SHREDDED        1 CUP               80.00   \n",
       "13  FATS; COOKING/VEGETBL SHORTENG1 TBSP              13.00   \n",
       "14  FATS; COOKING/VEGETBL SHORTENG1 CUP              205.00   \n",
       "\n",
       "    saturated_ fat_ per_gram    zscore is_outliers  \n",
       "0                   0.507143  7.110475     outlier  \n",
       "1                   0.507143  7.110475     outlier  \n",
       "2                   0.505310  7.082741     outlier  \n",
       "3                   0.505310  7.082741     outlier  \n",
       "4                   0.500000  7.002408     outlier  \n",
       "5                   0.500000  7.002408     outlier  \n",
       "6                   0.392308  5.373078     outlier  \n",
       "7                   0.392195  5.371375     outlier  \n",
       "8                   0.350000  4.732985     outlier  \n",
       "9                   0.317460  4.240676     outlier  \n",
       "10                  0.315054  4.204266     outlier  \n",
       "11                  0.297778  3.942889     outlier  \n",
       "12                  0.297500  3.938687     outlier  \n",
       "13                  0.253846  3.278227     outlier  \n",
       "14                  0.250244  3.223726     outlier  "
      ]
     },
     "execution_count": 14,
     "metadata": {},
     "output_type": "execute_result"
    }
   ],
   "source": [
    "outliers = detecting_outliers_using_zscore(data, 'saturated_ fat_ per_gram')\n",
    "outliers"
   ]
  },
  {
   "cell_type": "markdown",
   "id": "8b855ec9",
   "metadata": {
    "heading_collapsed": true
   },
   "source": [
    "### SUMMARY POINTS ON DETECTING OUTLIERS USING Z-SCORE ON SATURATED FAT PER GRAM"
   ]
  },
  {
   "cell_type": "markdown",
   "id": "70ab4214",
   "metadata": {
    "hidden": true
   },
   "source": [
    "We have detected 15 records as an outliers in saturated_ fat_ per_gram features"
   ]
  },
  {
   "cell_type": "markdown",
   "id": "0a3f9255",
   "metadata": {
    "heading_collapsed": true
   },
   "source": [
    "### DETECTING OUTLIERS USING IQR RANGE METHOD ON SATURATED FAT PER GRAM"
   ]
  },
  {
   "cell_type": "code",
   "execution_count": 15,
   "id": "8df601f3",
   "metadata": {
    "hidden": true
   },
   "outputs": [
    {
     "data": {
      "image/png": "[encoded data removed]",
      "text/plain": [
       "<Figure size 1152x288 with 1 Axes>"
      ]
     },
     "metadata": {},
     "output_type": "display_data"
    }
   ],
   "source": [
    "plt.style.use('ggplot')\n",
    "plt.figure(figsize=(16,4))\n",
    "sns.boxplot(x=data['saturated_ fat_ per_gram'], color='#9999cc');\n",
    "sns.stripplot(x=data['saturated_ fat_ per_gram'], color='#ffffcc',edgecolor='red',linewidth=0.5);"
   ]
  },
  {
   "cell_type": "code",
   "execution_count": 16,
   "id": "ff278a98",
   "metadata": {
    "hidden": true
   },
   "outputs": [],
   "source": [
    "def detect_outliers_boxplot(data,variable):\n",
    "    Q1 = data[variable].quantile(0.25)\n",
    "    Q3 = data[variable].quantile(0.75)\n",
    "    IQR = Q3 - Q1\n",
    "    Outliers_lower_bound = data[variable][data[variable]<Q1-(1.5*IQR)]\n",
    "    Outliers_upper_bound = data[variable][data[variable]>Q3+(1.5*IQR)]\n",
    "    return Outliers_lower_bound, Outliers_upper_bound"
   ]
  },
  {
   "cell_type": "code",
   "execution_count": 17,
   "id": "b55a7f53",
   "metadata": {
    "hidden": true
   },
   "outputs": [],
   "source": [
    "Outliers_lower, Outliers_upper = detect_outliers_boxplot(data, 'saturated_ fat_ per_gram')"
   ]
  },
  {
   "cell_type": "code",
   "execution_count": 18,
   "id": "24e8b06f",
   "metadata": {
    "hidden": true
   },
   "outputs": [
    {
     "name": "stdout",
     "output_type": "stream",
     "text": [
      "Number of outliers in lower bound: 0\n",
      "Number of outliers in upper bound: 85\n",
      "Number of extreme outliers in upper bound:6\n",
      "Minimum saturated_ fat_ per_gram detected as an outliers: 0.12\n",
      "Maximum saturated_ fat_ per_gram detected as an outliers: 0.5071428571428571\n"
     ]
    }
   ],
   "source": [
    "print(f'Number of outliers in lower bound: {len(Outliers_lower)}')\n",
    "print(f'Number of outliers in upper bound: {len(Outliers_upper)}')\n",
    "print(f'Number of extreme outliers in upper bound:{len(Outliers_upper[Outliers_upper>0.4])}')\n",
    "print(f'Minimum saturated_ fat_ per_gram detected as an outliers: {np.min(Outliers_upper)}')\n",
    "print(f'Maximum saturated_ fat_ per_gram detected as an outliers: {np.max(Outliers_upper)}')"
   ]
  },
  {
   "cell_type": "markdown",
   "id": "9f8a484b",
   "metadata": {
    "heading_collapsed": true
   },
   "source": [
    "### SUMMARY POINTS ON DETECTING OUTLIERS USING IQR RANGE METHOD ON SATURATED FAT PER GRAM"
   ]
  },
  {
   "cell_type": "markdown",
   "id": "9c192530",
   "metadata": {
    "hidden": true
   },
   "source": [
    "1. We didn't any outliers from the lower bound\n",
    "2. We have detected 85 records as an outliers from the upper bound in saturated_ fat_ per_gram features\n",
    "3. 6 records has been identified as an extreme outliers as it has saturated_ fat_ per_gram more than 0.4"
   ]
  },
  {
   "cell_type": "markdown",
   "id": "ff425065",
   "metadata": {
    "heading_collapsed": true
   },
   "source": [
    "### CREATE DENSITY PLOT ON SATURATED FAT PER GRAM"
   ]
  },
  {
   "cell_type": "code",
   "execution_count": 19,
   "id": "e9e25819",
   "metadata": {
    "hidden": true
   },
   "outputs": [
    {
     "data": {
      "image/png": "[encoded data removed]",
      "text/plain": [
       "<Figure size 1152x432 with 1 Axes>"
      ]
     },
     "metadata": {},
     "output_type": "display_data"
    }
   ],
   "source": [
    "plt.figure(figsize=(16,6))\n",
    "sns.distplot(data['saturated_ fat_ per_gram'],hist=False, kde=True,kde_kws={'color':'limegreen','shade':True}, label={'Skew':data['saturated_ fat_ per_gram'].skew(),'Kurtosis':data['saturated_ fat_ per_gram'].kurt()});\n",
    "plt.legend();"
   ]
  },
  {
   "cell_type": "markdown",
   "id": "bd7bcf3c",
   "metadata": {
    "heading_collapsed": true
   },
   "source": [
    "### SUMMARY POINTS ON DENSITY PLOT ON SATURATED FAT PER GRAM"
   ]
  },
  {
   "cell_type": "markdown",
   "id": "3774f39f",
   "metadata": {
    "hidden": true
   },
   "source": [
    "1. The distribution plot is right skewed and high kurtosis\n",
    "2. saturated_ fat_ per_gram from 0.2 to 0.5 indicator of the outliers"
   ]
  },
  {
   "cell_type": "markdown",
   "id": "25b800d4",
   "metadata": {
    "heading_collapsed": true
   },
   "source": [
    "### CREATE DENSITY PLOT ON SATURATED FAT PER GRAM AFTER REMOVING AN OUTLIERS"
   ]
  },
  {
   "cell_type": "code",
   "execution_count": 20,
   "id": "109bbd4d",
   "metadata": {
    "hidden": true
   },
   "outputs": [
    {
     "data": {
      "image/png": "[encoded data removed]",
      "text/plain": [
       "<Figure size 1152x432 with 1 Axes>"
      ]
     },
     "metadata": {},
     "output_type": "display_data"
    }
   ],
   "source": [
    "plt.figure(figsize=(16,6))\n",
    "sns.distplot(data['saturated_ fat_ per_gram'][data['saturated_ fat_ per_gram']<0.12],\n",
    "             hist=False, \n",
    "             kde=True,\n",
    "             kde_kws={'color':'limegreen','shade':True}, \n",
    "             label={'Skew':data['saturated_ fat_ per_gram'][data['saturated_ fat_ per_gram']<0.12].skew(),\n",
    "                    'Kurtosis':data['saturated_ fat_ per_gram'][data['saturated_ fat_ per_gram']<0.12].kurt()});\n",
    "plt.legend();"
   ]
  }
 ],
 "metadata": {
  "kernelspec": {
   "display_name": "Python 3 (ipykernel)",
   "language": "python",
   "name": "python3"
  },
  "language_info": {
   "codemirror_mode": {
    "name": "ipython",
    "version": 3
   },
   "file_extension": ".py",
   "mimetype": "text/x-python",
   "name": "python",
   "nbconvert_exporter": "python",
   "pygments_lexer": "ipython3",
   "version": "3.9.7"
  },
  "toc": {
   "base_numbering": 1,
   "nav_menu": {},
   "number_sections": true,
   "sideBar": true,
   "skip_h1_title": false,
   "title_cell": "Table of Contents",
   "title_sidebar": "Contents",
   "toc_cell": false,
   "toc_position": {},
   "toc_section_display": true,
   "toc_window_display": false
  },
  "varInspector": {
   "cols": {
    "lenName": 16,
    "lenType": 16,
    "lenVar": 40
   },
   "kernels_config": {
    "python": {
     "delete_cmd_postfix": "",
     "delete_cmd_prefix": "del ",
     "library": "var_list.py",
     "varRefreshCmd": "print(var_dic_list())"
    },
    "r": {
     "delete_cmd_postfix": ") ",
     "delete_cmd_prefix": "rm(",
     "library": "var_list.r",
     "varRefreshCmd": "cat(var_dic_list()) "
    }
   },
   "types_to_exclude": [
    "module",
    "function",
    "builtin_function_or_method",
    "instance",
    "_Feature"
   ],
   "window_display": false
  }
 },
 "nbformat": 4,
 "nbformat_minor": 5
}
