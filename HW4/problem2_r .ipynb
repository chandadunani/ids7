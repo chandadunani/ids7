{
 "cells": [
  {
   "cell_type": "markdown",
   "id": "335bbe63",
   "metadata": {},
   "source": [
    "Problem 2 (Python)\n",
    "\n",
    "- Use the following nutrition dataset: https://github.com/bforoura/IDS/blob/main/HW4/nutrition_subset.csv (Links to an external site.)\n",
    "- The elements in the data set are food items of various sizes, ranging from a teaspoon of cinnamon to an entire carrot cake.\n",
    "- Sort the data set by saturated_ fat and produce a listing of the five food items highest in saturated fat. Comment on the validity of comparing food items of different sizes.\n",
    "- Create a new variable, saturated_ fat_ per_gram, by dividing the amount of saturated fat by the weight in grams.  Sort the data set by saturated_ fat_ per_gram and produce a listing of the five food items highest in saturated fat per gram. Which food has the most saturated fat per gram?\n",
    "- Standardize (zero mean) the field saturated_ fat_ per_gram, and produce a listing of all the food items that are outliers at the high end of the scale. How many food items are outliers at the low end of the scale? Create a density plot for saturated_ fat_ per_gram."
   ]
  },
  {
   "cell_type": "markdown",
   "id": "48e4fbfb",
   "metadata": {
    "heading_collapsed": true
   },
   "source": [
    "# LOADING LIBRARIES"
   ]
  },
  {
   "cell_type": "code",
   "execution_count": 3,
   "id": "3584310d",
   "metadata": {
    "hidden": true
   },
   "outputs": [
    {
     "ename": "NameError",
     "evalue": "name 'library' is not defined",
     "output_type": "error",
     "traceback": [
      "\u001b[1;31m---------------------------------------------------------------------------\u001b[0m",
      "\u001b[1;31mNameError\u001b[0m                                 Traceback (most recent call last)",
      "\u001b[1;32m~\\AppData\\Local\\Temp/ipykernel_33368/1674752883.py\u001b[0m in \u001b[0;36m<module>\u001b[1;34m\u001b[0m\n\u001b[0;32m      1\u001b[0m \u001b[1;31m# Importing library\u001b[0m\u001b[1;33m\u001b[0m\u001b[1;33m\u001b[0m\u001b[0m\n\u001b[1;32m----> 2\u001b[1;33m \u001b[0mlibrary\u001b[0m\u001b[1;33m(\u001b[0m\u001b[0mggplot2\u001b[0m\u001b[1;33m)\u001b[0m\u001b[1;33m\u001b[0m\u001b[1;33m\u001b[0m\u001b[0m\n\u001b[0m\u001b[0;32m      3\u001b[0m \u001b[0minstall\u001b[0m\u001b[1;33m.\u001b[0m\u001b[0mpackages\u001b[0m\u001b[1;33m(\u001b[0m\u001b[1;34m'moments'\u001b[0m\u001b[1;33m)\u001b[0m\u001b[1;33m\u001b[0m\u001b[1;33m\u001b[0m\u001b[0m\n\u001b[0;32m      4\u001b[0m \u001b[0mlibrary\u001b[0m\u001b[1;33m(\u001b[0m\u001b[0mmoments\u001b[0m\u001b[1;33m)\u001b[0m\u001b[1;33m\u001b[0m\u001b[1;33m\u001b[0m\u001b[0m\n",
      "\u001b[1;31mNameError\u001b[0m: name 'library' is not defined"
     ]
    }
   ],
   "source": [
    "# Importing library\n",
    "library(ggplot2)\n",
    "install.packages('moments')\n",
    "library(moments)"
   ]
  },
  {
   "cell_type": "markdown",
   "id": "50f65f3f",
   "metadata": {
    "heading_collapsed": true
   },
   "source": [
    "# LOADING DATA"
   ]
  },
  {
   "cell_type": "code",
   "execution_count": 2,
   "id": "5cb6f9e6",
   "metadata": {
    "hidden": true
   },
   "outputs": [
    {
     "ename": "NameError",
     "evalue": "name 'data' is not defined",
     "output_type": "error",
     "traceback": [
      "\u001b[1;31m---------------------------------------------------------------------------\u001b[0m",
      "\u001b[1;31mNameError\u001b[0m                                 Traceback (most recent call last)",
      "\u001b[1;32m~\\AppData\\Local\\Temp/ipykernel_33368/4177081265.py\u001b[0m in \u001b[0;36m<module>\u001b[1;34m\u001b[0m\n\u001b[0;32m      1\u001b[0m \u001b[1;31m#Loading data\u001b[0m\u001b[1;33m\u001b[0m\u001b[1;33m\u001b[0m\u001b[0m\n\u001b[1;32m----> 2\u001b[1;33m \u001b[0mdata\u001b[0m \u001b[1;33m<\u001b[0m\u001b[1;33m-\u001b[0m \u001b[0mread\u001b[0m\u001b[1;33m.\u001b[0m\u001b[0mcsv\u001b[0m\u001b[1;33m(\u001b[0m\u001b[1;34m'https://raw.githubusercontent.com/bforoura/IDS/main/HW4/nutrition_subset.csv'\u001b[0m\u001b[1;33m)\u001b[0m\u001b[1;33m\u001b[0m\u001b[1;33m\u001b[0m\u001b[0m\n\u001b[0m",
      "\u001b[1;31mNameError\u001b[0m: name 'data' is not defined"
     ]
    }
   ],
   "source": [
    "#Loading data\n",
    "data <- read.csv('https://raw.githubusercontent.com/bforoura/IDS/main/HW4/nutrition_subset.csv')"
   ]
  },
  {
   "cell_type": "code",
   "execution_count": 80,
   "id": "886644d0",
   "metadata": {
    "hidden": true
   },
   "outputs": [
    {
     "data": {
      "text/html": [
       "<style>\n",
       ".list-inline {list-style: none; margin:0; padding: 0}\n",
       ".list-inline>li {display: inline-block}\n",
       ".list-inline>li:not(:last-child)::after {content: \"\\00b7\"; padding: 0 .5ex}\n",
       "</style>\n",
       "<ol class=list-inline><li>961</li><li>4</li></ol>\n"
      ],
      "text/latex": [
       "\\begin{enumerate*}\n",
       "\\item 961\n",
       "\\item 4\n",
       "\\end{enumerate*}\n"
      ],
      "text/markdown": [
       "1. 961\n",
       "2. 4\n",
       "\n",
       "\n"
      ],
      "text/plain": [
       "[1] 961   4"
      ]
     },
     "metadata": {},
     "output_type": "display_data"
    }
   ],
   "source": [
    "#Data shape\n",
    "dim(data)"
   ]
  },
  {
   "cell_type": "code",
   "execution_count": 81,
   "id": "bb606e0e",
   "metadata": {
    "hidden": true
   },
   "outputs": [
    {
     "data": {
      "text/html": [
       "<table class=\"dataframe\">\n",
       "<caption>A data.frame: 6 × 4</caption>\n",
       "<thead>\n",
       "\t<tr><th></th><th scope=col>food.item</th><th scope=col>weight_in_grams</th><th scope=col>saturated_fat</th><th scope=col>cholesterol</th></tr>\n",
       "\t<tr><th></th><th scope=col>&lt;chr&gt;</th><th scope=col>&lt;dbl&gt;</th><th scope=col>&lt;dbl&gt;</th><th scope=col>&lt;int&gt;</th></tr>\n",
       "</thead>\n",
       "<tbody>\n",
       "\t<tr><th scope=row>1</th><td>GELATIN; DRY                  1 ENVELP</td><td>  7.00</td><td> 0.0</td><td> 0</td></tr>\n",
       "\t<tr><th scope=row>2</th><td>SEAWEED; SPIRULINA; DRIED     1 OZ    </td><td> 28.35</td><td> 0.8</td><td> 0</td></tr>\n",
       "\t<tr><th scope=row>3</th><td>YEAST; BAKERS; DRY; ACTIVE    1 PKG   </td><td>  7.00</td><td> 0.0</td><td> 0</td></tr>\n",
       "\t<tr><th scope=row>4</th><td>PARMESAN CHEESE; GRATED       1 OZ    </td><td> 28.35</td><td> 5.4</td><td>22</td></tr>\n",
       "\t<tr><th scope=row>5</th><td>PARMESAN CHEESE; GRATED       1 CUP   </td><td>100.00</td><td>19.1</td><td>79</td></tr>\n",
       "\t<tr><th scope=row>6</th><td>PARMESAN CHEESE; GRATED       1 TBSP  </td><td>  5.00</td><td> 1.0</td><td> 4</td></tr>\n",
       "</tbody>\n",
       "</table>\n"
      ],
      "text/latex": [
       "A data.frame: 6 × 4\n",
       "\\begin{tabular}{r|llll}\n",
       "  & food.item & weight\\_in\\_grams & saturated\\_fat & cholesterol\\\\\n",
       "  & <chr> & <dbl> & <dbl> & <int>\\\\\n",
       "\\hline\n",
       "\t1 & GELATIN; DRY                  1 ENVELP &   7.00 &  0.0 &  0\\\\\n",
       "\t2 & SEAWEED; SPIRULINA; DRIED     1 OZ     &  28.35 &  0.8 &  0\\\\\n",
       "\t3 & YEAST; BAKERS; DRY; ACTIVE    1 PKG    &   7.00 &  0.0 &  0\\\\\n",
       "\t4 & PARMESAN CHEESE; GRATED       1 OZ     &  28.35 &  5.4 & 22\\\\\n",
       "\t5 & PARMESAN CHEESE; GRATED       1 CUP    & 100.00 & 19.1 & 79\\\\\n",
       "\t6 & PARMESAN CHEESE; GRATED       1 TBSP   &   5.00 &  1.0 &  4\\\\\n",
       "\\end{tabular}\n"
      ],
      "text/markdown": [
       "\n",
       "A data.frame: 6 × 4\n",
       "\n",
       "| <!--/--> | food.item &lt;chr&gt; | weight_in_grams &lt;dbl&gt; | saturated_fat &lt;dbl&gt; | cholesterol &lt;int&gt; |\n",
       "|---|---|---|---|---|\n",
       "| 1 | GELATIN; DRY                  1 ENVELP |   7.00 |  0.0 |  0 |\n",
       "| 2 | SEAWEED; SPIRULINA; DRIED     1 OZ     |  28.35 |  0.8 |  0 |\n",
       "| 3 | YEAST; BAKERS; DRY; ACTIVE    1 PKG    |   7.00 |  0.0 |  0 |\n",
       "| 4 | PARMESAN CHEESE; GRATED       1 OZ     |  28.35 |  5.4 | 22 |\n",
       "| 5 | PARMESAN CHEESE; GRATED       1 CUP    | 100.00 | 19.1 | 79 |\n",
       "| 6 | PARMESAN CHEESE; GRATED       1 TBSP   |   5.00 |  1.0 |  4 |\n",
       "\n"
      ],
      "text/plain": [
       "  food.item                              weight_in_grams saturated_fat\n",
       "1 GELATIN; DRY                  1 ENVELP   7.00           0.0         \n",
       "2 SEAWEED; SPIRULINA; DRIED     1 OZ      28.35           0.8         \n",
       "3 YEAST; BAKERS; DRY; ACTIVE    1 PKG      7.00           0.0         \n",
       "4 PARMESAN CHEESE; GRATED       1 OZ      28.35           5.4         \n",
       "5 PARMESAN CHEESE; GRATED       1 CUP    100.00          19.1         \n",
       "6 PARMESAN CHEESE; GRATED       1 TBSP     5.00           1.0         \n",
       "  cholesterol\n",
       "1  0         \n",
       "2  0         \n",
       "3  0         \n",
       "4 22         \n",
       "5 79         \n",
       "6  4         "
      ]
     },
     "metadata": {},
     "output_type": "display_data"
    }
   ],
   "source": [
    "#Data glimps\n",
    "head(data)"
   ]
  },
  {
   "cell_type": "code",
   "execution_count": 82,
   "id": "fec04c22",
   "metadata": {
    "hidden": true
   },
   "outputs": [
    {
     "data": {
      "text/html": [
       "<style>\n",
       ".dl-inline {width: auto; margin:0; padding: 0}\n",
       ".dl-inline>dt, .dl-inline>dd {float: none; width: auto; display: inline-block}\n",
       ".dl-inline>dt::after {content: \":\\0020\"; padding-right: .5ex}\n",
       ".dl-inline>dt:not(:first-of-type) {padding-left: .5ex}\n",
       "</style><dl class=dl-inline><dt>food.item</dt><dd>'character'</dd><dt>weight_in_grams</dt><dd>'numeric'</dd><dt>saturated_fat</dt><dd>'numeric'</dd><dt>cholesterol</dt><dd>'integer'</dd></dl>\n"
      ],
      "text/latex": [
       "\\begin{description*}\n",
       "\\item[food.item] 'character'\n",
       "\\item[weight\\textbackslash{}\\_in\\textbackslash{}\\_grams] 'numeric'\n",
       "\\item[saturated\\textbackslash{}\\_fat] 'numeric'\n",
       "\\item[cholesterol] 'integer'\n",
       "\\end{description*}\n"
      ],
      "text/markdown": [
       "food.item\n",
       ":   'character'weight_in_grams\n",
       ":   'numeric'saturated_fat\n",
       ":   'numeric'cholesterol\n",
       ":   'integer'\n",
       "\n"
      ],
      "text/plain": [
       "      food.item weight_in_grams   saturated_fat     cholesterol \n",
       "    \"character\"       \"numeric\"       \"numeric\"       \"integer\" "
      ]
     },
     "metadata": {},
     "output_type": "display_data"
    }
   ],
   "source": [
    "#Data type\n",
    "sapply(data, class)"
   ]
  },
  {
   "cell_type": "code",
   "execution_count": 83,
   "id": "53a163db",
   "metadata": {
    "hidden": true
   },
   "outputs": [
    {
     "data": {
      "text/html": [
       "0"
      ],
      "text/latex": [
       "0"
      ],
      "text/markdown": [
       "0"
      ],
      "text/plain": [
       "[1] 0"
      ]
     },
     "metadata": {},
     "output_type": "display_data"
    }
   ],
   "source": [
    "#Checking missing values\n",
    "sum(is.na(data))"
   ]
  },
  {
   "cell_type": "markdown",
   "id": "d0b9a3cd",
   "metadata": {},
   "source": [
    "# SORT THE DATA SET BY SATURATED_ FAT AND PRODUCE A LISTING OF THE FIVE FOOD ITEMS HIGHEST IN SATURATED FAT. COMMENT ON THE VALIDITY OF COMPARING FOOD ITEMS OF DIFFERENT SIZES.\n"
   ]
  },
  {
   "cell_type": "markdown",
   "id": "1450063d",
   "metadata": {
    "heading_collapsed": true
   },
   "source": [
    "### SORT DATA BY SATURATED FAT"
   ]
  },
  {
   "cell_type": "code",
   "execution_count": 84,
   "id": "f3f433d8",
   "metadata": {
    "hidden": true
   },
   "outputs": [
    {
     "data": {
      "text/html": [
       "<table class=\"dataframe\">\n",
       "<caption>A data.frame: 6 × 4</caption>\n",
       "<thead>\n",
       "\t<tr><th></th><th scope=col>food.item</th><th scope=col>weight_in_grams</th><th scope=col>saturated_fat</th><th scope=col>cholesterol</th></tr>\n",
       "\t<tr><th></th><th scope=col>&lt;chr&gt;</th><th scope=col>&lt;dbl&gt;</th><th scope=col>&lt;dbl&gt;</th><th scope=col>&lt;int&gt;</th></tr>\n",
       "</thead>\n",
       "<tbody>\n",
       "\t<tr><th scope=row>379</th><td>CHEESECAKE                    1 CAKE  </td><td>1110</td><td>119.9</td><td>2053</td></tr>\n",
       "\t<tr><th scope=row>536</th><td>ICE CREAM; VANLLA; RICH 16% FT1/2 GAL </td><td>1188</td><td>118.3</td><td> 703</td></tr>\n",
       "\t<tr><th scope=row>459</th><td>YELLOWCAKE W/ CHOCFRSTNG;COMML1 CAKE  </td><td>1108</td><td> 92.0</td><td> 609</td></tr>\n",
       "\t<tr><th scope=row>582</th><td>CREME PIE                     1 PIE   </td><td> 910</td><td> 90.1</td><td>  46</td></tr>\n",
       "\t<tr><th scope=row>891</th><td>LARD                          1 CUP   </td><td> 205</td><td> 80.4</td><td> 195</td></tr>\n",
       "\t<tr><th scope=row>467</th><td>ICE CREAM; VANLLA; REGULR 11% 1/2 GALN</td><td>1064</td><td> 71.3</td><td> 476</td></tr>\n",
       "</tbody>\n",
       "</table>\n"
      ],
      "text/latex": [
       "A data.frame: 6 × 4\n",
       "\\begin{tabular}{r|llll}\n",
       "  & food.item & weight\\_in\\_grams & saturated\\_fat & cholesterol\\\\\n",
       "  & <chr> & <dbl> & <dbl> & <int>\\\\\n",
       "\\hline\n",
       "\t379 & CHEESECAKE                    1 CAKE   & 1110 & 119.9 & 2053\\\\\n",
       "\t536 & ICE CREAM; VANLLA; RICH 16\\% FT1/2 GAL  & 1188 & 118.3 &  703\\\\\n",
       "\t459 & YELLOWCAKE W/ CHOCFRSTNG;COMML1 CAKE   & 1108 &  92.0 &  609\\\\\n",
       "\t582 & CREME PIE                     1 PIE    &  910 &  90.1 &   46\\\\\n",
       "\t891 & LARD                          1 CUP    &  205 &  80.4 &  195\\\\\n",
       "\t467 & ICE CREAM; VANLLA; REGULR 11\\% 1/2 GALN & 1064 &  71.3 &  476\\\\\n",
       "\\end{tabular}\n"
      ],
      "text/markdown": [
       "\n",
       "A data.frame: 6 × 4\n",
       "\n",
       "| <!--/--> | food.item &lt;chr&gt; | weight_in_grams &lt;dbl&gt; | saturated_fat &lt;dbl&gt; | cholesterol &lt;int&gt; |\n",
       "|---|---|---|---|---|\n",
       "| 379 | CHEESECAKE                    1 CAKE   | 1110 | 119.9 | 2053 |\n",
       "| 536 | ICE CREAM; VANLLA; RICH 16% FT1/2 GAL  | 1188 | 118.3 |  703 |\n",
       "| 459 | YELLOWCAKE W/ CHOCFRSTNG;COMML1 CAKE   | 1108 |  92.0 |  609 |\n",
       "| 582 | CREME PIE                     1 PIE    |  910 |  90.1 |   46 |\n",
       "| 891 | LARD                          1 CUP    |  205 |  80.4 |  195 |\n",
       "| 467 | ICE CREAM; VANLLA; REGULR 11% 1/2 GALN | 1064 |  71.3 |  476 |\n",
       "\n"
      ],
      "text/plain": [
       "    food.item                              weight_in_grams saturated_fat\n",
       "379 CHEESECAKE                    1 CAKE   1110            119.9        \n",
       "536 ICE CREAM; VANLLA; RICH 16% FT1/2 GAL  1188            118.3        \n",
       "459 YELLOWCAKE W/ CHOCFRSTNG;COMML1 CAKE   1108             92.0        \n",
       "582 CREME PIE                     1 PIE     910             90.1        \n",
       "891 LARD                          1 CUP     205             80.4        \n",
       "467 ICE CREAM; VANLLA; REGULR 11% 1/2 GALN 1064             71.3        \n",
       "    cholesterol\n",
       "379 2053       \n",
       "536  703       \n",
       "459  609       \n",
       "582   46       \n",
       "891  195       \n",
       "467  476       "
      ]
     },
     "metadata": {},
     "output_type": "display_data"
    }
   ],
   "source": [
    "#Sorting saturated fat feature\n",
    "data <- data[order(data$saturated_fat, decreasing=T),]\n",
    "head(data)"
   ]
  },
  {
   "cell_type": "markdown",
   "id": "e1cbaf7b",
   "metadata": {
    "heading_collapsed": true
   },
   "source": [
    "### LIST FIVE ITEMS HAVE HIGH SATURATED FAT"
   ]
  },
  {
   "cell_type": "code",
   "execution_count": 86,
   "id": "83e837af",
   "metadata": {
    "hidden": true
   },
   "outputs": [
    {
     "data": {
      "text/html": [
       "<style>\n",
       ".list-inline {list-style: none; margin:0; padding: 0}\n",
       ".list-inline>li {display: inline-block}\n",
       ".list-inline>li:not(:last-child)::after {content: \"\\00b7\"; padding: 0 .5ex}\n",
       "</style>\n",
       "<ol class=list-inline><li><span style=white-space:pre-wrap>'CHEESECAKE                    1 CAKE  '</span></li><li>'ICE CREAM; VANLLA; RICH 16% FT1/2 GAL '</li><li><span style=white-space:pre-wrap>'YELLOWCAKE W/ CHOCFRSTNG;COMML1 CAKE  '</span></li><li><span style=white-space:pre-wrap>'CREME PIE                     1 PIE   '</span></li><li><span style=white-space:pre-wrap>'LARD                          1 CUP   '</span></li></ol>\n"
      ],
      "text/latex": [
       "\\begin{enumerate*}\n",
       "\\item 'CHEESECAKE                    1 CAKE  '\n",
       "\\item 'ICE CREAM; VANLLA; RICH 16\\% FT1/2 GAL '\n",
       "\\item 'YELLOWCAKE W/ CHOCFRSTNG;COMML1 CAKE  '\n",
       "\\item 'CREME PIE                     1 PIE   '\n",
       "\\item 'LARD                          1 CUP   '\n",
       "\\end{enumerate*}\n"
      ],
      "text/markdown": [
       "1. <span style=white-space:pre-wrap>'CHEESECAKE                    1 CAKE  '</span>\n",
       "2. 'ICE CREAM; VANLLA; RICH 16% FT1/2 GAL '\n",
       "3. <span style=white-space:pre-wrap>'YELLOWCAKE W/ CHOCFRSTNG;COMML1 CAKE  '</span>\n",
       "4. <span style=white-space:pre-wrap>'CREME PIE                     1 PIE   '</span>\n",
       "5. <span style=white-space:pre-wrap>'LARD                          1 CUP   '</span>\n",
       "\n",
       "\n"
      ],
      "text/plain": [
       "[1] \"CHEESECAKE                    1 CAKE  \"\n",
       "[2] \"ICE CREAM; VANLLA; RICH 16% FT1/2 GAL \"\n",
       "[3] \"YELLOWCAKE W/ CHOCFRSTNG;COMML1 CAKE  \"\n",
       "[4] \"CREME PIE                     1 PIE   \"\n",
       "[5] \"LARD                          1 CUP   \""
      ]
     },
     "metadata": {},
     "output_type": "display_data"
    }
   ],
   "source": [
    "#Top five foot items have high saturated fat\n",
    "head(data$food.item)[0:5]"
   ]
  },
  {
   "cell_type": "markdown",
   "id": "2670be79",
   "metadata": {
    "heading_collapsed": true
   },
   "source": [
    "### COMMENT ON THE VALIDITY OF COMPARING FOOD ITEMS OF DIFFERENT SIZES"
   ]
  },
  {
   "cell_type": "markdown",
   "id": "ad4630c4",
   "metadata": {
    "hidden": true
   },
   "source": [
    "- Cheesecake, Icecream-vanilla-rich, Yellowcake-chocofrosting have saturated_fat 119.9, 118.3 & 92.0 respectively but wieght of that food items are more than 1 kg which is a big size food items\n",
    "- Creme pie have a saturated_fat 90.1 and the weight of that food item is 910 gram which is also a more than medium size food item\n",
    "- Lard 1 cup have a saturated fat 80.4 but the size of the 1 cup lard is 200 gram which is a small size of food item\n",
    "- We can conclude that 1 cup lard have weight of 200 gram but it contains high amount of saturated_fat due to it is a semi-solid white fat product"
   ]
  },
  {
   "cell_type": "markdown",
   "id": "5ec33183",
   "metadata": {},
   "source": [
    "# CREATE A NEW VARIABLE, SATURATED_ FAT_ PER_GRAM, BY DIVIDING THE AMOUNT OF SATURATED FAT BY THE WEIGHT IN GRAMS. SORT THE DATA SET BY SATURATED_ FAT_ PER_GRAM AND PRODUCE A LISTING OF THE FIVE FOOD ITEMS HIGHEST IN SATURATED FAT PER GRAM. WHICH FOOD HAS THE MOST SATURATED FAT PER GRAM?"
   ]
  },
  {
   "cell_type": "markdown",
   "id": "86fcf3e7",
   "metadata": {
    "heading_collapsed": true
   },
   "source": [
    "### CREATING NEW VARIABLE: SATURATED FAT PER GRAM"
   ]
  },
  {
   "cell_type": "code",
   "execution_count": 87,
   "id": "b95ba141",
   "metadata": {
    "hidden": true
   },
   "outputs": [
    {
     "data": {
      "text/html": [
       "<table class=\"dataframe\">\n",
       "<caption>A data.frame: 6 × 5</caption>\n",
       "<thead>\n",
       "\t<tr><th></th><th scope=col>food.item</th><th scope=col>weight_in_grams</th><th scope=col>saturated_fat</th><th scope=col>cholesterol</th><th scope=col>saturated.fat.per.gram</th></tr>\n",
       "\t<tr><th></th><th scope=col>&lt;chr&gt;</th><th scope=col>&lt;dbl&gt;</th><th scope=col>&lt;dbl&gt;</th><th scope=col>&lt;int&gt;</th><th scope=col>&lt;dbl&gt;</th></tr>\n",
       "</thead>\n",
       "<tbody>\n",
       "\t<tr><th scope=row>379</th><td>CHEESECAKE                    1 CAKE  </td><td>1110</td><td>119.9</td><td>2053</td><td>0.10801802</td></tr>\n",
       "\t<tr><th scope=row>536</th><td>ICE CREAM; VANLLA; RICH 16% FT1/2 GAL </td><td>1188</td><td>118.3</td><td> 703</td><td>0.09957912</td></tr>\n",
       "\t<tr><th scope=row>459</th><td>YELLOWCAKE W/ CHOCFRSTNG;COMML1 CAKE  </td><td>1108</td><td> 92.0</td><td> 609</td><td>0.08303249</td></tr>\n",
       "\t<tr><th scope=row>582</th><td>CREME PIE                     1 PIE   </td><td> 910</td><td> 90.1</td><td>  46</td><td>0.09901099</td></tr>\n",
       "\t<tr><th scope=row>891</th><td>LARD                          1 CUP   </td><td> 205</td><td> 80.4</td><td> 195</td><td>0.39219512</td></tr>\n",
       "\t<tr><th scope=row>467</th><td>ICE CREAM; VANLLA; REGULR 11% 1/2 GALN</td><td>1064</td><td> 71.3</td><td> 476</td><td>0.06701128</td></tr>\n",
       "</tbody>\n",
       "</table>\n"
      ],
      "text/latex": [
       "A data.frame: 6 × 5\n",
       "\\begin{tabular}{r|lllll}\n",
       "  & food.item & weight\\_in\\_grams & saturated\\_fat & cholesterol & saturated.fat.per.gram\\\\\n",
       "  & <chr> & <dbl> & <dbl> & <int> & <dbl>\\\\\n",
       "\\hline\n",
       "\t379 & CHEESECAKE                    1 CAKE   & 1110 & 119.9 & 2053 & 0.10801802\\\\\n",
       "\t536 & ICE CREAM; VANLLA; RICH 16\\% FT1/2 GAL  & 1188 & 118.3 &  703 & 0.09957912\\\\\n",
       "\t459 & YELLOWCAKE W/ CHOCFRSTNG;COMML1 CAKE   & 1108 &  92.0 &  609 & 0.08303249\\\\\n",
       "\t582 & CREME PIE                     1 PIE    &  910 &  90.1 &   46 & 0.09901099\\\\\n",
       "\t891 & LARD                          1 CUP    &  205 &  80.4 &  195 & 0.39219512\\\\\n",
       "\t467 & ICE CREAM; VANLLA; REGULR 11\\% 1/2 GALN & 1064 &  71.3 &  476 & 0.06701128\\\\\n",
       "\\end{tabular}\n"
      ],
      "text/markdown": [
       "\n",
       "A data.frame: 6 × 5\n",
       "\n",
       "| <!--/--> | food.item &lt;chr&gt; | weight_in_grams &lt;dbl&gt; | saturated_fat &lt;dbl&gt; | cholesterol &lt;int&gt; | saturated.fat.per.gram &lt;dbl&gt; |\n",
       "|---|---|---|---|---|---|\n",
       "| 379 | CHEESECAKE                    1 CAKE   | 1110 | 119.9 | 2053 | 0.10801802 |\n",
       "| 536 | ICE CREAM; VANLLA; RICH 16% FT1/2 GAL  | 1188 | 118.3 |  703 | 0.09957912 |\n",
       "| 459 | YELLOWCAKE W/ CHOCFRSTNG;COMML1 CAKE   | 1108 |  92.0 |  609 | 0.08303249 |\n",
       "| 582 | CREME PIE                     1 PIE    |  910 |  90.1 |   46 | 0.09901099 |\n",
       "| 891 | LARD                          1 CUP    |  205 |  80.4 |  195 | 0.39219512 |\n",
       "| 467 | ICE CREAM; VANLLA; REGULR 11% 1/2 GALN | 1064 |  71.3 |  476 | 0.06701128 |\n",
       "\n"
      ],
      "text/plain": [
       "    food.item                              weight_in_grams saturated_fat\n",
       "379 CHEESECAKE                    1 CAKE   1110            119.9        \n",
       "536 ICE CREAM; VANLLA; RICH 16% FT1/2 GAL  1188            118.3        \n",
       "459 YELLOWCAKE W/ CHOCFRSTNG;COMML1 CAKE   1108             92.0        \n",
       "582 CREME PIE                     1 PIE     910             90.1        \n",
       "891 LARD                          1 CUP     205             80.4        \n",
       "467 ICE CREAM; VANLLA; REGULR 11% 1/2 GALN 1064             71.3        \n",
       "    cholesterol saturated.fat.per.gram\n",
       "379 2053        0.10801802            \n",
       "536  703        0.09957912            \n",
       "459  609        0.08303249            \n",
       "582   46        0.09901099            \n",
       "891  195        0.39219512            \n",
       "467  476        0.06701128            "
      ]
     },
     "metadata": {},
     "output_type": "display_data"
    }
   ],
   "source": [
    "#Creating new feature saturated fate per gram\n",
    "data$saturated.fat.per.gram <- data$saturated_fat/data$weight_in_grams\n",
    "head(data)"
   ]
  },
  {
   "cell_type": "markdown",
   "id": "aa17b79a",
   "metadata": {
    "heading_collapsed": true
   },
   "source": [
    "### SORT DATA BY SATURATED FAT PER GRAM"
   ]
  },
  {
   "cell_type": "code",
   "execution_count": 88,
   "id": "f35907f3",
   "metadata": {
    "hidden": true
   },
   "outputs": [
    {
     "data": {
      "text/html": [
       "<table class=\"dataframe\">\n",
       "<caption>A data.frame: 6 × 5</caption>\n",
       "<thead>\n",
       "\t<tr><th></th><th scope=col>food.item</th><th scope=col>weight_in_grams</th><th scope=col>saturated_fat</th><th scope=col>cholesterol</th><th scope=col>saturated.fat.per.gram</th></tr>\n",
       "\t<tr><th></th><th scope=col>&lt;chr&gt;</th><th scope=col>&lt;dbl&gt;</th><th scope=col>&lt;dbl&gt;</th><th scope=col>&lt;int&gt;</th><th scope=col>&lt;dbl&gt;</th></tr>\n",
       "</thead>\n",
       "<tbody>\n",
       "\t<tr><th scope=row>909</th><td>BUTTER; SALTED                1 TBSP  </td><td> 14</td><td> 7.1</td><td> 31</td><td>0.5071429</td></tr>\n",
       "\t<tr><th scope=row>910</th><td>BUTTER; UNSALTED              1 TBSP  </td><td> 14</td><td> 7.1</td><td> 31</td><td>0.5071429</td></tr>\n",
       "\t<tr><th scope=row>710</th><td>BUTTER; SALTED                1/2 CUP </td><td>113</td><td>57.1</td><td>247</td><td>0.5053097</td></tr>\n",
       "\t<tr><th scope=row>711</th><td>BUTTER; UNSALTED              1/2 CUP </td><td>113</td><td>57.1</td><td>247</td><td>0.5053097</td></tr>\n",
       "\t<tr><th scope=row>913</th><td>BUTTER; SALTED                1 PAT   </td><td>  5</td><td> 2.5</td><td> 11</td><td>0.5000000</td></tr>\n",
       "\t<tr><th scope=row>914</th><td>BUTTER; UNSALTED              1 PAT   </td><td>  5</td><td> 2.5</td><td> 11</td><td>0.5000000</td></tr>\n",
       "</tbody>\n",
       "</table>\n"
      ],
      "text/latex": [
       "A data.frame: 6 × 5\n",
       "\\begin{tabular}{r|lllll}\n",
       "  & food.item & weight\\_in\\_grams & saturated\\_fat & cholesterol & saturated.fat.per.gram\\\\\n",
       "  & <chr> & <dbl> & <dbl> & <int> & <dbl>\\\\\n",
       "\\hline\n",
       "\t909 & BUTTER; SALTED                1 TBSP   &  14 &  7.1 &  31 & 0.5071429\\\\\n",
       "\t910 & BUTTER; UNSALTED              1 TBSP   &  14 &  7.1 &  31 & 0.5071429\\\\\n",
       "\t710 & BUTTER; SALTED                1/2 CUP  & 113 & 57.1 & 247 & 0.5053097\\\\\n",
       "\t711 & BUTTER; UNSALTED              1/2 CUP  & 113 & 57.1 & 247 & 0.5053097\\\\\n",
       "\t913 & BUTTER; SALTED                1 PAT    &   5 &  2.5 &  11 & 0.5000000\\\\\n",
       "\t914 & BUTTER; UNSALTED              1 PAT    &   5 &  2.5 &  11 & 0.5000000\\\\\n",
       "\\end{tabular}\n"
      ],
      "text/markdown": [
       "\n",
       "A data.frame: 6 × 5\n",
       "\n",
       "| <!--/--> | food.item &lt;chr&gt; | weight_in_grams &lt;dbl&gt; | saturated_fat &lt;dbl&gt; | cholesterol &lt;int&gt; | saturated.fat.per.gram &lt;dbl&gt; |\n",
       "|---|---|---|---|---|---|\n",
       "| 909 | BUTTER; SALTED                1 TBSP   |  14 |  7.1 |  31 | 0.5071429 |\n",
       "| 910 | BUTTER; UNSALTED              1 TBSP   |  14 |  7.1 |  31 | 0.5071429 |\n",
       "| 710 | BUTTER; SALTED                1/2 CUP  | 113 | 57.1 | 247 | 0.5053097 |\n",
       "| 711 | BUTTER; UNSALTED              1/2 CUP  | 113 | 57.1 | 247 | 0.5053097 |\n",
       "| 913 | BUTTER; SALTED                1 PAT    |   5 |  2.5 |  11 | 0.5000000 |\n",
       "| 914 | BUTTER; UNSALTED              1 PAT    |   5 |  2.5 |  11 | 0.5000000 |\n",
       "\n"
      ],
      "text/plain": [
       "    food.item                              weight_in_grams saturated_fat\n",
       "909 BUTTER; SALTED                1 TBSP    14              7.1         \n",
       "910 BUTTER; UNSALTED              1 TBSP    14              7.1         \n",
       "710 BUTTER; SALTED                1/2 CUP  113             57.1         \n",
       "711 BUTTER; UNSALTED              1/2 CUP  113             57.1         \n",
       "913 BUTTER; SALTED                1 PAT      5              2.5         \n",
       "914 BUTTER; UNSALTED              1 PAT      5              2.5         \n",
       "    cholesterol saturated.fat.per.gram\n",
       "909  31         0.5071429             \n",
       "910  31         0.5071429             \n",
       "710 247         0.5053097             \n",
       "711 247         0.5053097             \n",
       "913  11         0.5000000             \n",
       "914  11         0.5000000             "
      ]
     },
     "metadata": {},
     "output_type": "display_data"
    }
   ],
   "source": [
    "#Sorting saturated fat per gram feature\n",
    "data <- data[order(data$saturated.fat.per.gram, decreasing=T),]\n",
    "head(data)"
   ]
  },
  {
   "cell_type": "markdown",
   "id": "2664ff42",
   "metadata": {
    "heading_collapsed": true
   },
   "source": [
    "### LIST FIVE ITEMS HAVE HIGH SATURATED FAT PER GRAM"
   ]
  },
  {
   "cell_type": "code",
   "execution_count": 89,
   "id": "20d1ed0a",
   "metadata": {
    "hidden": true
   },
   "outputs": [
    {
     "data": {
      "text/html": [
       "<style>\n",
       ".list-inline {list-style: none; margin:0; padding: 0}\n",
       ".list-inline>li {display: inline-block}\n",
       ".list-inline>li:not(:last-child)::after {content: \"\\00b7\"; padding: 0 .5ex}\n",
       "</style>\n",
       "<ol class=list-inline><li><span style=white-space:pre-wrap>'BUTTER; SALTED                1 TBSP  '</span></li><li><span style=white-space:pre-wrap>'BUTTER; UNSALTED              1 TBSP  '</span></li><li><span style=white-space:pre-wrap>'BUTTER; SALTED                1/2 CUP '</span></li><li><span style=white-space:pre-wrap>'BUTTER; UNSALTED              1/2 CUP '</span></li><li><span style=white-space:pre-wrap>'BUTTER; SALTED                1 PAT   '</span></li></ol>\n"
      ],
      "text/latex": [
       "\\begin{enumerate*}\n",
       "\\item 'BUTTER; SALTED                1 TBSP  '\n",
       "\\item 'BUTTER; UNSALTED              1 TBSP  '\n",
       "\\item 'BUTTER; SALTED                1/2 CUP '\n",
       "\\item 'BUTTER; UNSALTED              1/2 CUP '\n",
       "\\item 'BUTTER; SALTED                1 PAT   '\n",
       "\\end{enumerate*}\n"
      ],
      "text/markdown": [
       "1. <span style=white-space:pre-wrap>'BUTTER; SALTED                1 TBSP  '</span>\n",
       "2. <span style=white-space:pre-wrap>'BUTTER; UNSALTED              1 TBSP  '</span>\n",
       "3. <span style=white-space:pre-wrap>'BUTTER; SALTED                1/2 CUP '</span>\n",
       "4. <span style=white-space:pre-wrap>'BUTTER; UNSALTED              1/2 CUP '</span>\n",
       "5. <span style=white-space:pre-wrap>'BUTTER; SALTED                1 PAT   '</span>\n",
       "\n",
       "\n"
      ],
      "text/plain": [
       "[1] \"BUTTER; SALTED                1 TBSP  \"\n",
       "[2] \"BUTTER; UNSALTED              1 TBSP  \"\n",
       "[3] \"BUTTER; SALTED                1/2 CUP \"\n",
       "[4] \"BUTTER; UNSALTED              1/2 CUP \"\n",
       "[5] \"BUTTER; SALTED                1 PAT   \""
      ]
     },
     "metadata": {},
     "output_type": "display_data"
    }
   ],
   "source": [
    "#Top five foot items have high saturated fat per gram\n",
    "head(data$food.item)[0:5]"
   ]
  },
  {
   "cell_type": "markdown",
   "id": "0be50283",
   "metadata": {
    "heading_collapsed": true
   },
   "source": [
    "### WHICH FOOD HAS THE MOST SATURATED FAT PER GRAM ?"
   ]
  },
  {
   "cell_type": "markdown",
   "id": "0db3958a",
   "metadata": {
    "hidden": true
   },
   "source": [
    "- Butter Salted 1 TBSP and Butter Unsalted 1 TBSP has the most saturated fat per gram"
   ]
  },
  {
   "cell_type": "markdown",
   "id": "4977cfba",
   "metadata": {},
   "source": [
    "# STANDARDIZE (ZERO MEAN) THE FIELD SATURATED_ FAT_ PER_GRAM, AND PRODUCE A LISTING OF ALL THE FOOD ITEMS THAT ARE OUTLIERS AT THE HIGH END OF THE SCALE. HOW MANY FOOD ITEMS ARE OUTLIERS AT THE LOW END OF THE SCALE? CREATE A DENSITY PLOT FOR SATURATED_ FAT_ PER_GRAM."
   ]
  },
  {
   "cell_type": "markdown",
   "id": "e1e2bdb7",
   "metadata": {
    "heading_collapsed": true
   },
   "source": [
    "### DETECTING OUTLIERS USING Z-SCORE ON SATURATED_ FAT_ PER_GRAM"
   ]
  },
  {
   "cell_type": "code",
   "execution_count": 90,
   "id": "c28f3105",
   "metadata": {
    "hidden": true
   },
   "outputs": [
    {
     "data": {
      "text/html": [
       "<style>\n",
       ".list-inline {list-style: none; margin:0; padding: 0}\n",
       ".list-inline>li {display: inline-block}\n",
       ".list-inline>li:not(:last-child)::after {content: \"\\00b7\"; padding: 0 .5ex}\n",
       "</style>\n",
       "<ol class=list-inline><li>7.10677489432831</li><li>7.10677489432831</li><li>7.0790551253279</li><li>7.0790551253279</li><li>6.99876338063706</li><li>6.99876338063706</li></ol>\n"
      ],
      "text/latex": [
       "\\begin{enumerate*}\n",
       "\\item 7.10677489432831\n",
       "\\item 7.10677489432831\n",
       "\\item 7.0790551253279\n",
       "\\item 7.0790551253279\n",
       "\\item 6.99876338063706\n",
       "\\item 6.99876338063706\n",
       "\\end{enumerate*}\n"
      ],
      "text/markdown": [
       "1. 7.10677489432831\n",
       "2. 7.10677489432831\n",
       "3. 7.0790551253279\n",
       "4. 7.0790551253279\n",
       "5. 6.99876338063706\n",
       "6. 6.99876338063706\n",
       "\n",
       "\n"
      ],
      "text/plain": [
       "[1] 7.106775 7.106775 7.079055 7.079055 6.998763 6.998763"
      ]
     },
     "metadata": {},
     "output_type": "display_data"
    }
   ],
   "source": [
    "#Computing z score for saturated fat per gram\n",
    "z_score = abs((data$saturated.fat.per.gram - mean(data$saturated.fat.per.gram))/sd(data$saturated.fat.per.gram))\n",
    "head(z_score)"
   ]
  },
  {
   "cell_type": "code",
   "execution_count": 91,
   "id": "02fc346c",
   "metadata": {
    "hidden": true
   },
   "outputs": [],
   "source": [
    "#Extracting outliers where value of z score greater than 3\n",
    "outliers<-data.frame(data$saturated.fat.per.gram,z_score)\n",
    "outliers$is.outliers <- ifelse(outliers$z_score>3,'Outliers','Not Outliers')"
   ]
  },
  {
   "cell_type": "code",
   "execution_count": 92,
   "id": "67f002df",
   "metadata": {
    "hidden": true
   },
   "outputs": [
    {
     "data": {
      "text/html": [
       "<table class=\"dataframe\">\n",
       "<caption>A data.frame: 6 × 3</caption>\n",
       "<thead>\n",
       "\t<tr><th></th><th scope=col>data.saturated.fat.per.gram</th><th scope=col>z_score</th><th scope=col>is.outliers</th></tr>\n",
       "\t<tr><th></th><th scope=col>&lt;dbl&gt;</th><th scope=col>&lt;dbl&gt;</th><th scope=col>&lt;chr&gt;</th></tr>\n",
       "</thead>\n",
       "<tbody>\n",
       "\t<tr><th scope=row>1</th><td>0.5071429</td><td>7.106775</td><td>Outliers</td></tr>\n",
       "\t<tr><th scope=row>2</th><td>0.5071429</td><td>7.106775</td><td>Outliers</td></tr>\n",
       "\t<tr><th scope=row>3</th><td>0.5053097</td><td>7.079055</td><td>Outliers</td></tr>\n",
       "\t<tr><th scope=row>4</th><td>0.5053097</td><td>7.079055</td><td>Outliers</td></tr>\n",
       "\t<tr><th scope=row>5</th><td>0.5000000</td><td>6.998763</td><td>Outliers</td></tr>\n",
       "\t<tr><th scope=row>6</th><td>0.5000000</td><td>6.998763</td><td>Outliers</td></tr>\n",
       "</tbody>\n",
       "</table>\n"
      ],
      "text/latex": [
       "A data.frame: 6 × 3\n",
       "\\begin{tabular}{r|lll}\n",
       "  & data.saturated.fat.per.gram & z\\_score & is.outliers\\\\\n",
       "  & <dbl> & <dbl> & <chr>\\\\\n",
       "\\hline\n",
       "\t1 & 0.5071429 & 7.106775 & Outliers\\\\\n",
       "\t2 & 0.5071429 & 7.106775 & Outliers\\\\\n",
       "\t3 & 0.5053097 & 7.079055 & Outliers\\\\\n",
       "\t4 & 0.5053097 & 7.079055 & Outliers\\\\\n",
       "\t5 & 0.5000000 & 6.998763 & Outliers\\\\\n",
       "\t6 & 0.5000000 & 6.998763 & Outliers\\\\\n",
       "\\end{tabular}\n"
      ],
      "text/markdown": [
       "\n",
       "A data.frame: 6 × 3\n",
       "\n",
       "| <!--/--> | data.saturated.fat.per.gram &lt;dbl&gt; | z_score &lt;dbl&gt; | is.outliers &lt;chr&gt; |\n",
       "|---|---|---|---|\n",
       "| 1 | 0.5071429 | 7.106775 | Outliers |\n",
       "| 2 | 0.5071429 | 7.106775 | Outliers |\n",
       "| 3 | 0.5053097 | 7.079055 | Outliers |\n",
       "| 4 | 0.5053097 | 7.079055 | Outliers |\n",
       "| 5 | 0.5000000 | 6.998763 | Outliers |\n",
       "| 6 | 0.5000000 | 6.998763 | Outliers |\n",
       "\n"
      ],
      "text/plain": [
       "  data.saturated.fat.per.gram z_score  is.outliers\n",
       "1 0.5071429                   7.106775 Outliers   \n",
       "2 0.5071429                   7.106775 Outliers   \n",
       "3 0.5053097                   7.079055 Outliers   \n",
       "4 0.5053097                   7.079055 Outliers   \n",
       "5 0.5000000                   6.998763 Outliers   \n",
       "6 0.5000000                   6.998763 Outliers   "
      ]
     },
     "metadata": {},
     "output_type": "display_data"
    }
   ],
   "source": [
    "#Checking few outliers\n",
    "head(outliers)"
   ]
  },
  {
   "cell_type": "code",
   "execution_count": 93,
   "id": "6983049c",
   "metadata": {
    "hidden": true
   },
   "outputs": [
    {
     "data": {
      "text/html": [
       "15"
      ],
      "text/latex": [
       "15"
      ],
      "text/markdown": [
       "15"
      ],
      "text/plain": [
       "[1] 15"
      ]
     },
     "metadata": {},
     "output_type": "display_data"
    }
   ],
   "source": [
    "#Total outliers detected using zscore in saturated fat per gram\n",
    "length(which(outliers$is.outliers=='Outliers'))"
   ]
  },
  {
   "cell_type": "markdown",
   "id": "5286d30d",
   "metadata": {
    "heading_collapsed": true
   },
   "source": [
    "### SUMMARY POINTS ON DETECTING OUTLIERS USING Z-SCORE ON EDUCATION"
   ]
  },
  {
   "cell_type": "markdown",
   "id": "ff986365",
   "metadata": {
    "hidden": true
   },
   "source": [
    "- We have detected 15 records as an outliers in saturated_ fat_ per_gram features"
   ]
  },
  {
   "cell_type": "markdown",
   "id": "773a5f93",
   "metadata": {
    "heading_collapsed": true
   },
   "source": [
    "### DETECTING OUTLIERS USING IQR RANGE METHOD ON EDUCATION"
   ]
  },
  {
   "cell_type": "code",
   "execution_count": 95,
   "id": "eb43dda9",
   "metadata": {
    "hidden": true,
    "scrolled": false
   },
   "outputs": [
    {
     "data": {
      "image/png": "[encoded data removed]",
      "text/plain": [
       "plot without title"
      ]
     },
     "metadata": {
      "image/png": {
       "height": 420,
       "width": 420
      }
     },
     "output_type": "display_data"
    }
   ],
   "source": [
    "boxplot(data$saturated.fat.per.gram,\n",
    "        horizontal = T, \n",
    "        col = 'blue')"
   ]
  },
  {
   "cell_type": "code",
   "execution_count": 27,
   "id": "44cd0a80",
   "metadata": {
    "hidden": true
   },
   "outputs": [],
   "source": [
    "#Computing lower and upper bound using IQR method\n",
    "q1 <- quantile(data$saturated.fat.per.gram, 0.25)\n",
    "q3 <- quantile(data$saturated.fat.per.gram, 0.75)\n",
    "iqr <- q3 - q1\n",
    "Outliers_lower_bound <- data$saturated.fat.per.gram[data$saturated.fat.per.gram<(q1-(1.5*iqr))]\n",
    "Outliers_upper_bound <- data$saturated.fat.per.gram[data$saturated.fat.per.gram>(q3+(1.5*iqr))]"
   ]
  },
  {
   "cell_type": "code",
   "execution_count": 28,
   "id": "4d8314e6",
   "metadata": {
    "hidden": true
   },
   "outputs": [
    {
     "data": {
      "text/html": [
       "0"
      ],
      "text/latex": [
       "0"
      ],
      "text/markdown": [
       "0"
      ],
      "text/plain": [
       "[1] 0"
      ]
     },
     "metadata": {},
     "output_type": "display_data"
    }
   ],
   "source": [
    "#Checking count of lower bound as an outliers in saturated fat per gram\n",
    "length(Outliers_lower_bound)"
   ]
  },
  {
   "cell_type": "code",
   "execution_count": 29,
   "id": "51ff438f",
   "metadata": {
    "hidden": true
   },
   "outputs": [
    {
     "data": {
      "text/html": [
       "85"
      ],
      "text/latex": [
       "85"
      ],
      "text/markdown": [
       "85"
      ],
      "text/plain": [
       "[1] 85"
      ]
     },
     "metadata": {},
     "output_type": "display_data"
    }
   ],
   "source": [
    "#Checking count of upper bound as an outliers in saturated fat per gram\n",
    "length(Outliers_upper_bound)"
   ]
  },
  {
   "cell_type": "code",
   "execution_count": 31,
   "id": "281eb4f9",
   "metadata": {
    "hidden": true
   },
   "outputs": [
    {
     "data": {
      "text/html": [
       "6"
      ],
      "text/latex": [
       "6"
      ],
      "text/markdown": [
       "6"
      ],
      "text/plain": [
       "[1] 6"
      ]
     },
     "metadata": {},
     "output_type": "display_data"
    }
   ],
   "source": [
    "#Extreme outliers in saturated fat per gram\n",
    "length(which(data$saturated.fat.per.gram>0.4))"
   ]
  },
  {
   "cell_type": "code",
   "execution_count": 96,
   "id": "97d92635",
   "metadata": {
    "hidden": true
   },
   "outputs": [
    {
     "data": {
      "text/html": [
       "0.12"
      ],
      "text/latex": [
       "0.12"
      ],
      "text/markdown": [
       "0.12"
      ],
      "text/plain": [
       "[1] 0.12"
      ]
     },
     "metadata": {},
     "output_type": "display_data"
    }
   ],
   "source": [
    "#Minimum value in lower bound as an outliers in saturated fat per gram\n",
    "min(Outliers_upper_bound)"
   ]
  },
  {
   "cell_type": "code",
   "execution_count": 97,
   "id": "f79dd405",
   "metadata": {
    "hidden": true
   },
   "outputs": [
    {
     "data": {
      "text/html": [
       "0.507142857142857"
      ],
      "text/latex": [
       "0.507142857142857"
      ],
      "text/markdown": [
       "0.507142857142857"
      ],
      "text/plain": [
       "[1] 0.5071429"
      ]
     },
     "metadata": {},
     "output_type": "display_data"
    }
   ],
   "source": [
    "#Maximum value in lower bound as an outliers in saturated fat per gram\n",
    "max(Outliers_upper_bound)"
   ]
  },
  {
   "cell_type": "markdown",
   "id": "308a8b11",
   "metadata": {
    "heading_collapsed": true
   },
   "source": [
    "### SUMMARY POINTS ON DETECTING OUTLIERS USING IQR RANGE METHOD ON SATURATED FAT PER GRAM"
   ]
  },
  {
   "cell_type": "markdown",
   "id": "27c19aa5",
   "metadata": {
    "hidden": true
   },
   "source": [
    "- We didn't find any outliers from the lower bound\n",
    "- We have detected 85 records as an outliers from the upper bound in saturated_ fat_ per_gram features\n",
    "- 6 records has been identified as an extreme outliers as it has saturated_ fat_ per_gram more than 0.4"
   ]
  },
  {
   "cell_type": "markdown",
   "id": "9e9b65b8",
   "metadata": {
    "heading_collapsed": true
   },
   "source": [
    "### CREATE DENSITY PLOT ON SATURATED FAT PER GRAM"
   ]
  },
  {
   "cell_type": "code",
   "execution_count": 100,
   "id": "1f285415",
   "metadata": {
    "hidden": true
   },
   "outputs": [
    {
     "data": {
      "text/html": [
       "'Skewness: 3.5613656436704'"
      ],
      "text/latex": [
       "'Skewness: 3.5613656436704'"
      ],
      "text/markdown": [
       "'Skewness: 3.5613656436704'"
      ],
      "text/plain": [
       "[1] \"Skewness: 3.5613656436704\""
      ]
     },
     "metadata": {},
     "output_type": "display_data"
    },
    {
     "data": {
      "text/html": [
       "'Kurtosis: 20.667195974022'"
      ],
      "text/latex": [
       "'Kurtosis: 20.667195974022'"
      ],
      "text/markdown": [
       "'Kurtosis: 20.667195974022'"
      ],
      "text/plain": [
       "[1] \"Kurtosis: 20.667195974022\""
      ]
     },
     "metadata": {},
     "output_type": "display_data"
    },
    {
     "data": {
      "image/png": "[encoded data removed]",
      "text/plain": [
       "Plot with title “Density plot on saturated.fat.per.gram after removing outliers”"
      ]
     },
     "metadata": {
      "image/png": {
       "height": 420,
       "width": 420
      }
     },
     "output_type": "display_data"
    }
   ],
   "source": [
    "density = density(data$saturated.fat.per.gram)\n",
    "skew = skewness(data$saturated.fat.per.gram)\n",
    "kurt = kurtosis(data$saturated.fat.per.gram)\n",
    "\n",
    "plot(density, \n",
    "     col = \"steelblue\",\n",
    "     xlab = 'saturated.fat.per.gram', \n",
    "     main = 'Density plot on saturated.fat.per.gram after removing outliers')\n",
    "polygon(density, col = \"green\")\n",
    "\n",
    "paste0(\"Skewness: \", skew)\n",
    "paste0(\"Kurtosis: \", kurt)"
   ]
  },
  {
   "cell_type": "markdown",
   "id": "9a8076cb",
   "metadata": {
    "heading_collapsed": true
   },
   "source": [
    "### SUMMARY POINTS ON DENSITY PLOT ON SATURATED FAT PER GRAM"
   ]
  },
  {
   "cell_type": "markdown",
   "id": "cf9889ca",
   "metadata": {
    "hidden": true
   },
   "source": [
    "- The distribution plot is right skewed and high kurtosis\n",
    "- saturated_ fat_ per_gram from 0.2 to 0.5 indicator of the outliers"
   ]
  },
  {
   "cell_type": "markdown",
   "id": "6415b980",
   "metadata": {
    "heading_collapsed": true
   },
   "source": [
    "### CREATE DENSITY PLOT ON SATURATED FAT PER GRAM AFTER REMOVING AN OUTLIERS"
   ]
  },
  {
   "cell_type": "code",
   "execution_count": 101,
   "id": "be92cdea",
   "metadata": {
    "hidden": true
   },
   "outputs": [
    {
     "data": {
      "text/html": [
       "'Skewness: 1.45664633556935'"
      ],
      "text/latex": [
       "'Skewness: 1.45664633556935'"
      ],
      "text/markdown": [
       "'Skewness: 1.45664633556935'"
      ],
      "text/plain": [
       "[1] \"Skewness: 1.45664633556935\""
      ]
     },
     "metadata": {},
     "output_type": "display_data"
    },
    {
     "data": {
      "text/html": [
       "'Kurtosis: 4.12135256534577'"
      ],
      "text/latex": [
       "'Kurtosis: 4.12135256534577'"
      ],
      "text/markdown": [
       "'Kurtosis: 4.12135256534577'"
      ],
      "text/plain": [
       "[1] \"Kurtosis: 4.12135256534577\""
      ]
     },
     "metadata": {},
     "output_type": "display_data"
    },
    {
     "data": {
      "image/png": "[encoded data removed]",
      "text/plain": [
       "Plot with title “Density plot on saturated.fat.per.gram after removing outliers”"
      ]
     },
     "metadata": {
      "image/png": {
       "height": 420,
       "width": 420
      }
     },
     "output_type": "display_data"
    }
   ],
   "source": [
    "density = density(data$saturated.fat.per.gram[data$saturated.fat.per.gram<0.12])\n",
    "\n",
    "skew = skewness(data$saturated.fat.per.gram[data$saturated.fat.per.gram<0.12])\n",
    "kurt = kurtosis(data$saturated.fat.per.gram[data$saturated.fat.per.gram<0.12])\n",
    "\n",
    "plot(density, \n",
    "     col = \"steelblue\",\n",
    "     xlab = 'saturated.fat.per.gram', \n",
    "     main = 'Density plot on saturated.fat.per.gram after removing outliers')\n",
    "polygon(density, col = \"green\")\n",
    "\n",
    "paste0(\"Skewness: \", skew)\n",
    "paste0(\"Kurtosis: \", kurt)"
   ]
  },
  {
   "cell_type": "markdown",
   "id": "659e9d93",
   "metadata": {
    "heading_collapsed": true
   },
   "source": [
    "### HYPOTHESIS TEST : WHETHER ABOVE PLOT FOLLOWS NORMAL DISTRIBUTION OR NOT ?"
   ]
  },
  {
   "cell_type": "code",
   "execution_count": 102,
   "id": "7c527bd4",
   "metadata": {
    "hidden": true
   },
   "outputs": [
    {
     "data": {
      "text/plain": [
       "\n",
       "\tJarque-Bera Normality Test\n",
       "\n",
       "data:  data$saturated.fat.per.gram[data$saturated.fat.per.gram < 0.12]\n",
       "JB = 355.68, p-value < 2.2e-16\n",
       "alternative hypothesis: greater\n"
      ]
     },
     "metadata": {},
     "output_type": "display_data"
    }
   ],
   "source": [
    "jarque.test(data$saturated.fat.per.gram[data$saturated.fat.per.gram<0.12])"
   ]
  },
  {
   "cell_type": "markdown",
   "id": "0a5c5291",
   "metadata": {
    "hidden": true
   },
   "source": [
    "- Null Hypothesis: The dataset has a skewness and kurtosis that matches a normal distribution.\n",
    "- Alternative Hypothesis: The dataset has a skewness and kurtosis that does not match a normal distribution.\n",
    "- The p-value of the test turns out to be 2.2e-16. Since this value is less than α = 0.05, \n",
    "- We reject the null hypothesis. \n",
    "- We have sufficient evidence to say that this dataset has a skewness and kurtosis that is different from the normal distribution. "
   ]
  },
  {
   "cell_type": "markdown",
   "id": "d8a98cf3",
   "metadata": {},
   "source": [
    "# END"
   ]
  }
 ],
 "metadata": {
  "kernelspec": {
   "display_name": "Python 3 (ipykernel)",
   "language": "python",
   "name": "python3"
  },
  "language_info": {
   "codemirror_mode": {
    "name": "ipython",
    "version": 3
   },
   "file_extension": ".py",
   "mimetype": "text/x-python",
   "name": "python",
   "nbconvert_exporter": "python",
   "pygments_lexer": "ipython3",
   "version": "3.9.7"
  },
  "toc": {
   "base_numbering": 1,
   "nav_menu": {},
   "number_sections": true,
   "sideBar": true,
   "skip_h1_title": false,
   "title_cell": "Table of Contents",
   "title_sidebar": "Contents",
   "toc_cell": false,
   "toc_position": {},
   "toc_section_display": true,
   "toc_window_display": false
  }
 },
 "nbformat": 4,
 "nbformat_minor": 5
}
